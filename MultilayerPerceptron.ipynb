{
  "nbformat": 4,
  "nbformat_minor": 0,
  "metadata": {
    "colab": {
      "provenance": [],
      "authorship_tag": "ABX9TyOSTMV8kidq+XRoWuU6UATw",
      "include_colab_link": true
    },
    "kernelspec": {
      "name": "python3",
      "display_name": "Python 3"
    },
    "language_info": {
      "name": "python"
    }
  },
  "cells": [
    {
      "cell_type": "markdown",
      "metadata": {
        "id": "view-in-github",
        "colab_type": "text"
      },
      "source": [
        "<a href=\"https://colab.research.google.com/github/kleeresearch/training/blob/main/MultilayerPerceptron.ipynb\" target=\"_parent\"><img src=\"https://colab.research.google.com/assets/colab-badge.svg\" alt=\"Open In Colab\"/></a>"
      ]
    },
    {
      "cell_type": "code",
      "source": [
        "import numpy as np\n"
      ],
      "metadata": {
        "id": "O-DfZKAEVnbb"
      },
      "execution_count": null,
      "outputs": []
    },
    {
      "cell_type": "code",
      "execution_count": 26,
      "metadata": {
        "id": "VD7-jDuQSTJg"
      },
      "outputs": [],
      "source": [
        "class MLP(object):\n",
        "  def __init__(self, input_size, hidden_size, output_size):\n",
        "    self.input_size = input_size\n",
        "    self.hidden_size = hidden_size\n",
        "    self.output_size = output_size\n",
        "\n",
        "    # weight\n",
        "    self.w1_2_3_4 = [[1,10], [1,10]]\n",
        "    self.w5_6 = [[-40], [40]]\n",
        "\n",
        "\n",
        "  def sigmoid(self, x):\n",
        "    return 1 / (1 + np.exp(-x))\n",
        "\n",
        "  def forward(self, X):\n",
        "    self.z1_2 = np.dot(X, self.w1_2_3_4) # 1 x 2\n",
        "    self.h = self.sigmoid(self.z1_2)     # 1 x 2\n",
        "    self.z3 = np.dot(self.h, self.w5_6)  # 1 x 1\n",
        "    self.o = self.sigmoid(self.z3)       # 1 x 1\n",
        "    return self.o\n",
        "\n",
        "  def mse_loss(self, y_true, y_pred):\n",
        "    return np.mean((y_true - y_pred) ** 2)\n",
        "\n",
        "  def backward(self, X, y, y_pred, learning_rate):\n",
        "    dc_do1 = -2 * (y - y_pred)\n",
        "    do1_dz3 = y_pred * (1 - y_pred)\n",
        "    dz3_dw5_6 = self.h\n",
        "    dc_dw5_6 = dc_do1 * do1_dz3 * dz3_dw5_6\n",
        "    self.w5_6 = self.w5_6 + learning_rate * -dc_dw5_6.T\n",
        "    dc_dw1_2_3_4 = dc_do1 * do1_dz3 * np.dot(self.w5_6 * (self.h * (1-self.h)).T, X)\n",
        "\n",
        "    self.w1_2_3_4 = self.w1_2_3_4 + learning_rate * -dc_dw1_2_3_4.T\n",
        "\n",
        "  def train(self, X_train, y_train, epochs, learning_rate):\n",
        "    # for epoch in range(epochs):\n",
        "    for epoch in range(epochs):\n",
        "      for i in range(len(X_train)):\n",
        "        # Forward pass\n",
        "        y_pred = self.forward([X_train[i]])\n",
        "        # Computer and print loss\n",
        "        loss = self.mse_loss([y_train[i]], y_pred)\n",
        "        # Backward pass\n",
        "        self.backward([X_train[i]], [y_train[i]], y_pred, learning_rate)\n",
        "      if np.mod(epoch, 100)==0:\n",
        "        print('epoch=', epoch, 'loss=',loss)"
      ]
    },
    {
      "cell_type": "code",
      "source": [
        "# Data example\n",
        "X_train = np.random.randint(0,2,(100,2))\n",
        "y_train = (X_train[:,0]!=X_train[:,1]).astype(int)"
      ],
      "metadata": {
        "id": "8_PvAkWqTPN4"
      },
      "execution_count": 27,
      "outputs": []
    },
    {
      "cell_type": "code",
      "source": [
        "X_train[1]"
      ],
      "metadata": {
        "colab": {
          "base_uri": "https://localhost:8080/"
        },
        "id": "01z5uKM5TPQj",
        "outputId": "ed42e737-25d7-491e-b16a-960ddaa592d3"
      },
      "execution_count": 28,
      "outputs": [
        {
          "output_type": "execute_result",
          "data": {
            "text/plain": [
              "array([1, 1])"
            ]
          },
          "metadata": {},
          "execution_count": 28
        }
      ]
    },
    {
      "cell_type": "code",
      "source": [
        "y_train[1]"
      ],
      "metadata": {
        "colab": {
          "base_uri": "https://localhost:8080/"
        },
        "id": "odhMRYo4TPTR",
        "outputId": "42caa067-cafe-4a6d-ea40-60b6fefa9c9a"
      },
      "execution_count": 29,
      "outputs": [
        {
          "output_type": "execute_result",
          "data": {
            "text/plain": [
              "0"
            ]
          },
          "metadata": {},
          "execution_count": 29
        }
      ]
    },
    {
      "cell_type": "code",
      "source": [
        "# multilayer perceptron\n",
        "mlp = MLP(input_size=2, hidden_size=2, output_size=1)"
      ],
      "metadata": {
        "id": "gIph6zBaTPWN"
      },
      "execution_count": 30,
      "outputs": []
    },
    {
      "cell_type": "code",
      "source": [
        "# model learning\n",
        "mlp.train(X_train, y_train, epochs=1000, learning_rate=0.1)"
      ],
      "metadata": {
        "colab": {
          "base_uri": "https://localhost:8080/"
        },
        "id": "PzTOsPiGTPZi",
        "outputId": "44e24816-3bea-42f5-c2bc-d171aab8a0ae"
      },
      "execution_count": 31,
      "outputs": [
        {
          "output_type": "stream",
          "name": "stdout",
          "text": [
            "epoch= 0 loss= 0.2797550313304313\n",
            "epoch= 100 loss= 0.0021718603592087104\n",
            "epoch= 200 loss= 0.0018010149797972681\n",
            "epoch= 300 loss= 0.0016655789787242317\n",
            "epoch= 400 loss= 0.0015937055309197068\n",
            "epoch= 500 loss= 0.0015477575160030511\n",
            "epoch= 600 loss= 0.0015145879153392982\n",
            "epoch= 700 loss= 0.0014884623980050153\n",
            "epoch= 800 loss= 0.0014665312869768456\n",
            "epoch= 900 loss= 0.0014472523520285554\n"
          ]
        }
      ]
    },
    {
      "cell_type": "code",
      "source": [
        "# test value to predict\n",
        "test_input = np.array([[0,0]])\n",
        "predicted_output = mlp.forward(test_input)\n",
        "print(\"Predicted Output:\", test_input, predicted_output)\n",
        "test_input = np.array([[1,0]])\n",
        "predicted_output = mlp.forward(test_input)\n",
        "print(\"Predicted Output:\", test_input, predicted_output)\n",
        "test_input = np.array([[0,1]])\n",
        "predicted_output = mlp.forward(test_input)\n",
        "print(\"Predicted Output:\", test_input, predicted_output)\n",
        "test_input = np.array([[1,1]])\n",
        "predicted_output = mlp.forward(test_input)\n",
        "print(\"Predicted Output:\", test_input, predicted_output)"
      ],
      "metadata": {
        "colab": {
          "base_uri": "https://localhost:8080/"
        },
        "id": "-oPLe_LsTPbn",
        "outputId": "ba6498e5-9cfc-4b71-b18b-5ef204f27b47"
      },
      "execution_count": 32,
      "outputs": [
        {
          "output_type": "stream",
          "name": "stdout",
          "text": [
            "Predicted Output: [[0 0]] [[0.01169995]]\n",
            "Predicted Output: [[1 0]] [[0.96644274]]\n",
            "Predicted Output: [[0 1]] [[0.97314254]]\n",
            "Predicted Output: [[1 1]] [[0.03731333]]\n"
          ]
        }
      ]
    },
    {
      "cell_type": "code",
      "source": [],
      "metadata": {
        "id": "QNmta9w0TPfH"
      },
      "execution_count": null,
      "outputs": []
    },
    {
      "cell_type": "code",
      "source": [],
      "metadata": {
        "id": "MhXznZlwTPg_"
      },
      "execution_count": null,
      "outputs": []
    }
  ]
}