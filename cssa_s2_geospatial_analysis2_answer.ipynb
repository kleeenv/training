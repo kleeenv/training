{
  "nbformat": 4,
  "nbformat_minor": 0,
  "metadata": {
    "colab": {
      "provenance": [],
      "authorship_tag": "ABX9TyP2wzRvltd6Fetsdbs63DJh",
      "include_colab_link": true
    },
    "kernelspec": {
      "name": "python3",
      "display_name": "Python 3"
    },
    "language_info": {
      "name": "python"
    }
  },
  "cells": [
    {
      "cell_type": "markdown",
      "metadata": {
        "id": "view-in-github",
        "colab_type": "text"
      },
      "source": [
        "<a href=\"https://colab.research.google.com/github/kleeresearch/training/blob/main/cssa_s2_geospatial_analysis2_answer.ipynb\" target=\"_parent\"><img src=\"https://colab.research.google.com/assets/colab-badge.svg\" alt=\"Open In Colab\"/></a>"
      ]
    },
    {
      "cell_type": "markdown",
      "source": [
        "#UD CSSA Training Session 2: Geospatial Analysis \n",
        "----\n",
        "\n",
        "Date: 11/10/2022 \n",
        "\n",
        "Instructor: Kyungmin Lee \n",
        "\n",
        "**Step 1. Load and explore data**\n",
        "  - geodataframe from World Bank \n",
        "  - pandas dataframe using World Bank's API\n",
        "\n",
        "**Step 2. Data manipulation**\n",
        "  - Note difference of joining data: geodataframe to pandas, geodataframe to geodataframe \n",
        "\n",
        "**Step 3. Data visualization**\n",
        "  - Plotting map and see difference of joining data functions: outer and inner  \n",
        "  - Plotting multiple maps\n",
        "\n",
        "**Bonus. Focus on continents**\n",
        "  - Subset by continents \n"
      ],
      "metadata": {
        "id": "B4kvEPtDLRSh"
      }
    },
    {
      "cell_type": "markdown",
      "source": [
        "## Step 1: Load and Explore Data\n",
        "\n",
        "We will use [WB API](\"https://pandas-datareader.readthedocs.io/en/latest/readers/world-bank.html\") to load world map and CO2 intensity data.\n",
        "\n"
      ],
      "metadata": {
        "id": "jwOsAOI5G5O4"
      }
    },
    {
      "cell_type": "code",
      "source": [
        "!pip install geopandas"
      ],
      "metadata": {
        "colab": {
          "base_uri": "https://localhost:8080/"
        },
        "id": "WsXzCjSdMTP6",
        "outputId": "2fbb76b3-b277-42f2-9c88-8b689e644a30"
      },
      "execution_count": 2,
      "outputs": [
        {
          "output_type": "stream",
          "name": "stdout",
          "text": [
            "Looking in indexes: https://pypi.org/simple, https://us-python.pkg.dev/colab-wheels/public/simple/\n",
            "Collecting geopandas\n",
            "  Downloading geopandas-0.10.2-py2.py3-none-any.whl (1.0 MB)\n",
            "\u001b[K     |████████████████████████████████| 1.0 MB 5.6 MB/s \n",
            "\u001b[?25hCollecting pyproj>=2.2.0\n",
            "  Downloading pyproj-3.2.1-cp37-cp37m-manylinux2010_x86_64.whl (6.3 MB)\n",
            "\u001b[K     |████████████████████████████████| 6.3 MB 36.3 MB/s \n",
            "\u001b[?25hCollecting fiona>=1.8\n",
            "  Downloading Fiona-1.8.21-cp37-cp37m-manylinux2014_x86_64.whl (16.7 MB)\n",
            "\u001b[K     |████████████████████████████████| 16.7 MB 204 kB/s \n",
            "\u001b[?25hRequirement already satisfied: shapely>=1.6 in /usr/local/lib/python3.7/dist-packages (from geopandas) (1.8.4)\n",
            "Requirement already satisfied: pandas>=0.25.0 in /usr/local/lib/python3.7/dist-packages (from geopandas) (1.3.5)\n",
            "Requirement already satisfied: certifi in /usr/local/lib/python3.7/dist-packages (from fiona>=1.8->geopandas) (2022.9.24)\n",
            "Requirement already satisfied: setuptools in /usr/local/lib/python3.7/dist-packages (from fiona>=1.8->geopandas) (57.4.0)\n",
            "Requirement already satisfied: click>=4.0 in /usr/local/lib/python3.7/dist-packages (from fiona>=1.8->geopandas) (7.1.2)\n",
            "Collecting cligj>=0.5\n",
            "  Downloading cligj-0.7.2-py3-none-any.whl (7.1 kB)\n",
            "Requirement already satisfied: six>=1.7 in /usr/local/lib/python3.7/dist-packages (from fiona>=1.8->geopandas) (1.15.0)\n",
            "Collecting click-plugins>=1.0\n",
            "  Downloading click_plugins-1.1.1-py2.py3-none-any.whl (7.5 kB)\n",
            "Collecting munch\n",
            "  Downloading munch-2.5.0-py2.py3-none-any.whl (10 kB)\n",
            "Requirement already satisfied: attrs>=17 in /usr/local/lib/python3.7/dist-packages (from fiona>=1.8->geopandas) (22.1.0)\n",
            "Requirement already satisfied: pytz>=2017.3 in /usr/local/lib/python3.7/dist-packages (from pandas>=0.25.0->geopandas) (2022.4)\n",
            "Requirement already satisfied: python-dateutil>=2.7.3 in /usr/local/lib/python3.7/dist-packages (from pandas>=0.25.0->geopandas) (2.8.2)\n",
            "Requirement already satisfied: numpy>=1.17.3 in /usr/local/lib/python3.7/dist-packages (from pandas>=0.25.0->geopandas) (1.21.6)\n",
            "Installing collected packages: munch, cligj, click-plugins, pyproj, fiona, geopandas\n",
            "Successfully installed click-plugins-1.1.1 cligj-0.7.2 fiona-1.8.21 geopandas-0.10.2 munch-2.5.0 pyproj-3.2.1\n"
          ]
        }
      ]
    },
    {
      "cell_type": "code",
      "source": [
        "from pandas_datareader import wb\n",
        "import pandas as pd\n",
        "import geopandas as gp\n",
        "import matplotlib.pyplot as plt"
      ],
      "metadata": {
        "id": "6XCBLb3Jhh-Q"
      },
      "execution_count": 12,
      "outputs": []
    },
    {
      "cell_type": "code",
      "source": [
        "# -- Set default function for loading datasets\n",
        "pd.set_option(\"display.max_columns\", 10)\n",
        "pd.set_option(\"display.max_rows\", 300)\n",
        "pd.set_option(\"display.width\", 1000)"
      ],
      "metadata": {
        "id": "stTVVDHvZob_"
      },
      "execution_count": 85,
      "outputs": []
    },
    {
      "cell_type": "markdown",
      "source": [
        "## Load geodataframe\n",
        "\n",
        "Note: you can also find the [world map](\"https://datacatalog.worldbank.org/search/dataset/0038272\") from the WB opendata platform."
      ],
      "metadata": {
        "id": "AH3bSGDSX_tP"
      }
    },
    {
      "cell_type": "code",
      "source": [
        "# -- Load geodataframe\n",
        "map = gp.read_file(gp.datasets.get_path('naturalearth_lowres'))\n",
        "map"
      ],
      "metadata": {
        "colab": {
          "base_uri": "https://localhost:8080/",
          "height": 424
        },
        "id": "R4PPN8YdMKFo",
        "outputId": "92972d73-43b6-40d4-8f39-ab2e6b88e75c"
      },
      "execution_count": 13,
      "outputs": [
        {
          "output_type": "execute_result",
          "data": {
            "text/plain": [
              "       pop_est      continent                      name iso_a3  gdp_md_est  \\\n",
              "0       920938        Oceania                      Fiji    FJI      8374.0   \n",
              "1     53950935         Africa                  Tanzania    TZA    150600.0   \n",
              "2       603253         Africa                 W. Sahara    ESH       906.5   \n",
              "3     35623680  North America                    Canada    CAN   1674000.0   \n",
              "4    326625791  North America  United States of America    USA  18560000.0   \n",
              "..         ...            ...                       ...    ...         ...   \n",
              "172    7111024         Europe                    Serbia    SRB    101800.0   \n",
              "173     642550         Europe                Montenegro    MNE     10610.0   \n",
              "174    1895250         Europe                    Kosovo    -99     18490.0   \n",
              "175    1218208  North America       Trinidad and Tobago    TTO     43570.0   \n",
              "176   13026129         Africa                  S. Sudan    SSD     20880.0   \n",
              "\n",
              "                                              geometry  \n",
              "0    MULTIPOLYGON (((180.00000 -16.06713, 180.00000...  \n",
              "1    POLYGON ((33.90371 -0.95000, 34.07262 -1.05982...  \n",
              "2    POLYGON ((-8.66559 27.65643, -8.66512 27.58948...  \n",
              "3    MULTIPOLYGON (((-122.84000 49.00000, -122.9742...  \n",
              "4    MULTIPOLYGON (((-122.84000 49.00000, -120.0000...  \n",
              "..                                                 ...  \n",
              "172  POLYGON ((18.82982 45.90887, 18.82984 45.90888...  \n",
              "173  POLYGON ((20.07070 42.58863, 19.80161 42.50009...  \n",
              "174  POLYGON ((20.59025 41.85541, 20.52295 42.21787...  \n",
              "175  POLYGON ((-61.68000 10.76000, -61.10500 10.890...  \n",
              "176  POLYGON ((30.83385 3.50917, 29.95350 4.17370, ...  \n",
              "\n",
              "[177 rows x 6 columns]"
            ],
            "text/html": [
              "\n",
              "  <div id=\"df-d52e01fd-05f7-482d-9df2-a32474ca7058\">\n",
              "    <div class=\"colab-df-container\">\n",
              "      <div>\n",
              "<style scoped>\n",
              "    .dataframe tbody tr th:only-of-type {\n",
              "        vertical-align: middle;\n",
              "    }\n",
              "\n",
              "    .dataframe tbody tr th {\n",
              "        vertical-align: top;\n",
              "    }\n",
              "\n",
              "    .dataframe thead th {\n",
              "        text-align: right;\n",
              "    }\n",
              "</style>\n",
              "<table border=\"1\" class=\"dataframe\">\n",
              "  <thead>\n",
              "    <tr style=\"text-align: right;\">\n",
              "      <th></th>\n",
              "      <th>pop_est</th>\n",
              "      <th>continent</th>\n",
              "      <th>name</th>\n",
              "      <th>iso_a3</th>\n",
              "      <th>gdp_md_est</th>\n",
              "      <th>geometry</th>\n",
              "    </tr>\n",
              "  </thead>\n",
              "  <tbody>\n",
              "    <tr>\n",
              "      <th>0</th>\n",
              "      <td>920938</td>\n",
              "      <td>Oceania</td>\n",
              "      <td>Fiji</td>\n",
              "      <td>FJI</td>\n",
              "      <td>8374.0</td>\n",
              "      <td>MULTIPOLYGON (((180.00000 -16.06713, 180.00000...</td>\n",
              "    </tr>\n",
              "    <tr>\n",
              "      <th>1</th>\n",
              "      <td>53950935</td>\n",
              "      <td>Africa</td>\n",
              "      <td>Tanzania</td>\n",
              "      <td>TZA</td>\n",
              "      <td>150600.0</td>\n",
              "      <td>POLYGON ((33.90371 -0.95000, 34.07262 -1.05982...</td>\n",
              "    </tr>\n",
              "    <tr>\n",
              "      <th>2</th>\n",
              "      <td>603253</td>\n",
              "      <td>Africa</td>\n",
              "      <td>W. Sahara</td>\n",
              "      <td>ESH</td>\n",
              "      <td>906.5</td>\n",
              "      <td>POLYGON ((-8.66559 27.65643, -8.66512 27.58948...</td>\n",
              "    </tr>\n",
              "    <tr>\n",
              "      <th>3</th>\n",
              "      <td>35623680</td>\n",
              "      <td>North America</td>\n",
              "      <td>Canada</td>\n",
              "      <td>CAN</td>\n",
              "      <td>1674000.0</td>\n",
              "      <td>MULTIPOLYGON (((-122.84000 49.00000, -122.9742...</td>\n",
              "    </tr>\n",
              "    <tr>\n",
              "      <th>4</th>\n",
              "      <td>326625791</td>\n",
              "      <td>North America</td>\n",
              "      <td>United States of America</td>\n",
              "      <td>USA</td>\n",
              "      <td>18560000.0</td>\n",
              "      <td>MULTIPOLYGON (((-122.84000 49.00000, -120.0000...</td>\n",
              "    </tr>\n",
              "    <tr>\n",
              "      <th>...</th>\n",
              "      <td>...</td>\n",
              "      <td>...</td>\n",
              "      <td>...</td>\n",
              "      <td>...</td>\n",
              "      <td>...</td>\n",
              "      <td>...</td>\n",
              "    </tr>\n",
              "    <tr>\n",
              "      <th>172</th>\n",
              "      <td>7111024</td>\n",
              "      <td>Europe</td>\n",
              "      <td>Serbia</td>\n",
              "      <td>SRB</td>\n",
              "      <td>101800.0</td>\n",
              "      <td>POLYGON ((18.82982 45.90887, 18.82984 45.90888...</td>\n",
              "    </tr>\n",
              "    <tr>\n",
              "      <th>173</th>\n",
              "      <td>642550</td>\n",
              "      <td>Europe</td>\n",
              "      <td>Montenegro</td>\n",
              "      <td>MNE</td>\n",
              "      <td>10610.0</td>\n",
              "      <td>POLYGON ((20.07070 42.58863, 19.80161 42.50009...</td>\n",
              "    </tr>\n",
              "    <tr>\n",
              "      <th>174</th>\n",
              "      <td>1895250</td>\n",
              "      <td>Europe</td>\n",
              "      <td>Kosovo</td>\n",
              "      <td>-99</td>\n",
              "      <td>18490.0</td>\n",
              "      <td>POLYGON ((20.59025 41.85541, 20.52295 42.21787...</td>\n",
              "    </tr>\n",
              "    <tr>\n",
              "      <th>175</th>\n",
              "      <td>1218208</td>\n",
              "      <td>North America</td>\n",
              "      <td>Trinidad and Tobago</td>\n",
              "      <td>TTO</td>\n",
              "      <td>43570.0</td>\n",
              "      <td>POLYGON ((-61.68000 10.76000, -61.10500 10.890...</td>\n",
              "    </tr>\n",
              "    <tr>\n",
              "      <th>176</th>\n",
              "      <td>13026129</td>\n",
              "      <td>Africa</td>\n",
              "      <td>S. Sudan</td>\n",
              "      <td>SSD</td>\n",
              "      <td>20880.0</td>\n",
              "      <td>POLYGON ((30.83385 3.50917, 29.95350 4.17370, ...</td>\n",
              "    </tr>\n",
              "  </tbody>\n",
              "</table>\n",
              "<p>177 rows × 6 columns</p>\n",
              "</div>\n",
              "      <button class=\"colab-df-convert\" onclick=\"convertToInteractive('df-d52e01fd-05f7-482d-9df2-a32474ca7058')\"\n",
              "              title=\"Convert this dataframe to an interactive table.\"\n",
              "              style=\"display:none;\">\n",
              "        \n",
              "  <svg xmlns=\"http://www.w3.org/2000/svg\" height=\"24px\"viewBox=\"0 0 24 24\"\n",
              "       width=\"24px\">\n",
              "    <path d=\"M0 0h24v24H0V0z\" fill=\"none\"/>\n",
              "    <path d=\"M18.56 5.44l.94 2.06.94-2.06 2.06-.94-2.06-.94-.94-2.06-.94 2.06-2.06.94zm-11 1L8.5 8.5l.94-2.06 2.06-.94-2.06-.94L8.5 2.5l-.94 2.06-2.06.94zm10 10l.94 2.06.94-2.06 2.06-.94-2.06-.94-.94-2.06-.94 2.06-2.06.94z\"/><path d=\"M17.41 7.96l-1.37-1.37c-.4-.4-.92-.59-1.43-.59-.52 0-1.04.2-1.43.59L10.3 9.45l-7.72 7.72c-.78.78-.78 2.05 0 2.83L4 21.41c.39.39.9.59 1.41.59.51 0 1.02-.2 1.41-.59l7.78-7.78 2.81-2.81c.8-.78.8-2.07 0-2.86zM5.41 20L4 18.59l7.72-7.72 1.47 1.35L5.41 20z\"/>\n",
              "  </svg>\n",
              "      </button>\n",
              "      \n",
              "  <style>\n",
              "    .colab-df-container {\n",
              "      display:flex;\n",
              "      flex-wrap:wrap;\n",
              "      gap: 12px;\n",
              "    }\n",
              "\n",
              "    .colab-df-convert {\n",
              "      background-color: #E8F0FE;\n",
              "      border: none;\n",
              "      border-radius: 50%;\n",
              "      cursor: pointer;\n",
              "      display: none;\n",
              "      fill: #1967D2;\n",
              "      height: 32px;\n",
              "      padding: 0 0 0 0;\n",
              "      width: 32px;\n",
              "    }\n",
              "\n",
              "    .colab-df-convert:hover {\n",
              "      background-color: #E2EBFA;\n",
              "      box-shadow: 0px 1px 2px rgba(60, 64, 67, 0.3), 0px 1px 3px 1px rgba(60, 64, 67, 0.15);\n",
              "      fill: #174EA6;\n",
              "    }\n",
              "\n",
              "    [theme=dark] .colab-df-convert {\n",
              "      background-color: #3B4455;\n",
              "      fill: #D2E3FC;\n",
              "    }\n",
              "\n",
              "    [theme=dark] .colab-df-convert:hover {\n",
              "      background-color: #434B5C;\n",
              "      box-shadow: 0px 1px 3px 1px rgba(0, 0, 0, 0.15);\n",
              "      filter: drop-shadow(0px 1px 2px rgba(0, 0, 0, 0.3));\n",
              "      fill: #FFFFFF;\n",
              "    }\n",
              "  </style>\n",
              "\n",
              "      <script>\n",
              "        const buttonEl =\n",
              "          document.querySelector('#df-d52e01fd-05f7-482d-9df2-a32474ca7058 button.colab-df-convert');\n",
              "        buttonEl.style.display =\n",
              "          google.colab.kernel.accessAllowed ? 'block' : 'none';\n",
              "\n",
              "        async function convertToInteractive(key) {\n",
              "          const element = document.querySelector('#df-d52e01fd-05f7-482d-9df2-a32474ca7058');\n",
              "          const dataTable =\n",
              "            await google.colab.kernel.invokeFunction('convertToInteractive',\n",
              "                                                     [key], {});\n",
              "          if (!dataTable) return;\n",
              "\n",
              "          const docLinkHtml = 'Like what you see? Visit the ' +\n",
              "            '<a target=\"_blank\" href=https://colab.research.google.com/notebooks/data_table.ipynb>data table notebook</a>'\n",
              "            + ' to learn more about interactive tables.';\n",
              "          element.innerHTML = '';\n",
              "          dataTable['output_type'] = 'display_data';\n",
              "          await google.colab.output.renderOutput(dataTable, element);\n",
              "          const docLink = document.createElement('div');\n",
              "          docLink.innerHTML = docLinkHtml;\n",
              "          element.appendChild(docLink);\n",
              "        }\n",
              "      </script>\n",
              "    </div>\n",
              "  </div>\n",
              "  "
            ]
          },
          "metadata": {},
          "execution_count": 13
        }
      ]
    },
    {
      "cell_type": "code",
      "source": [
        "# -- Check geodataframe whether it can be used as a base map\n",
        "map['continent'].value_counts() "
      ],
      "metadata": {
        "colab": {
          "base_uri": "https://localhost:8080/"
        },
        "id": "R4jW0RQRoCb5",
        "outputId": "ec8c701b-d1bc-4e05-bf6b-5c7787164f51"
      },
      "execution_count": 14,
      "outputs": [
        {
          "output_type": "execute_result",
          "data": {
            "text/plain": [
              "Africa                     51\n",
              "Asia                       47\n",
              "Europe                     39\n",
              "North America              18\n",
              "South America              13\n",
              "Oceania                     7\n",
              "Seven seas (open ocean)     1\n",
              "Antarctica                  1\n",
              "Name: continent, dtype: int64"
            ]
          },
          "metadata": {},
          "execution_count": 14
        }
      ]
    },
    {
      "cell_type": "code",
      "source": [
        "# -- Check type of the dataset\n",
        "type(map_sub)"
      ],
      "metadata": {
        "colab": {
          "base_uri": "https://localhost:8080/"
        },
        "id": "thIzNLVFtCo4",
        "outputId": "2923394c-f390-4419-f3fb-a86ab9ac28e8"
      },
      "execution_count": 16,
      "outputs": [
        {
          "output_type": "execute_result",
          "data": {
            "text/plain": [
              "geopandas.geodataframe.GeoDataFrame"
            ]
          },
          "metadata": {},
          "execution_count": 16
        }
      ]
    },
    {
      "cell_type": "code",
      "source": [
        "map_sub.plot('pop_est')"
      ],
      "metadata": {
        "colab": {
          "base_uri": "https://localhost:8080/",
          "height": 228
        },
        "id": "_1Sunj0Oa2F0",
        "outputId": "4b541c2a-6860-41e9-c327-8298a7a16349"
      },
      "execution_count": 71,
      "outputs": [
        {
          "output_type": "execute_result",
          "data": {
            "text/plain": [
              "<matplotlib.axes._subplots.AxesSubplot at 0x7f57a3aa61d0>"
            ]
          },
          "metadata": {},
          "execution_count": 71
        },
        {
          "output_type": "display_data",
          "data": {
            "text/plain": [
              "<Figure size 432x288 with 1 Axes>"
            ],
            "image/png": "[encoded data removed]"
          },
          "metadata": {
            "needs_background": "light"
          }
        }
      ]
    },
    {
      "cell_type": "code",
      "source": [
        "# -- Data manipulation \n",
        "\n",
        "# -- Exclude Antartica to see continents more apparent in map \n",
        "map_sub = map[map[\"name\"] != 'Antartica']\n",
        "# -- Set index as name\n",
        "map_sub = map_sub.set_index('name')\n",
        "# -- Change column name (2nd way to rename columns)\n",
        "index_change = {'United States of America': 'United States', 'Russia': 'Russian Federation'}\n",
        "map_sub = map_sub.rename(index=index_change)\n",
        "\n",
        "map_sub"
      ],
      "metadata": {
        "colab": {
          "base_uri": "https://localhost:8080/",
          "height": 455
        },
        "id": "TRb31g9ZMKIs",
        "outputId": "e7e30fef-3281-476c-950d-d81ef0ce3389"
      },
      "execution_count": 15,
      "outputs": [
        {
          "output_type": "execute_result",
          "data": {
            "text/plain": [
              "                       pop_est      continent iso_a3  gdp_md_est  \\\n",
              "name                                                               \n",
              "Fiji                    920938        Oceania    FJI      8374.0   \n",
              "Tanzania              53950935         Africa    TZA    150600.0   \n",
              "W. Sahara               603253         Africa    ESH       906.5   \n",
              "Canada                35623680  North America    CAN   1674000.0   \n",
              "United States        326625791  North America    USA  18560000.0   \n",
              "...                        ...            ...    ...         ...   \n",
              "Serbia                 7111024         Europe    SRB    101800.0   \n",
              "Montenegro              642550         Europe    MNE     10610.0   \n",
              "Kosovo                 1895250         Europe    -99     18490.0   \n",
              "Trinidad and Tobago    1218208  North America    TTO     43570.0   \n",
              "S. Sudan              13026129         Africa    SSD     20880.0   \n",
              "\n",
              "                                                              geometry  \n",
              "name                                                                    \n",
              "Fiji                 MULTIPOLYGON (((180.00000 -16.06713, 180.00000...  \n",
              "Tanzania             POLYGON ((33.90371 -0.95000, 34.07262 -1.05982...  \n",
              "W. Sahara            POLYGON ((-8.66559 27.65643, -8.66512 27.58948...  \n",
              "Canada               MULTIPOLYGON (((-122.84000 49.00000, -122.9742...  \n",
              "United States        MULTIPOLYGON (((-122.84000 49.00000, -120.0000...  \n",
              "...                                                                ...  \n",
              "Serbia               POLYGON ((18.82982 45.90887, 18.82984 45.90888...  \n",
              "Montenegro           POLYGON ((20.07070 42.58863, 19.80161 42.50009...  \n",
              "Kosovo               POLYGON ((20.59025 41.85541, 20.52295 42.21787...  \n",
              "Trinidad and Tobago  POLYGON ((-61.68000 10.76000, -61.10500 10.890...  \n",
              "S. Sudan             POLYGON ((30.83385 3.50917, 29.95350 4.17370, ...  \n",
              "\n",
              "[177 rows x 5 columns]"
            ],
            "text/html": [
              "\n",
              "  <div id=\"df-9dafc370-a9d9-466d-bfc5-927df845ba98\">\n",
              "    <div class=\"colab-df-container\">\n",
              "      <div>\n",
              "<style scoped>\n",
              "    .dataframe tbody tr th:only-of-type {\n",
              "        vertical-align: middle;\n",
              "    }\n",
              "\n",
              "    .dataframe tbody tr th {\n",
              "        vertical-align: top;\n",
              "    }\n",
              "\n",
              "    .dataframe thead th {\n",
              "        text-align: right;\n",
              "    }\n",
              "</style>\n",
              "<table border=\"1\" class=\"dataframe\">\n",
              "  <thead>\n",
              "    <tr style=\"text-align: right;\">\n",
              "      <th></th>\n",
              "      <th>pop_est</th>\n",
              "      <th>continent</th>\n",
              "      <th>iso_a3</th>\n",
              "      <th>gdp_md_est</th>\n",
              "      <th>geometry</th>\n",
              "    </tr>\n",
              "    <tr>\n",
              "      <th>name</th>\n",
              "      <th></th>\n",
              "      <th></th>\n",
              "      <th></th>\n",
              "      <th></th>\n",
              "      <th></th>\n",
              "    </tr>\n",
              "  </thead>\n",
              "  <tbody>\n",
              "    <tr>\n",
              "      <th>Fiji</th>\n",
              "      <td>920938</td>\n",
              "      <td>Oceania</td>\n",
              "      <td>FJI</td>\n",
              "      <td>8374.0</td>\n",
              "      <td>MULTIPOLYGON (((180.00000 -16.06713, 180.00000...</td>\n",
              "    </tr>\n",
              "    <tr>\n",
              "      <th>Tanzania</th>\n",
              "      <td>53950935</td>\n",
              "      <td>Africa</td>\n",
              "      <td>TZA</td>\n",
              "      <td>150600.0</td>\n",
              "      <td>POLYGON ((33.90371 -0.95000, 34.07262 -1.05982...</td>\n",
              "    </tr>\n",
              "    <tr>\n",
              "      <th>W. Sahara</th>\n",
              "      <td>603253</td>\n",
              "      <td>Africa</td>\n",
              "      <td>ESH</td>\n",
              "      <td>906.5</td>\n",
              "      <td>POLYGON ((-8.66559 27.65643, -8.66512 27.58948...</td>\n",
              "    </tr>\n",
              "    <tr>\n",
              "      <th>Canada</th>\n",
              "      <td>35623680</td>\n",
              "      <td>North America</td>\n",
              "      <td>CAN</td>\n",
              "      <td>1674000.0</td>\n",
              "      <td>MULTIPOLYGON (((-122.84000 49.00000, -122.9742...</td>\n",
              "    </tr>\n",
              "    <tr>\n",
              "      <th>United States</th>\n",
              "      <td>326625791</td>\n",
              "      <td>North America</td>\n",
              "      <td>USA</td>\n",
              "      <td>18560000.0</td>\n",
              "      <td>MULTIPOLYGON (((-122.84000 49.00000, -120.0000...</td>\n",
              "    </tr>\n",
              "    <tr>\n",
              "      <th>...</th>\n",
              "      <td>...</td>\n",
              "      <td>...</td>\n",
              "      <td>...</td>\n",
              "      <td>...</td>\n",
              "      <td>...</td>\n",
              "    </tr>\n",
              "    <tr>\n",
              "      <th>Serbia</th>\n",
              "      <td>7111024</td>\n",
              "      <td>Europe</td>\n",
              "      <td>SRB</td>\n",
              "      <td>101800.0</td>\n",
              "      <td>POLYGON ((18.82982 45.90887, 18.82984 45.90888...</td>\n",
              "    </tr>\n",
              "    <tr>\n",
              "      <th>Montenegro</th>\n",
              "      <td>642550</td>\n",
              "      <td>Europe</td>\n",
              "      <td>MNE</td>\n",
              "      <td>10610.0</td>\n",
              "      <td>POLYGON ((20.07070 42.58863, 19.80161 42.50009...</td>\n",
              "    </tr>\n",
              "    <tr>\n",
              "      <th>Kosovo</th>\n",
              "      <td>1895250</td>\n",
              "      <td>Europe</td>\n",
              "      <td>-99</td>\n",
              "      <td>18490.0</td>\n",
              "      <td>POLYGON ((20.59025 41.85541, 20.52295 42.21787...</td>\n",
              "    </tr>\n",
              "    <tr>\n",
              "      <th>Trinidad and Tobago</th>\n",
              "      <td>1218208</td>\n",
              "      <td>North America</td>\n",
              "      <td>TTO</td>\n",
              "      <td>43570.0</td>\n",
              "      <td>POLYGON ((-61.68000 10.76000, -61.10500 10.890...</td>\n",
              "    </tr>\n",
              "    <tr>\n",
              "      <th>S. Sudan</th>\n",
              "      <td>13026129</td>\n",
              "      <td>Africa</td>\n",
              "      <td>SSD</td>\n",
              "      <td>20880.0</td>\n",
              "      <td>POLYGON ((30.83385 3.50917, 29.95350 4.17370, ...</td>\n",
              "    </tr>\n",
              "  </tbody>\n",
              "</table>\n",
              "<p>177 rows × 5 columns</p>\n",
              "</div>\n",
              "      <button class=\"colab-df-convert\" onclick=\"convertToInteractive('df-9dafc370-a9d9-466d-bfc5-927df845ba98')\"\n",
              "              title=\"Convert this dataframe to an interactive table.\"\n",
              "              style=\"display:none;\">\n",
              "        \n",
              "  <svg xmlns=\"http://www.w3.org/2000/svg\" height=\"24px\"viewBox=\"0 0 24 24\"\n",
              "       width=\"24px\">\n",
              "    <path d=\"M0 0h24v24H0V0z\" fill=\"none\"/>\n",
              "    <path d=\"M18.56 5.44l.94 2.06.94-2.06 2.06-.94-2.06-.94-.94-2.06-.94 2.06-2.06.94zm-11 1L8.5 8.5l.94-2.06 2.06-.94-2.06-.94L8.5 2.5l-.94 2.06-2.06.94zm10 10l.94 2.06.94-2.06 2.06-.94-2.06-.94-.94-2.06-.94 2.06-2.06.94z\"/><path d=\"M17.41 7.96l-1.37-1.37c-.4-.4-.92-.59-1.43-.59-.52 0-1.04.2-1.43.59L10.3 9.45l-7.72 7.72c-.78.78-.78 2.05 0 2.83L4 21.41c.39.39.9.59 1.41.59.51 0 1.02-.2 1.41-.59l7.78-7.78 2.81-2.81c.8-.78.8-2.07 0-2.86zM5.41 20L4 18.59l7.72-7.72 1.47 1.35L5.41 20z\"/>\n",
              "  </svg>\n",
              "      </button>\n",
              "      \n",
              "  <style>\n",
              "    .colab-df-container {\n",
              "      display:flex;\n",
              "      flex-wrap:wrap;\n",
              "      gap: 12px;\n",
              "    }\n",
              "\n",
              "    .colab-df-convert {\n",
              "      background-color: #E8F0FE;\n",
              "      border: none;\n",
              "      border-radius: 50%;\n",
              "      cursor: pointer;\n",
              "      display: none;\n",
              "      fill: #1967D2;\n",
              "      height: 32px;\n",
              "      padding: 0 0 0 0;\n",
              "      width: 32px;\n",
              "    }\n",
              "\n",
              "    .colab-df-convert:hover {\n",
              "      background-color: #E2EBFA;\n",
              "      box-shadow: 0px 1px 2px rgba(60, 64, 67, 0.3), 0px 1px 3px 1px rgba(60, 64, 67, 0.15);\n",
              "      fill: #174EA6;\n",
              "    }\n",
              "\n",
              "    [theme=dark] .colab-df-convert {\n",
              "      background-color: #3B4455;\n",
              "      fill: #D2E3FC;\n",
              "    }\n",
              "\n",
              "    [theme=dark] .colab-df-convert:hover {\n",
              "      background-color: #434B5C;\n",
              "      box-shadow: 0px 1px 3px 1px rgba(0, 0, 0, 0.15);\n",
              "      filter: drop-shadow(0px 1px 2px rgba(0, 0, 0, 0.3));\n",
              "      fill: #FFFFFF;\n",
              "    }\n",
              "  </style>\n",
              "\n",
              "      <script>\n",
              "        const buttonEl =\n",
              "          document.querySelector('#df-9dafc370-a9d9-466d-bfc5-927df845ba98 button.colab-df-convert');\n",
              "        buttonEl.style.display =\n",
              "          google.colab.kernel.accessAllowed ? 'block' : 'none';\n",
              "\n",
              "        async function convertToInteractive(key) {\n",
              "          const element = document.querySelector('#df-9dafc370-a9d9-466d-bfc5-927df845ba98');\n",
              "          const dataTable =\n",
              "            await google.colab.kernel.invokeFunction('convertToInteractive',\n",
              "                                                     [key], {});\n",
              "          if (!dataTable) return;\n",
              "\n",
              "          const docLinkHtml = 'Like what you see? Visit the ' +\n",
              "            '<a target=\"_blank\" href=https://colab.research.google.com/notebooks/data_table.ipynb>data table notebook</a>'\n",
              "            + ' to learn more about interactive tables.';\n",
              "          element.innerHTML = '';\n",
              "          dataTable['output_type'] = 'display_data';\n",
              "          await google.colab.output.renderOutput(dataTable, element);\n",
              "          const docLink = document.createElement('div');\n",
              "          docLink.innerHTML = docLinkHtml;\n",
              "          element.appendChild(docLink);\n",
              "        }\n",
              "      </script>\n",
              "    </div>\n",
              "  </div>\n",
              "  "
            ]
          },
          "metadata": {},
          "execution_count": 15
        }
      ]
    },
    {
      "cell_type": "markdown",
      "source": [
        "We can find data of population, GDP, and map polygons. But what if I want to plot that is not included in the geodataframe? This is why we need \"spatial join\" function to merge datasets. Let's load data we want to plot. I will load CO2 intensity data from World Bank (WB) opendata platform using its own Application Programming Interface (API). "
      ],
      "metadata": {
        "id": "w46CvPOfYEcB"
      }
    },
    {
      "cell_type": "markdown",
      "source": [
        "## Load pandas dataframe using WB API\n",
        "\n",
        "Note: you can also find the [CO2 intensity data](\"https://data.worldbank.org/indicator/EN.ATM.CO2E.EG.ZS\") from WB opendata platform website"
      ],
      "metadata": {
        "id": "pSYnOUfbXrIe"
      }
    },
    {
      "cell_type": "code",
      "source": [
        "# -- Load raw dataset I want to see (e.g. CO2 intensity) \n",
        "data = wb.download(indicator=\"EN.ATM.CO2E.EG.ZS\", country=\"all\", start=1950,end=2019)\n",
        "data"
      ],
      "metadata": {
        "colab": {
          "base_uri": "https://localhost:8080/",
          "height": 455
        },
        "id": "dPRoZQugXjZU",
        "outputId": "6fee2c7b-407d-4a63-e908-6adb381e5137"
      },
      "execution_count": 63,
      "outputs": [
        {
          "output_type": "execute_result",
          "data": {
            "text/plain": [
              "                                  EN.ATM.CO2E.EG.ZS\n",
              "country                     year                   \n",
              "Africa Eastern and Southern 2019                NaN\n",
              "                            2018                NaN\n",
              "                            2017                NaN\n",
              "                            2016                NaN\n",
              "                            2015                NaN\n",
              "...                                             ...\n",
              "Zimbabwe                    1964                NaN\n",
              "                            1963                NaN\n",
              "                            1962                NaN\n",
              "                            1961                NaN\n",
              "                            1960                NaN\n",
              "\n",
              "[15960 rows x 1 columns]"
            ],
            "text/html": [
              "\n",
              "  <div id=\"df-2aab1161-0b4d-4fd5-a256-dc045ea2a522\">\n",
              "    <div class=\"colab-df-container\">\n",
              "      <div>\n",
              "<style scoped>\n",
              "    .dataframe tbody tr th:only-of-type {\n",
              "        vertical-align: middle;\n",
              "    }\n",
              "\n",
              "    .dataframe tbody tr th {\n",
              "        vertical-align: top;\n",
              "    }\n",
              "\n",
              "    .dataframe thead th {\n",
              "        text-align: right;\n",
              "    }\n",
              "</style>\n",
              "<table border=\"1\" class=\"dataframe\">\n",
              "  <thead>\n",
              "    <tr style=\"text-align: right;\">\n",
              "      <th></th>\n",
              "      <th></th>\n",
              "      <th>EN.ATM.CO2E.EG.ZS</th>\n",
              "    </tr>\n",
              "    <tr>\n",
              "      <th>country</th>\n",
              "      <th>year</th>\n",
              "      <th></th>\n",
              "    </tr>\n",
              "  </thead>\n",
              "  <tbody>\n",
              "    <tr>\n",
              "      <th rowspan=\"5\" valign=\"top\">Africa Eastern and Southern</th>\n",
              "      <th>2019</th>\n",
              "      <td>NaN</td>\n",
              "    </tr>\n",
              "    <tr>\n",
              "      <th>2018</th>\n",
              "      <td>NaN</td>\n",
              "    </tr>\n",
              "    <tr>\n",
              "      <th>2017</th>\n",
              "      <td>NaN</td>\n",
              "    </tr>\n",
              "    <tr>\n",
              "      <th>2016</th>\n",
              "      <td>NaN</td>\n",
              "    </tr>\n",
              "    <tr>\n",
              "      <th>2015</th>\n",
              "      <td>NaN</td>\n",
              "    </tr>\n",
              "    <tr>\n",
              "      <th>...</th>\n",
              "      <th>...</th>\n",
              "      <td>...</td>\n",
              "    </tr>\n",
              "    <tr>\n",
              "      <th rowspan=\"5\" valign=\"top\">Zimbabwe</th>\n",
              "      <th>1964</th>\n",
              "      <td>NaN</td>\n",
              "    </tr>\n",
              "    <tr>\n",
              "      <th>1963</th>\n",
              "      <td>NaN</td>\n",
              "    </tr>\n",
              "    <tr>\n",
              "      <th>1962</th>\n",
              "      <td>NaN</td>\n",
              "    </tr>\n",
              "    <tr>\n",
              "      <th>1961</th>\n",
              "      <td>NaN</td>\n",
              "    </tr>\n",
              "    <tr>\n",
              "      <th>1960</th>\n",
              "      <td>NaN</td>\n",
              "    </tr>\n",
              "  </tbody>\n",
              "</table>\n",
              "<p>15960 rows × 1 columns</p>\n",
              "</div>\n",
              "      <button class=\"colab-df-convert\" onclick=\"convertToInteractive('df-2aab1161-0b4d-4fd5-a256-dc045ea2a522')\"\n",
              "              title=\"Convert this dataframe to an interactive table.\"\n",
              "              style=\"display:none;\">\n",
              "        \n",
              "  <svg xmlns=\"http://www.w3.org/2000/svg\" height=\"24px\"viewBox=\"0 0 24 24\"\n",
              "       width=\"24px\">\n",
              "    <path d=\"M0 0h24v24H0V0z\" fill=\"none\"/>\n",
              "    <path d=\"M18.56 5.44l.94 2.06.94-2.06 2.06-.94-2.06-.94-.94-2.06-.94 2.06-2.06.94zm-11 1L8.5 8.5l.94-2.06 2.06-.94-2.06-.94L8.5 2.5l-.94 2.06-2.06.94zm10 10l.94 2.06.94-2.06 2.06-.94-2.06-.94-.94-2.06-.94 2.06-2.06.94z\"/><path d=\"M17.41 7.96l-1.37-1.37c-.4-.4-.92-.59-1.43-.59-.52 0-1.04.2-1.43.59L10.3 9.45l-7.72 7.72c-.78.78-.78 2.05 0 2.83L4 21.41c.39.39.9.59 1.41.59.51 0 1.02-.2 1.41-.59l7.78-7.78 2.81-2.81c.8-.78.8-2.07 0-2.86zM5.41 20L4 18.59l7.72-7.72 1.47 1.35L5.41 20z\"/>\n",
              "  </svg>\n",
              "      </button>\n",
              "      \n",
              "  <style>\n",
              "    .colab-df-container {\n",
              "      display:flex;\n",
              "      flex-wrap:wrap;\n",
              "      gap: 12px;\n",
              "    }\n",
              "\n",
              "    .colab-df-convert {\n",
              "      background-color: #E8F0FE;\n",
              "      border: none;\n",
              "      border-radius: 50%;\n",
              "      cursor: pointer;\n",
              "      display: none;\n",
              "      fill: #1967D2;\n",
              "      height: 32px;\n",
              "      padding: 0 0 0 0;\n",
              "      width: 32px;\n",
              "    }\n",
              "\n",
              "    .colab-df-convert:hover {\n",
              "      background-color: #E2EBFA;\n",
              "      box-shadow: 0px 1px 2px rgba(60, 64, 67, 0.3), 0px 1px 3px 1px rgba(60, 64, 67, 0.15);\n",
              "      fill: #174EA6;\n",
              "    }\n",
              "\n",
              "    [theme=dark] .colab-df-convert {\n",
              "      background-color: #3B4455;\n",
              "      fill: #D2E3FC;\n",
              "    }\n",
              "\n",
              "    [theme=dark] .colab-df-convert:hover {\n",
              "      background-color: #434B5C;\n",
              "      box-shadow: 0px 1px 3px 1px rgba(0, 0, 0, 0.15);\n",
              "      filter: drop-shadow(0px 1px 2px rgba(0, 0, 0, 0.3));\n",
              "      fill: #FFFFFF;\n",
              "    }\n",
              "  </style>\n",
              "\n",
              "      <script>\n",
              "        const buttonEl =\n",
              "          document.querySelector('#df-2aab1161-0b4d-4fd5-a256-dc045ea2a522 button.colab-df-convert');\n",
              "        buttonEl.style.display =\n",
              "          google.colab.kernel.accessAllowed ? 'block' : 'none';\n",
              "\n",
              "        async function convertToInteractive(key) {\n",
              "          const element = document.querySelector('#df-2aab1161-0b4d-4fd5-a256-dc045ea2a522');\n",
              "          const dataTable =\n",
              "            await google.colab.kernel.invokeFunction('convertToInteractive',\n",
              "                                                     [key], {});\n",
              "          if (!dataTable) return;\n",
              "\n",
              "          const docLinkHtml = 'Like what you see? Visit the ' +\n",
              "            '<a target=\"_blank\" href=https://colab.research.google.com/notebooks/data_table.ipynb>data table notebook</a>'\n",
              "            + ' to learn more about interactive tables.';\n",
              "          element.innerHTML = '';\n",
              "          dataTable['output_type'] = 'display_data';\n",
              "          await google.colab.output.renderOutput(dataTable, element);\n",
              "          const docLink = document.createElement('div');\n",
              "          docLink.innerHTML = docLinkHtml;\n",
              "          element.appendChild(docLink);\n",
              "        }\n",
              "      </script>\n",
              "    </div>\n",
              "  </div>\n",
              "  "
            ]
          },
          "metadata": {},
          "execution_count": 63
        }
      ]
    },
    {
      "cell_type": "code",
      "source": [
        "# -- Data manipulation \n",
        "\n",
        "# -- Reset index as country\n",
        "data = data.reset_index(1)\n",
        "# -- Rename columns \n",
        "data.columns = ['CO2_year', 'CO2_intensity'] # Be careful to rename it without space\n",
        "\n",
        "data"
      ],
      "metadata": {
        "colab": {
          "base_uri": "https://localhost:8080/",
          "height": 455
        },
        "id": "-RCWDjs1XmVx",
        "outputId": "f9a2af6c-e8f3-409c-d3b4-7caf1ba5ad3a"
      },
      "execution_count": 64,
      "outputs": [
        {
          "output_type": "execute_result",
          "data": {
            "text/plain": [
              "                            CO2_year  CO2_intensity\n",
              "country                                            \n",
              "Africa Eastern and Southern     2019            NaN\n",
              "Africa Eastern and Southern     2018            NaN\n",
              "Africa Eastern and Southern     2017            NaN\n",
              "Africa Eastern and Southern     2016            NaN\n",
              "Africa Eastern and Southern     2015            NaN\n",
              "...                              ...            ...\n",
              "Zimbabwe                        1964            NaN\n",
              "Zimbabwe                        1963            NaN\n",
              "Zimbabwe                        1962            NaN\n",
              "Zimbabwe                        1961            NaN\n",
              "Zimbabwe                        1960            NaN\n",
              "\n",
              "[15960 rows x 2 columns]"
            ],
            "text/html": [
              "\n",
              "  <div id=\"df-f196c927-836c-4af6-acbc-805a4efb4307\">\n",
              "    <div class=\"colab-df-container\">\n",
              "      <div>\n",
              "<style scoped>\n",
              "    .dataframe tbody tr th:only-of-type {\n",
              "        vertical-align: middle;\n",
              "    }\n",
              "\n",
              "    .dataframe tbody tr th {\n",
              "        vertical-align: top;\n",
              "    }\n",
              "\n",
              "    .dataframe thead th {\n",
              "        text-align: right;\n",
              "    }\n",
              "</style>\n",
              "<table border=\"1\" class=\"dataframe\">\n",
              "  <thead>\n",
              "    <tr style=\"text-align: right;\">\n",
              "      <th></th>\n",
              "      <th>CO2_year</th>\n",
              "      <th>CO2_intensity</th>\n",
              "    </tr>\n",
              "    <tr>\n",
              "      <th>country</th>\n",
              "      <th></th>\n",
              "      <th></th>\n",
              "    </tr>\n",
              "  </thead>\n",
              "  <tbody>\n",
              "    <tr>\n",
              "      <th>Africa Eastern and Southern</th>\n",
              "      <td>2019</td>\n",
              "      <td>NaN</td>\n",
              "    </tr>\n",
              "    <tr>\n",
              "      <th>Africa Eastern and Southern</th>\n",
              "      <td>2018</td>\n",
              "      <td>NaN</td>\n",
              "    </tr>\n",
              "    <tr>\n",
              "      <th>Africa Eastern and Southern</th>\n",
              "      <td>2017</td>\n",
              "      <td>NaN</td>\n",
              "    </tr>\n",
              "    <tr>\n",
              "      <th>Africa Eastern and Southern</th>\n",
              "      <td>2016</td>\n",
              "      <td>NaN</td>\n",
              "    </tr>\n",
              "    <tr>\n",
              "      <th>Africa Eastern and Southern</th>\n",
              "      <td>2015</td>\n",
              "      <td>NaN</td>\n",
              "    </tr>\n",
              "    <tr>\n",
              "      <th>...</th>\n",
              "      <td>...</td>\n",
              "      <td>...</td>\n",
              "    </tr>\n",
              "    <tr>\n",
              "      <th>Zimbabwe</th>\n",
              "      <td>1964</td>\n",
              "      <td>NaN</td>\n",
              "    </tr>\n",
              "    <tr>\n",
              "      <th>Zimbabwe</th>\n",
              "      <td>1963</td>\n",
              "      <td>NaN</td>\n",
              "    </tr>\n",
              "    <tr>\n",
              "      <th>Zimbabwe</th>\n",
              "      <td>1962</td>\n",
              "      <td>NaN</td>\n",
              "    </tr>\n",
              "    <tr>\n",
              "      <th>Zimbabwe</th>\n",
              "      <td>1961</td>\n",
              "      <td>NaN</td>\n",
              "    </tr>\n",
              "    <tr>\n",
              "      <th>Zimbabwe</th>\n",
              "      <td>1960</td>\n",
              "      <td>NaN</td>\n",
              "    </tr>\n",
              "  </tbody>\n",
              "</table>\n",
              "<p>15960 rows × 2 columns</p>\n",
              "</div>\n",
              "      <button class=\"colab-df-convert\" onclick=\"convertToInteractive('df-f196c927-836c-4af6-acbc-805a4efb4307')\"\n",
              "              title=\"Convert this dataframe to an interactive table.\"\n",
              "              style=\"display:none;\">\n",
              "        \n",
              "  <svg xmlns=\"http://www.w3.org/2000/svg\" height=\"24px\"viewBox=\"0 0 24 24\"\n",
              "       width=\"24px\">\n",
              "    <path d=\"M0 0h24v24H0V0z\" fill=\"none\"/>\n",
              "    <path d=\"M18.56 5.44l.94 2.06.94-2.06 2.06-.94-2.06-.94-.94-2.06-.94 2.06-2.06.94zm-11 1L8.5 8.5l.94-2.06 2.06-.94-2.06-.94L8.5 2.5l-.94 2.06-2.06.94zm10 10l.94 2.06.94-2.06 2.06-.94-2.06-.94-.94-2.06-.94 2.06-2.06.94z\"/><path d=\"M17.41 7.96l-1.37-1.37c-.4-.4-.92-.59-1.43-.59-.52 0-1.04.2-1.43.59L10.3 9.45l-7.72 7.72c-.78.78-.78 2.05 0 2.83L4 21.41c.39.39.9.59 1.41.59.51 0 1.02-.2 1.41-.59l7.78-7.78 2.81-2.81c.8-.78.8-2.07 0-2.86zM5.41 20L4 18.59l7.72-7.72 1.47 1.35L5.41 20z\"/>\n",
              "  </svg>\n",
              "      </button>\n",
              "      \n",
              "  <style>\n",
              "    .colab-df-container {\n",
              "      display:flex;\n",
              "      flex-wrap:wrap;\n",
              "      gap: 12px;\n",
              "    }\n",
              "\n",
              "    .colab-df-convert {\n",
              "      background-color: #E8F0FE;\n",
              "      border: none;\n",
              "      border-radius: 50%;\n",
              "      cursor: pointer;\n",
              "      display: none;\n",
              "      fill: #1967D2;\n",
              "      height: 32px;\n",
              "      padding: 0 0 0 0;\n",
              "      width: 32px;\n",
              "    }\n",
              "\n",
              "    .colab-df-convert:hover {\n",
              "      background-color: #E2EBFA;\n",
              "      box-shadow: 0px 1px 2px rgba(60, 64, 67, 0.3), 0px 1px 3px 1px rgba(60, 64, 67, 0.15);\n",
              "      fill: #174EA6;\n",
              "    }\n",
              "\n",
              "    [theme=dark] .colab-df-convert {\n",
              "      background-color: #3B4455;\n",
              "      fill: #D2E3FC;\n",
              "    }\n",
              "\n",
              "    [theme=dark] .colab-df-convert:hover {\n",
              "      background-color: #434B5C;\n",
              "      box-shadow: 0px 1px 3px 1px rgba(0, 0, 0, 0.15);\n",
              "      filter: drop-shadow(0px 1px 2px rgba(0, 0, 0, 0.3));\n",
              "      fill: #FFFFFF;\n",
              "    }\n",
              "  </style>\n",
              "\n",
              "      <script>\n",
              "        const buttonEl =\n",
              "          document.querySelector('#df-f196c927-836c-4af6-acbc-805a4efb4307 button.colab-df-convert');\n",
              "        buttonEl.style.display =\n",
              "          google.colab.kernel.accessAllowed ? 'block' : 'none';\n",
              "\n",
              "        async function convertToInteractive(key) {\n",
              "          const element = document.querySelector('#df-f196c927-836c-4af6-acbc-805a4efb4307');\n",
              "          const dataTable =\n",
              "            await google.colab.kernel.invokeFunction('convertToInteractive',\n",
              "                                                     [key], {});\n",
              "          if (!dataTable) return;\n",
              "\n",
              "          const docLinkHtml = 'Like what you see? Visit the ' +\n",
              "            '<a target=\"_blank\" href=https://colab.research.google.com/notebooks/data_table.ipynb>data table notebook</a>'\n",
              "            + ' to learn more about interactive tables.';\n",
              "          element.innerHTML = '';\n",
              "          dataTable['output_type'] = 'display_data';\n",
              "          await google.colab.output.renderOutput(dataTable, element);\n",
              "          const docLink = document.createElement('div');\n",
              "          docLink.innerHTML = docLinkHtml;\n",
              "          element.appendChild(docLink);\n",
              "        }\n",
              "      </script>\n",
              "    </div>\n",
              "  </div>\n",
              "  "
            ]
          },
          "metadata": {},
          "execution_count": 64
        }
      ]
    },
    {
      "cell_type": "code",
      "source": [
        "# -- Check type of the dataset\n",
        "type(data)"
      ],
      "metadata": {
        "colab": {
          "base_uri": "https://localhost:8080/"
        },
        "id": "GthbBivnXobX",
        "outputId": "4f936dc0-4ff2-4612-8016-fcd41ef8ea3f"
      },
      "execution_count": 65,
      "outputs": [
        {
          "output_type": "execute_result",
          "data": {
            "text/plain": [
              "pandas.core.frame.DataFrame"
            ]
          },
          "metadata": {},
          "execution_count": 65
        }
      ]
    },
    {
      "cell_type": "markdown",
      "source": [
        "We can find out the types of data sets are different. Map dataset is based on geodataframe and CO2 intensity data is based on pandas dataframe. In this case, we need to use function of \"data_join\". \n",
        "\n"
      ],
      "metadata": {
        "id": "VjXZsQzgZF6t"
      }
    },
    {
      "cell_type": "markdown",
      "source": [
        "#### FYI, note for spatial join\n",
        "\n",
        "In an attribute join, a GeoSeries or GeoDataFrame is combined with a regular pandas.Series or pandas.DataFrame based on a common variable.\n",
        "https://geopandas.org/en/stable/docs/user_guide/mergingdata.html\n",
        "\n",
        "* **data_join = geodataframe.join(pandas.dataframe)** \n",
        "\n",
        "\n",
        "* **data_spatial join = gpd.sjoin(geodataframe, geodataframe)** \n",
        "\n",
        "(e.g.) join = gpd.sjoin(addresses, pop, how=\"inner\", op=\"within\")\n",
        "\n",
        "https://automating-gis-processes.github.io/CSC18/lessons/L4/spatial-join.html\n",
        "\n",
        "\n",
        "* **GeoDataFrame.sjoin(): joins based on binary predicates (intersects, contains, etc.)**\n",
        "\n",
        "* **GeoDataFrame.sjoin_nearest(): joins based on proximity, with the ability to set a maximum search radius.**\n",
        "\n"
      ],
      "metadata": {
        "id": "XVjuntm_ZWzc"
      }
    },
    {
      "cell_type": "markdown",
      "source": [
        "## Step 2: Spatial join datasets\n",
        "\n",
        "Let's spatial join two datasets (map and CO2 intensity data). There are two representative options of spatial join: outer and inner. Codes below are to check how map looks different depending on how dataframes are joined.\n",
        "\n",
        "[Spatial join options desctiprion](\"https://geopandas.org/en/stable/gallery/spatial_joins.html\")\n",
        "\n",
        "**Option 1. how='outer'** \n",
        "- join as right column \n",
        "- preserve continents data \n",
        "- but include Antartica data (Need to manipulate data or change sjoin options)\n",
        "\n",
        "**Option 2. how='inner'**\n",
        "- join intersects columns \n",
        "- lost some continents data that are not included in new pandas dataframe"
      ],
      "metadata": {
        "id": "wkbc7gHOXLci"
      }
    },
    {
      "cell_type": "code",
      "source": [
        "# -- Join by \"inner\" function\n",
        "data_ji = map_sub.join(data, how='inner') # join interconnected columns\n",
        "data_ji"
      ],
      "metadata": {
        "colab": {
          "base_uri": "https://localhost:8080/",
          "height": 424
        },
        "id": "KzK70o4myCnr",
        "outputId": "a1bfeefd-a300-4481-9e47-15bd6965fefa"
      },
      "execution_count": 79,
      "outputs": [
        {
          "output_type": "execute_result",
          "data": {
            "text/plain": [
              "              pop_est continent iso_a3  gdp_md_est                                           geometry CO2_year  CO2_intensity\n",
              "Afghanistan  34124811      Asia    AFG     64080.0  POLYGON ((66.51861 37.36278, 67.07578 37.35614...     2019            NaN\n",
              "Afghanistan  34124811      Asia    AFG     64080.0  POLYGON ((66.51861 37.36278, 67.07578 37.35614...     2018            NaN\n",
              "Afghanistan  34124811      Asia    AFG     64080.0  POLYGON ((66.51861 37.36278, 67.07578 37.35614...     2017            NaN\n",
              "Afghanistan  34124811      Asia    AFG     64080.0  POLYGON ((66.51861 37.36278, 67.07578 37.35614...     2016            NaN\n",
              "Afghanistan  34124811      Asia    AFG     64080.0  POLYGON ((66.51861 37.36278, 67.07578 37.35614...     2015            NaN\n",
              "...               ...       ...    ...         ...                                                ...      ...            ...\n",
              "Zimbabwe     13805084    Africa    ZWE     28330.0  POLYGON ((31.19141 -22.25151, 30.65987 -22.151...     1964            NaN\n",
              "Zimbabwe     13805084    Africa    ZWE     28330.0  POLYGON ((31.19141 -22.25151, 30.65987 -22.151...     1963            NaN\n",
              "Zimbabwe     13805084    Africa    ZWE     28330.0  POLYGON ((31.19141 -22.25151, 30.65987 -22.151...     1962            NaN\n",
              "Zimbabwe     13805084    Africa    ZWE     28330.0  POLYGON ((31.19141 -22.25151, 30.65987 -22.151...     1961            NaN\n",
              "Zimbabwe     13805084    Africa    ZWE     28330.0  POLYGON ((31.19141 -22.25151, 30.65987 -22.151...     1960            NaN\n",
              "\n",
              "[8640 rows x 7 columns]"
            ],
            "text/html": [
              "\n",
              "  <div id=\"df-efc8fadb-1cfe-4689-a355-6b91915cad2b\">\n",
              "    <div class=\"colab-df-container\">\n",
              "      <div>\n",
              "<style scoped>\n",
              "    .dataframe tbody tr th:only-of-type {\n",
              "        vertical-align: middle;\n",
              "    }\n",
              "\n",
              "    .dataframe tbody tr th {\n",
              "        vertical-align: top;\n",
              "    }\n",
              "\n",
              "    .dataframe thead th {\n",
              "        text-align: right;\n",
              "    }\n",
              "</style>\n",
              "<table border=\"1\" class=\"dataframe\">\n",
              "  <thead>\n",
              "    <tr style=\"text-align: right;\">\n",
              "      <th></th>\n",
              "      <th>pop_est</th>\n",
              "      <th>continent</th>\n",
              "      <th>iso_a3</th>\n",
              "      <th>gdp_md_est</th>\n",
              "      <th>geometry</th>\n",
              "      <th>CO2_year</th>\n",
              "      <th>CO2_intensity</th>\n",
              "    </tr>\n",
              "  </thead>\n",
              "  <tbody>\n",
              "    <tr>\n",
              "      <th>Afghanistan</th>\n",
              "      <td>34124811</td>\n",
              "      <td>Asia</td>\n",
              "      <td>AFG</td>\n",
              "      <td>64080.0</td>\n",
              "      <td>POLYGON ((66.51861 37.36278, 67.07578 37.35614...</td>\n",
              "      <td>2019</td>\n",
              "      <td>NaN</td>\n",
              "    </tr>\n",
              "    <tr>\n",
              "      <th>Afghanistan</th>\n",
              "      <td>34124811</td>\n",
              "      <td>Asia</td>\n",
              "      <td>AFG</td>\n",
              "      <td>64080.0</td>\n",
              "      <td>POLYGON ((66.51861 37.36278, 67.07578 37.35614...</td>\n",
              "      <td>2018</td>\n",
              "      <td>NaN</td>\n",
              "    </tr>\n",
              "    <tr>\n",
              "      <th>Afghanistan</th>\n",
              "      <td>34124811</td>\n",
              "      <td>Asia</td>\n",
              "      <td>AFG</td>\n",
              "      <td>64080.0</td>\n",
              "      <td>POLYGON ((66.51861 37.36278, 67.07578 37.35614...</td>\n",
              "      <td>2017</td>\n",
              "      <td>NaN</td>\n",
              "    </tr>\n",
              "    <tr>\n",
              "      <th>Afghanistan</th>\n",
              "      <td>34124811</td>\n",
              "      <td>Asia</td>\n",
              "      <td>AFG</td>\n",
              "      <td>64080.0</td>\n",
              "      <td>POLYGON ((66.51861 37.36278, 67.07578 37.35614...</td>\n",
              "      <td>2016</td>\n",
              "      <td>NaN</td>\n",
              "    </tr>\n",
              "    <tr>\n",
              "      <th>Afghanistan</th>\n",
              "      <td>34124811</td>\n",
              "      <td>Asia</td>\n",
              "      <td>AFG</td>\n",
              "      <td>64080.0</td>\n",
              "      <td>POLYGON ((66.51861 37.36278, 67.07578 37.35614...</td>\n",
              "      <td>2015</td>\n",
              "      <td>NaN</td>\n",
              "    </tr>\n",
              "    <tr>\n",
              "      <th>...</th>\n",
              "      <td>...</td>\n",
              "      <td>...</td>\n",
              "      <td>...</td>\n",
              "      <td>...</td>\n",
              "      <td>...</td>\n",
              "      <td>...</td>\n",
              "      <td>...</td>\n",
              "    </tr>\n",
              "    <tr>\n",
              "      <th>Zimbabwe</th>\n",
              "      <td>13805084</td>\n",
              "      <td>Africa</td>\n",
              "      <td>ZWE</td>\n",
              "      <td>28330.0</td>\n",
              "      <td>POLYGON ((31.19141 -22.25151, 30.65987 -22.151...</td>\n",
              "      <td>1964</td>\n",
              "      <td>NaN</td>\n",
              "    </tr>\n",
              "    <tr>\n",
              "      <th>Zimbabwe</th>\n",
              "      <td>13805084</td>\n",
              "      <td>Africa</td>\n",
              "      <td>ZWE</td>\n",
              "      <td>28330.0</td>\n",
              "      <td>POLYGON ((31.19141 -22.25151, 30.65987 -22.151...</td>\n",
              "      <td>1963</td>\n",
              "      <td>NaN</td>\n",
              "    </tr>\n",
              "    <tr>\n",
              "      <th>Zimbabwe</th>\n",
              "      <td>13805084</td>\n",
              "      <td>Africa</td>\n",
              "      <td>ZWE</td>\n",
              "      <td>28330.0</td>\n",
              "      <td>POLYGON ((31.19141 -22.25151, 30.65987 -22.151...</td>\n",
              "      <td>1962</td>\n",
              "      <td>NaN</td>\n",
              "    </tr>\n",
              "    <tr>\n",
              "      <th>Zimbabwe</th>\n",
              "      <td>13805084</td>\n",
              "      <td>Africa</td>\n",
              "      <td>ZWE</td>\n",
              "      <td>28330.0</td>\n",
              "      <td>POLYGON ((31.19141 -22.25151, 30.65987 -22.151...</td>\n",
              "      <td>1961</td>\n",
              "      <td>NaN</td>\n",
              "    </tr>\n",
              "    <tr>\n",
              "      <th>Zimbabwe</th>\n",
              "      <td>13805084</td>\n",
              "      <td>Africa</td>\n",
              "      <td>ZWE</td>\n",
              "      <td>28330.0</td>\n",
              "      <td>POLYGON ((31.19141 -22.25151, 30.65987 -22.151...</td>\n",
              "      <td>1960</td>\n",
              "      <td>NaN</td>\n",
              "    </tr>\n",
              "  </tbody>\n",
              "</table>\n",
              "<p>8640 rows × 7 columns</p>\n",
              "</div>\n",
              "      <button class=\"colab-df-convert\" onclick=\"convertToInteractive('df-efc8fadb-1cfe-4689-a355-6b91915cad2b')\"\n",
              "              title=\"Convert this dataframe to an interactive table.\"\n",
              "              style=\"display:none;\">\n",
              "        \n",
              "  <svg xmlns=\"http://www.w3.org/2000/svg\" height=\"24px\"viewBox=\"0 0 24 24\"\n",
              "       width=\"24px\">\n",
              "    <path d=\"M0 0h24v24H0V0z\" fill=\"none\"/>\n",
              "    <path d=\"M18.56 5.44l.94 2.06.94-2.06 2.06-.94-2.06-.94-.94-2.06-.94 2.06-2.06.94zm-11 1L8.5 8.5l.94-2.06 2.06-.94-2.06-.94L8.5 2.5l-.94 2.06-2.06.94zm10 10l.94 2.06.94-2.06 2.06-.94-2.06-.94-.94-2.06-.94 2.06-2.06.94z\"/><path d=\"M17.41 7.96l-1.37-1.37c-.4-.4-.92-.59-1.43-.59-.52 0-1.04.2-1.43.59L10.3 9.45l-7.72 7.72c-.78.78-.78 2.05 0 2.83L4 21.41c.39.39.9.59 1.41.59.51 0 1.02-.2 1.41-.59l7.78-7.78 2.81-2.81c.8-.78.8-2.07 0-2.86zM5.41 20L4 18.59l7.72-7.72 1.47 1.35L5.41 20z\"/>\n",
              "  </svg>\n",
              "      </button>\n",
              "      \n",
              "  <style>\n",
              "    .colab-df-container {\n",
              "      display:flex;\n",
              "      flex-wrap:wrap;\n",
              "      gap: 12px;\n",
              "    }\n",
              "\n",
              "    .colab-df-convert {\n",
              "      background-color: #E8F0FE;\n",
              "      border: none;\n",
              "      border-radius: 50%;\n",
              "      cursor: pointer;\n",
              "      display: none;\n",
              "      fill: #1967D2;\n",
              "      height: 32px;\n",
              "      padding: 0 0 0 0;\n",
              "      width: 32px;\n",
              "    }\n",
              "\n",
              "    .colab-df-convert:hover {\n",
              "      background-color: #E2EBFA;\n",
              "      box-shadow: 0px 1px 2px rgba(60, 64, 67, 0.3), 0px 1px 3px 1px rgba(60, 64, 67, 0.15);\n",
              "      fill: #174EA6;\n",
              "    }\n",
              "\n",
              "    [theme=dark] .colab-df-convert {\n",
              "      background-color: #3B4455;\n",
              "      fill: #D2E3FC;\n",
              "    }\n",
              "\n",
              "    [theme=dark] .colab-df-convert:hover {\n",
              "      background-color: #434B5C;\n",
              "      box-shadow: 0px 1px 3px 1px rgba(0, 0, 0, 0.15);\n",
              "      filter: drop-shadow(0px 1px 2px rgba(0, 0, 0, 0.3));\n",
              "      fill: #FFFFFF;\n",
              "    }\n",
              "  </style>\n",
              "\n",
              "      <script>\n",
              "        const buttonEl =\n",
              "          document.querySelector('#df-efc8fadb-1cfe-4689-a355-6b91915cad2b button.colab-df-convert');\n",
              "        buttonEl.style.display =\n",
              "          google.colab.kernel.accessAllowed ? 'block' : 'none';\n",
              "\n",
              "        async function convertToInteractive(key) {\n",
              "          const element = document.querySelector('#df-efc8fadb-1cfe-4689-a355-6b91915cad2b');\n",
              "          const dataTable =\n",
              "            await google.colab.kernel.invokeFunction('convertToInteractive',\n",
              "                                                     [key], {});\n",
              "          if (!dataTable) return;\n",
              "\n",
              "          const docLinkHtml = 'Like what you see? Visit the ' +\n",
              "            '<a target=\"_blank\" href=https://colab.research.google.com/notebooks/data_table.ipynb>data table notebook</a>'\n",
              "            + ' to learn more about interactive tables.';\n",
              "          element.innerHTML = '';\n",
              "          dataTable['output_type'] = 'display_data';\n",
              "          await google.colab.output.renderOutput(dataTable, element);\n",
              "          const docLink = document.createElement('div');\n",
              "          docLink.innerHTML = docLinkHtml;\n",
              "          element.appendChild(docLink);\n",
              "        }\n",
              "      </script>\n",
              "    </div>\n",
              "  </div>\n",
              "  "
            ]
          },
          "metadata": {},
          "execution_count": 79
        }
      ]
    },
    {
      "cell_type": "code",
      "source": [
        "# -- Plotting \"innter\" functioned dataframe\n",
        "data_ji.plot('pop_est', legend=True, legend_kwds={'label': \"Population Level\", 'orientation': \"vertical\"}, cmap = 'OrRd', figsize=(14,5))\n",
        "plt.title(\"Population Level by Country\", loc = \"left\", fontsize=15)"
      ],
      "metadata": {
        "colab": {
          "base_uri": "https://localhost:8080/",
          "height": 337
        },
        "id": "NG764Hc8acu2",
        "outputId": "bf2d21a7-b943-41f8-fc4d-55090a84664f"
      },
      "execution_count": 81,
      "outputs": [
        {
          "output_type": "execute_result",
          "data": {
            "text/plain": [
              "Text(0.0, 1.0, 'Population Level by Country')"
            ]
          },
          "metadata": {},
          "execution_count": 81
        },
        {
          "output_type": "display_data",
          "data": {
            "text/plain": [
              "<Figure size 1008x360 with 2 Axes>"
            ],
            "image/png": "[encoded data removed]"
          },
          "metadata": {
            "needs_background": "light"
          }
        }
      ]
    },
    {
      "cell_type": "code",
      "source": [
        "# -- Join by \"outer\" function\n",
        "data_jo = map_sub.join(data, how='outer') \n",
        "data_jo"
      ],
      "metadata": {
        "colab": {
          "base_uri": "https://localhost:8080/",
          "height": 424
        },
        "id": "9sRjWA1hN5nu",
        "outputId": "a530de3d-5005-4e32-9061-c60e78057d92"
      },
      "execution_count": 78,
      "outputs": [
        {
          "output_type": "execute_result",
          "data": {
            "text/plain": [
              "                pop_est continent iso_a3  gdp_md_est                                           geometry CO2_year  CO2_intensity\n",
              "Afghanistan  34124811.0      Asia    AFG     64080.0  POLYGON ((66.51861 37.36278, 67.07578 37.35614...     2019            NaN\n",
              "Afghanistan  34124811.0      Asia    AFG     64080.0  POLYGON ((66.51861 37.36278, 67.07578 37.35614...     2018            NaN\n",
              "Afghanistan  34124811.0      Asia    AFG     64080.0  POLYGON ((66.51861 37.36278, 67.07578 37.35614...     2017            NaN\n",
              "Afghanistan  34124811.0      Asia    AFG     64080.0  POLYGON ((66.51861 37.36278, 67.07578 37.35614...     2016            NaN\n",
              "Afghanistan  34124811.0      Asia    AFG     64080.0  POLYGON ((66.51861 37.36278, 67.07578 37.35614...     2015            NaN\n",
              "...                 ...       ...    ...         ...                                                ...      ...            ...\n",
              "Zimbabwe     13805084.0    Africa    ZWE     28330.0  POLYGON ((31.19141 -22.25151, 30.65987 -22.151...     1963            NaN\n",
              "Zimbabwe     13805084.0    Africa    ZWE     28330.0  POLYGON ((31.19141 -22.25151, 30.65987 -22.151...     1962            NaN\n",
              "Zimbabwe     13805084.0    Africa    ZWE     28330.0  POLYGON ((31.19141 -22.25151, 30.65987 -22.151...     1961            NaN\n",
              "Zimbabwe     13805084.0    Africa    ZWE     28330.0  POLYGON ((31.19141 -22.25151, 30.65987 -22.151...     1960            NaN\n",
              "eSwatini      1467152.0    Africa    SWZ     11060.0  POLYGON ((32.07167 -26.73382, 31.86806 -27.177...      NaN            NaN\n",
              "\n",
              "[15993 rows x 7 columns]"
            ],
            "text/html": [
              "\n",
              "  <div id=\"df-cc91ff3c-4f3d-48b6-bf01-95b128cfb53c\">\n",
              "    <div class=\"colab-df-container\">\n",
              "      <div>\n",
              "<style scoped>\n",
              "    .dataframe tbody tr th:only-of-type {\n",
              "        vertical-align: middle;\n",
              "    }\n",
              "\n",
              "    .dataframe tbody tr th {\n",
              "        vertical-align: top;\n",
              "    }\n",
              "\n",
              "    .dataframe thead th {\n",
              "        text-align: right;\n",
              "    }\n",
              "</style>\n",
              "<table border=\"1\" class=\"dataframe\">\n",
              "  <thead>\n",
              "    <tr style=\"text-align: right;\">\n",
              "      <th></th>\n",
              "      <th>pop_est</th>\n",
              "      <th>continent</th>\n",
              "      <th>iso_a3</th>\n",
              "      <th>gdp_md_est</th>\n",
              "      <th>geometry</th>\n",
              "      <th>CO2_year</th>\n",
              "      <th>CO2_intensity</th>\n",
              "    </tr>\n",
              "  </thead>\n",
              "  <tbody>\n",
              "    <tr>\n",
              "      <th>Afghanistan</th>\n",
              "      <td>34124811.0</td>\n",
              "      <td>Asia</td>\n",
              "      <td>AFG</td>\n",
              "      <td>64080.0</td>\n",
              "      <td>POLYGON ((66.51861 37.36278, 67.07578 37.35614...</td>\n",
              "      <td>2019</td>\n",
              "      <td>NaN</td>\n",
              "    </tr>\n",
              "    <tr>\n",
              "      <th>Afghanistan</th>\n",
              "      <td>34124811.0</td>\n",
              "      <td>Asia</td>\n",
              "      <td>AFG</td>\n",
              "      <td>64080.0</td>\n",
              "      <td>POLYGON ((66.51861 37.36278, 67.07578 37.35614...</td>\n",
              "      <td>2018</td>\n",
              "      <td>NaN</td>\n",
              "    </tr>\n",
              "    <tr>\n",
              "      <th>Afghanistan</th>\n",
              "      <td>34124811.0</td>\n",
              "      <td>Asia</td>\n",
              "      <td>AFG</td>\n",
              "      <td>64080.0</td>\n",
              "      <td>POLYGON ((66.51861 37.36278, 67.07578 37.35614...</td>\n",
              "      <td>2017</td>\n",
              "      <td>NaN</td>\n",
              "    </tr>\n",
              "    <tr>\n",
              "      <th>Afghanistan</th>\n",
              "      <td>34124811.0</td>\n",
              "      <td>Asia</td>\n",
              "      <td>AFG</td>\n",
              "      <td>64080.0</td>\n",
              "      <td>POLYGON ((66.51861 37.36278, 67.07578 37.35614...</td>\n",
              "      <td>2016</td>\n",
              "      <td>NaN</td>\n",
              "    </tr>\n",
              "    <tr>\n",
              "      <th>Afghanistan</th>\n",
              "      <td>34124811.0</td>\n",
              "      <td>Asia</td>\n",
              "      <td>AFG</td>\n",
              "      <td>64080.0</td>\n",
              "      <td>POLYGON ((66.51861 37.36278, 67.07578 37.35614...</td>\n",
              "      <td>2015</td>\n",
              "      <td>NaN</td>\n",
              "    </tr>\n",
              "    <tr>\n",
              "      <th>...</th>\n",
              "      <td>...</td>\n",
              "      <td>...</td>\n",
              "      <td>...</td>\n",
              "      <td>...</td>\n",
              "      <td>...</td>\n",
              "      <td>...</td>\n",
              "      <td>...</td>\n",
              "    </tr>\n",
              "    <tr>\n",
              "      <th>Zimbabwe</th>\n",
              "      <td>13805084.0</td>\n",
              "      <td>Africa</td>\n",
              "      <td>ZWE</td>\n",
              "      <td>28330.0</td>\n",
              "      <td>POLYGON ((31.19141 -22.25151, 30.65987 -22.151...</td>\n",
              "      <td>1963</td>\n",
              "      <td>NaN</td>\n",
              "    </tr>\n",
              "    <tr>\n",
              "      <th>Zimbabwe</th>\n",
              "      <td>13805084.0</td>\n",
              "      <td>Africa</td>\n",
              "      <td>ZWE</td>\n",
              "      <td>28330.0</td>\n",
              "      <td>POLYGON ((31.19141 -22.25151, 30.65987 -22.151...</td>\n",
              "      <td>1962</td>\n",
              "      <td>NaN</td>\n",
              "    </tr>\n",
              "    <tr>\n",
              "      <th>Zimbabwe</th>\n",
              "      <td>13805084.0</td>\n",
              "      <td>Africa</td>\n",
              "      <td>ZWE</td>\n",
              "      <td>28330.0</td>\n",
              "      <td>POLYGON ((31.19141 -22.25151, 30.65987 -22.151...</td>\n",
              "      <td>1961</td>\n",
              "      <td>NaN</td>\n",
              "    </tr>\n",
              "    <tr>\n",
              "      <th>Zimbabwe</th>\n",
              "      <td>13805084.0</td>\n",
              "      <td>Africa</td>\n",
              "      <td>ZWE</td>\n",
              "      <td>28330.0</td>\n",
              "      <td>POLYGON ((31.19141 -22.25151, 30.65987 -22.151...</td>\n",
              "      <td>1960</td>\n",
              "      <td>NaN</td>\n",
              "    </tr>\n",
              "    <tr>\n",
              "      <th>eSwatini</th>\n",
              "      <td>1467152.0</td>\n",
              "      <td>Africa</td>\n",
              "      <td>SWZ</td>\n",
              "      <td>11060.0</td>\n",
              "      <td>POLYGON ((32.07167 -26.73382, 31.86806 -27.177...</td>\n",
              "      <td>NaN</td>\n",
              "      <td>NaN</td>\n",
              "    </tr>\n",
              "  </tbody>\n",
              "</table>\n",
              "<p>15993 rows × 7 columns</p>\n",
              "</div>\n",
              "      <button class=\"colab-df-convert\" onclick=\"convertToInteractive('df-cc91ff3c-4f3d-48b6-bf01-95b128cfb53c')\"\n",
              "              title=\"Convert this dataframe to an interactive table.\"\n",
              "              style=\"display:none;\">\n",
              "        \n",
              "  <svg xmlns=\"http://www.w3.org/2000/svg\" height=\"24px\"viewBox=\"0 0 24 24\"\n",
              "       width=\"24px\">\n",
              "    <path d=\"M0 0h24v24H0V0z\" fill=\"none\"/>\n",
              "    <path d=\"M18.56 5.44l.94 2.06.94-2.06 2.06-.94-2.06-.94-.94-2.06-.94 2.06-2.06.94zm-11 1L8.5 8.5l.94-2.06 2.06-.94-2.06-.94L8.5 2.5l-.94 2.06-2.06.94zm10 10l.94 2.06.94-2.06 2.06-.94-2.06-.94-.94-2.06-.94 2.06-2.06.94z\"/><path d=\"M17.41 7.96l-1.37-1.37c-.4-.4-.92-.59-1.43-.59-.52 0-1.04.2-1.43.59L10.3 9.45l-7.72 7.72c-.78.78-.78 2.05 0 2.83L4 21.41c.39.39.9.59 1.41.59.51 0 1.02-.2 1.41-.59l7.78-7.78 2.81-2.81c.8-.78.8-2.07 0-2.86zM5.41 20L4 18.59l7.72-7.72 1.47 1.35L5.41 20z\"/>\n",
              "  </svg>\n",
              "      </button>\n",
              "      \n",
              "  <style>\n",
              "    .colab-df-container {\n",
              "      display:flex;\n",
              "      flex-wrap:wrap;\n",
              "      gap: 12px;\n",
              "    }\n",
              "\n",
              "    .colab-df-convert {\n",
              "      background-color: #E8F0FE;\n",
              "      border: none;\n",
              "      border-radius: 50%;\n",
              "      cursor: pointer;\n",
              "      display: none;\n",
              "      fill: #1967D2;\n",
              "      height: 32px;\n",
              "      padding: 0 0 0 0;\n",
              "      width: 32px;\n",
              "    }\n",
              "\n",
              "    .colab-df-convert:hover {\n",
              "      background-color: #E2EBFA;\n",
              "      box-shadow: 0px 1px 2px rgba(60, 64, 67, 0.3), 0px 1px 3px 1px rgba(60, 64, 67, 0.15);\n",
              "      fill: #174EA6;\n",
              "    }\n",
              "\n",
              "    [theme=dark] .colab-df-convert {\n",
              "      background-color: #3B4455;\n",
              "      fill: #D2E3FC;\n",
              "    }\n",
              "\n",
              "    [theme=dark] .colab-df-convert:hover {\n",
              "      background-color: #434B5C;\n",
              "      box-shadow: 0px 1px 3px 1px rgba(0, 0, 0, 0.15);\n",
              "      filter: drop-shadow(0px 1px 2px rgba(0, 0, 0, 0.3));\n",
              "      fill: #FFFFFF;\n",
              "    }\n",
              "  </style>\n",
              "\n",
              "      <script>\n",
              "        const buttonEl =\n",
              "          document.querySelector('#df-cc91ff3c-4f3d-48b6-bf01-95b128cfb53c button.colab-df-convert');\n",
              "        buttonEl.style.display =\n",
              "          google.colab.kernel.accessAllowed ? 'block' : 'none';\n",
              "\n",
              "        async function convertToInteractive(key) {\n",
              "          const element = document.querySelector('#df-cc91ff3c-4f3d-48b6-bf01-95b128cfb53c');\n",
              "          const dataTable =\n",
              "            await google.colab.kernel.invokeFunction('convertToInteractive',\n",
              "                                                     [key], {});\n",
              "          if (!dataTable) return;\n",
              "\n",
              "          const docLinkHtml = 'Like what you see? Visit the ' +\n",
              "            '<a target=\"_blank\" href=https://colab.research.google.com/notebooks/data_table.ipynb>data table notebook</a>'\n",
              "            + ' to learn more about interactive tables.';\n",
              "          element.innerHTML = '';\n",
              "          dataTable['output_type'] = 'display_data';\n",
              "          await google.colab.output.renderOutput(dataTable, element);\n",
              "          const docLink = document.createElement('div');\n",
              "          docLink.innerHTML = docLinkHtml;\n",
              "          element.appendChild(docLink);\n",
              "        }\n",
              "      </script>\n",
              "    </div>\n",
              "  </div>\n",
              "  "
            ]
          },
          "metadata": {},
          "execution_count": 78
        }
      ]
    },
    {
      "cell_type": "code",
      "source": [
        "# -- Plotting \"outer\" functioned dataframe\n",
        "data_jo.plot('pop_est', legend=True, legend_kwds={'label': \"Population Level\", 'orientation': \"vertical\"}, cmap = 'OrRd', figsize=(14,5))\n",
        "plt.title(\"Population Level by Country\", loc = \"left\", fontsize=15)"
      ],
      "metadata": {
        "colab": {
          "base_uri": "https://localhost:8080/",
          "height": 356
        },
        "id": "r5VV7yUyb1N9",
        "outputId": "a5613dcd-af66-4657-8f6b-2723425a997b"
      },
      "execution_count": 82,
      "outputs": [
        {
          "output_type": "execute_result",
          "data": {
            "text/plain": [
              "Text(0.0, 1.0, 'Population Level by Country')"
            ]
          },
          "metadata": {},
          "execution_count": 82
        },
        {
          "output_type": "display_data",
          "data": {
            "text/plain": [
              "<Figure size 1008x360 with 2 Axes>"
            ],
            "image/png": "[encoded data removed]"
          },
          "metadata": {
            "needs_background": "light"
          }
        }
      ]
    },
    {
      "cell_type": "markdown",
      "source": [
        "Do you find difference of 'inner' and 'outer'?  What is that? Note that the function of spatial join dataframes are important during data manuipulation stage.  "
      ],
      "metadata": {
        "id": "2PXCqPTpcPW1"
      }
    },
    {
      "cell_type": "markdown",
      "source": [
        "#Step3. Data visualization"
      ],
      "metadata": {
        "id": "Q4APrZktcxls"
      }
    },
    {
      "cell_type": "markdown",
      "source": [
        "Note that it is hard to see difference by countries. This is why need data visualization stage. Let's do a simple example of using quantiles and plotting multiple datas in one frame."
      ],
      "metadata": {
        "id": "CjwlH2yCdKKP"
      }
    },
    {
      "cell_type": "code",
      "source": [
        "# -- Plotting\n",
        "data_jo.plot(\"CO2_intensity\", legend=True, legend_kwds={'label': \"CO2 Intensity Level\", 'orientation': \"vertical\"}, cmap = 'Greens', figsize=(14,5))\n",
        "plt.title(\"CO2 Intensity Level by Country\", loc = \"left\", fontsize=15)"
      ],
      "metadata": {
        "colab": {
          "base_uri": "https://localhost:8080/",
          "height": 330
        },
        "id": "Q9sxUCehcL5N",
        "outputId": "19c30345-fa6b-4acb-b94d-63c65548d6bb"
      },
      "execution_count": 84,
      "outputs": [
        {
          "output_type": "execute_result",
          "data": {
            "text/plain": [
              "Text(0.0, 1.0, 'CO2 Intensity Level by Country')"
            ]
          },
          "metadata": {},
          "execution_count": 84
        },
        {
          "output_type": "display_data",
          "data": {
            "text/plain": [
              "<Figure size 1008x360 with 2 Axes>"
            ],
            "image/png": "[encoded data removed]"
          },
          "metadata": {
            "needs_background": "light"
          }
        }
      ]
    },
    {
      "cell_type": "markdown",
      "source": [
        "Let's use quantile to view map more clearly"
      ],
      "metadata": {
        "id": "7hiRR2GRyH_i"
      }
    },
    {
      "cell_type": "code",
      "source": [
        "# -- Install for quantile function\n",
        "!pip install mapclassify"
      ],
      "metadata": {
        "colab": {
          "base_uri": "https://localhost:8080/"
        },
        "id": "REqjACF2mbui",
        "outputId": "12ee4ece-5dde-4eb6-ff8d-7264675688f8"
      },
      "execution_count": null,
      "outputs": [
        {
          "output_type": "stream",
          "name": "stdout",
          "text": [
            "Looking in indexes: https://pypi.org/simple, https://us-python.pkg.dev/colab-wheels/public/simple/\n",
            "Requirement already satisfied: mapclassify in /usr/local/lib/python3.7/dist-packages (2.4.3)\n",
            "Requirement already satisfied: numpy>=1.3 in /usr/local/lib/python3.7/dist-packages (from mapclassify) (1.21.6)\n",
            "Requirement already satisfied: networkx in /usr/local/lib/python3.7/dist-packages (from mapclassify) (2.6.3)\n",
            "Requirement already satisfied: scipy>=1.0 in /usr/local/lib/python3.7/dist-packages (from mapclassify) (1.7.3)\n",
            "Requirement already satisfied: scikit-learn in /usr/local/lib/python3.7/dist-packages (from mapclassify) (1.0.2)\n",
            "Requirement already satisfied: pandas>=1.0 in /usr/local/lib/python3.7/dist-packages (from mapclassify) (1.3.5)\n",
            "Requirement already satisfied: pytz>=2017.3 in /usr/local/lib/python3.7/dist-packages (from pandas>=1.0->mapclassify) (2022.2.1)\n",
            "Requirement already satisfied: python-dateutil>=2.7.3 in /usr/local/lib/python3.7/dist-packages (from pandas>=1.0->mapclassify) (2.8.2)\n",
            "Requirement already satisfied: six>=1.5 in /usr/local/lib/python3.7/dist-packages (from python-dateutil>=2.7.3->pandas>=1.0->mapclassify) (1.15.0)\n",
            "Requirement already satisfied: threadpoolctl>=2.0.0 in /usr/local/lib/python3.7/dist-packages (from scikit-learn->mapclassify) (3.1.0)\n",
            "Requirement already satisfied: joblib>=0.11 in /usr/local/lib/python3.7/dist-packages (from scikit-learn->mapclassify) (1.1.0)\n"
          ]
        }
      ]
    },
    {
      "cell_type": "code",
      "source": [
        "# -- Plotting \n",
        "data_jo.plot('CO2_intensity', legend=True, \n",
        "             cmap = 'Greens', scheme = \"quantiles\", figsize=(14,5))\n",
        "plt.title(\"CO2 Intensity Level by Country\", loc = \"left\", fontsize=15)"
      ],
      "metadata": {
        "colab": {
          "base_uri": "https://localhost:8080/",
          "height": 356
        },
        "id": "Cn6rfNhBNaP6",
        "outputId": "838fc8e7-9637-4a7a-d674-a24612a37e56"
      },
      "execution_count": 83,
      "outputs": [
        {
          "output_type": "execute_result",
          "data": {
            "text/plain": [
              "Text(0.0, 1.0, 'CO2 Intensity Level by Country')"
            ]
          },
          "metadata": {},
          "execution_count": 83
        },
        {
          "output_type": "display_data",
          "data": {
            "text/plain": [
              "<Figure size 1008x360 with 1 Axes>"
            ],
            "image/png": "[encoded data removed]"
          },
          "metadata": {
            "needs_background": "light"
          }
        }
      ]
    },
    {
      "cell_type": "code",
      "source": [
        "# -- Plotting multiple datasets at the same time\n",
        "\n",
        "fig, ax = plt.subplots(1,3, figsize=(21,6))\n",
        "\n",
        "data_jo.plot(\"pop_est\", ax=ax[0], cmap=\"Purples\", legend=True)\n",
        "ax[0].set_title(\"Population\")\n",
        "#ax[0].axis(aspect=\"auto\") # make colorbar equal when plot maps horizontally\n",
        "ax[0].axis(\"equal\")\n",
        "\n",
        "data_jo.plot('gdp_md_est', ax=ax[1], cmap=\"OrRd\", legend=True)\n",
        "ax[1].set_title(\"GDP\")\n",
        "#ax[1].axis(aspect=\"auto\")\n",
        "ax[1].axis(\"equal\")\n",
        "\n",
        "data_jo.plot('CO2_intensity', ax=ax[2], cmap=\"Greens\", legend=True, scheme=\"quantiles\")\n",
        "ax[2].set_title(\"CO2 intensity\")\n",
        "#ax[2].legend(loc = 'lower left')\n",
        "#ax[2].axis(aspect=\"auto\")\n",
        "ax[2].axis(\"equal\")\n",
        "\n",
        "plt.show()"
      ],
      "metadata": {
        "colab": {
          "base_uri": "https://localhost:8080/",
          "height": 390
        },
        "id": "kgdBylPVoQSV",
        "outputId": "8e550860-bcc1-45cb-cefc-52a986f54f8f"
      },
      "execution_count": 26,
      "outputs": [
        {
          "output_type": "display_data",
          "data": {
            "text/plain": [
              "<Figure size 1512x432 with 5 Axes>"
            ],
            "image/png": "[encoded data removed]"
          },
          "metadata": {
            "needs_background": "light"
          }
        }
      ]
    },
    {
      "cell_type": "markdown",
      "source": [
        "# Bonus: Focus on continents\n",
        "\n",
        "What if I want to see the map by continents? Let's subset the dataframes by continents.\n"
      ],
      "metadata": {
        "id": "7Ulw_S8tTJ1i"
      }
    },
    {
      "cell_type": "code",
      "source": [
        "# -- Load data\n",
        "data_jo"
      ],
      "metadata": {
        "colab": {
          "base_uri": "https://localhost:8080/",
          "height": 424
        },
        "id": "ZK4V_H6HS1_V",
        "outputId": "edd14b29-0ddb-4a0b-85cc-fca7f6eb0193"
      },
      "execution_count": 29,
      "outputs": [
        {
          "output_type": "execute_result",
          "data": {
            "text/plain": [
              "                pop_est continent iso_a3  gdp_md_est                                           geometry CO2_year  CO2_intensity\n",
              "Afghanistan  34124811.0      Asia    AFG     64080.0  POLYGON ((66.51861 37.36278, 67.07578 37.35614...     2019            NaN\n",
              "Afghanistan  34124811.0      Asia    AFG     64080.0  POLYGON ((66.51861 37.36278, 67.07578 37.35614...     2018            NaN\n",
              "Afghanistan  34124811.0      Asia    AFG     64080.0  POLYGON ((66.51861 37.36278, 67.07578 37.35614...     2017            NaN\n",
              "Afghanistan  34124811.0      Asia    AFG     64080.0  POLYGON ((66.51861 37.36278, 67.07578 37.35614...     2016            NaN\n",
              "Afghanistan  34124811.0      Asia    AFG     64080.0  POLYGON ((66.51861 37.36278, 67.07578 37.35614...     2015            NaN\n",
              "...                 ...       ...    ...         ...                                                ...      ...            ...\n",
              "Zimbabwe     13805084.0    Africa    ZWE     28330.0  POLYGON ((31.19141 -22.25151, 30.65987 -22.151...     1963            NaN\n",
              "Zimbabwe     13805084.0    Africa    ZWE     28330.0  POLYGON ((31.19141 -22.25151, 30.65987 -22.151...     1962            NaN\n",
              "Zimbabwe     13805084.0    Africa    ZWE     28330.0  POLYGON ((31.19141 -22.25151, 30.65987 -22.151...     1961            NaN\n",
              "Zimbabwe     13805084.0    Africa    ZWE     28330.0  POLYGON ((31.19141 -22.25151, 30.65987 -22.151...     1960            NaN\n",
              "eSwatini      1467152.0    Africa    SWZ     11060.0  POLYGON ((32.07167 -26.73382, 31.86806 -27.177...      NaN            NaN\n",
              "\n",
              "[15993 rows x 7 columns]"
            ],
            "text/html": [
              "\n",
              "  <div id=\"df-c6e0e8a1-1551-42d3-b17f-57680f7c22d5\">\n",
              "    <div class=\"colab-df-container\">\n",
              "      <div>\n",
              "<style scoped>\n",
              "    .dataframe tbody tr th:only-of-type {\n",
              "        vertical-align: middle;\n",
              "    }\n",
              "\n",
              "    .dataframe tbody tr th {\n",
              "        vertical-align: top;\n",
              "    }\n",
              "\n",
              "    .dataframe thead th {\n",
              "        text-align: right;\n",
              "    }\n",
              "</style>\n",
              "<table border=\"1\" class=\"dataframe\">\n",
              "  <thead>\n",
              "    <tr style=\"text-align: right;\">\n",
              "      <th></th>\n",
              "      <th>pop_est</th>\n",
              "      <th>continent</th>\n",
              "      <th>iso_a3</th>\n",
              "      <th>gdp_md_est</th>\n",
              "      <th>geometry</th>\n",
              "      <th>CO2_year</th>\n",
              "      <th>CO2_intensity</th>\n",
              "    </tr>\n",
              "  </thead>\n",
              "  <tbody>\n",
              "    <tr>\n",
              "      <th>Afghanistan</th>\n",
              "      <td>34124811.0</td>\n",
              "      <td>Asia</td>\n",
              "      <td>AFG</td>\n",
              "      <td>64080.0</td>\n",
              "      <td>POLYGON ((66.51861 37.36278, 67.07578 37.35614...</td>\n",
              "      <td>2019</td>\n",
              "      <td>NaN</td>\n",
              "    </tr>\n",
              "    <tr>\n",
              "      <th>Afghanistan</th>\n",
              "      <td>34124811.0</td>\n",
              "      <td>Asia</td>\n",
              "      <td>AFG</td>\n",
              "      <td>64080.0</td>\n",
              "      <td>POLYGON ((66.51861 37.36278, 67.07578 37.35614...</td>\n",
              "      <td>2018</td>\n",
              "      <td>NaN</td>\n",
              "    </tr>\n",
              "    <tr>\n",
              "      <th>Afghanistan</th>\n",
              "      <td>34124811.0</td>\n",
              "      <td>Asia</td>\n",
              "      <td>AFG</td>\n",
              "      <td>64080.0</td>\n",
              "      <td>POLYGON ((66.51861 37.36278, 67.07578 37.35614...</td>\n",
              "      <td>2017</td>\n",
              "      <td>NaN</td>\n",
              "    </tr>\n",
              "    <tr>\n",
              "      <th>Afghanistan</th>\n",
              "      <td>34124811.0</td>\n",
              "      <td>Asia</td>\n",
              "      <td>AFG</td>\n",
              "      <td>64080.0</td>\n",
              "      <td>POLYGON ((66.51861 37.36278, 67.07578 37.35614...</td>\n",
              "      <td>2016</td>\n",
              "      <td>NaN</td>\n",
              "    </tr>\n",
              "    <tr>\n",
              "      <th>Afghanistan</th>\n",
              "      <td>34124811.0</td>\n",
              "      <td>Asia</td>\n",
              "      <td>AFG</td>\n",
              "      <td>64080.0</td>\n",
              "      <td>POLYGON ((66.51861 37.36278, 67.07578 37.35614...</td>\n",
              "      <td>2015</td>\n",
              "      <td>NaN</td>\n",
              "    </tr>\n",
              "    <tr>\n",
              "      <th>...</th>\n",
              "      <td>...</td>\n",
              "      <td>...</td>\n",
              "      <td>...</td>\n",
              "      <td>...</td>\n",
              "      <td>...</td>\n",
              "      <td>...</td>\n",
              "      <td>...</td>\n",
              "    </tr>\n",
              "    <tr>\n",
              "      <th>Zimbabwe</th>\n",
              "      <td>13805084.0</td>\n",
              "      <td>Africa</td>\n",
              "      <td>ZWE</td>\n",
              "      <td>28330.0</td>\n",
              "      <td>POLYGON ((31.19141 -22.25151, 30.65987 -22.151...</td>\n",
              "      <td>1963</td>\n",
              "      <td>NaN</td>\n",
              "    </tr>\n",
              "    <tr>\n",
              "      <th>Zimbabwe</th>\n",
              "      <td>13805084.0</td>\n",
              "      <td>Africa</td>\n",
              "      <td>ZWE</td>\n",
              "      <td>28330.0</td>\n",
              "      <td>POLYGON ((31.19141 -22.25151, 30.65987 -22.151...</td>\n",
              "      <td>1962</td>\n",
              "      <td>NaN</td>\n",
              "    </tr>\n",
              "    <tr>\n",
              "      <th>Zimbabwe</th>\n",
              "      <td>13805084.0</td>\n",
              "      <td>Africa</td>\n",
              "      <td>ZWE</td>\n",
              "      <td>28330.0</td>\n",
              "      <td>POLYGON ((31.19141 -22.25151, 30.65987 -22.151...</td>\n",
              "      <td>1961</td>\n",
              "      <td>NaN</td>\n",
              "    </tr>\n",
              "    <tr>\n",
              "      <th>Zimbabwe</th>\n",
              "      <td>13805084.0</td>\n",
              "      <td>Africa</td>\n",
              "      <td>ZWE</td>\n",
              "      <td>28330.0</td>\n",
              "      <td>POLYGON ((31.19141 -22.25151, 30.65987 -22.151...</td>\n",
              "      <td>1960</td>\n",
              "      <td>NaN</td>\n",
              "    </tr>\n",
              "    <tr>\n",
              "      <th>eSwatini</th>\n",
              "      <td>1467152.0</td>\n",
              "      <td>Africa</td>\n",
              "      <td>SWZ</td>\n",
              "      <td>11060.0</td>\n",
              "      <td>POLYGON ((32.07167 -26.73382, 31.86806 -27.177...</td>\n",
              "      <td>NaN</td>\n",
              "      <td>NaN</td>\n",
              "    </tr>\n",
              "  </tbody>\n",
              "</table>\n",
              "<p>15993 rows × 7 columns</p>\n",
              "</div>\n",
              "      <button class=\"colab-df-convert\" onclick=\"convertToInteractive('df-c6e0e8a1-1551-42d3-b17f-57680f7c22d5')\"\n",
              "              title=\"Convert this dataframe to an interactive table.\"\n",
              "              style=\"display:none;\">\n",
              "        \n",
              "  <svg xmlns=\"http://www.w3.org/2000/svg\" height=\"24px\"viewBox=\"0 0 24 24\"\n",
              "       width=\"24px\">\n",
              "    <path d=\"M0 0h24v24H0V0z\" fill=\"none\"/>\n",
              "    <path d=\"M18.56 5.44l.94 2.06.94-2.06 2.06-.94-2.06-.94-.94-2.06-.94 2.06-2.06.94zm-11 1L8.5 8.5l.94-2.06 2.06-.94-2.06-.94L8.5 2.5l-.94 2.06-2.06.94zm10 10l.94 2.06.94-2.06 2.06-.94-2.06-.94-.94-2.06-.94 2.06-2.06.94z\"/><path d=\"M17.41 7.96l-1.37-1.37c-.4-.4-.92-.59-1.43-.59-.52 0-1.04.2-1.43.59L10.3 9.45l-7.72 7.72c-.78.78-.78 2.05 0 2.83L4 21.41c.39.39.9.59 1.41.59.51 0 1.02-.2 1.41-.59l7.78-7.78 2.81-2.81c.8-.78.8-2.07 0-2.86zM5.41 20L4 18.59l7.72-7.72 1.47 1.35L5.41 20z\"/>\n",
              "  </svg>\n",
              "      </button>\n",
              "      \n",
              "  <style>\n",
              "    .colab-df-container {\n",
              "      display:flex;\n",
              "      flex-wrap:wrap;\n",
              "      gap: 12px;\n",
              "    }\n",
              "\n",
              "    .colab-df-convert {\n",
              "      background-color: #E8F0FE;\n",
              "      border: none;\n",
              "      border-radius: 50%;\n",
              "      cursor: pointer;\n",
              "      display: none;\n",
              "      fill: #1967D2;\n",
              "      height: 32px;\n",
              "      padding: 0 0 0 0;\n",
              "      width: 32px;\n",
              "    }\n",
              "\n",
              "    .colab-df-convert:hover {\n",
              "      background-color: #E2EBFA;\n",
              "      box-shadow: 0px 1px 2px rgba(60, 64, 67, 0.3), 0px 1px 3px 1px rgba(60, 64, 67, 0.15);\n",
              "      fill: #174EA6;\n",
              "    }\n",
              "\n",
              "    [theme=dark] .colab-df-convert {\n",
              "      background-color: #3B4455;\n",
              "      fill: #D2E3FC;\n",
              "    }\n",
              "\n",
              "    [theme=dark] .colab-df-convert:hover {\n",
              "      background-color: #434B5C;\n",
              "      box-shadow: 0px 1px 3px 1px rgba(0, 0, 0, 0.15);\n",
              "      filter: drop-shadow(0px 1px 2px rgba(0, 0, 0, 0.3));\n",
              "      fill: #FFFFFF;\n",
              "    }\n",
              "  </style>\n",
              "\n",
              "      <script>\n",
              "        const buttonEl =\n",
              "          document.querySelector('#df-c6e0e8a1-1551-42d3-b17f-57680f7c22d5 button.colab-df-convert');\n",
              "        buttonEl.style.display =\n",
              "          google.colab.kernel.accessAllowed ? 'block' : 'none';\n",
              "\n",
              "        async function convertToInteractive(key) {\n",
              "          const element = document.querySelector('#df-c6e0e8a1-1551-42d3-b17f-57680f7c22d5');\n",
              "          const dataTable =\n",
              "            await google.colab.kernel.invokeFunction('convertToInteractive',\n",
              "                                                     [key], {});\n",
              "          if (!dataTable) return;\n",
              "\n",
              "          const docLinkHtml = 'Like what you see? Visit the ' +\n",
              "            '<a target=\"_blank\" href=https://colab.research.google.com/notebooks/data_table.ipynb>data table notebook</a>'\n",
              "            + ' to learn more about interactive tables.';\n",
              "          element.innerHTML = '';\n",
              "          dataTable['output_type'] = 'display_data';\n",
              "          await google.colab.output.renderOutput(dataTable, element);\n",
              "          const docLink = document.createElement('div');\n",
              "          docLink.innerHTML = docLinkHtml;\n",
              "          element.appendChild(docLink);\n",
              "        }\n",
              "      </script>\n",
              "    </div>\n",
              "  </div>\n",
              "  "
            ]
          },
          "metadata": {},
          "execution_count": 29
        }
      ]
    },
    {
      "cell_type": "code",
      "source": [
        "# -- Subset dataframe by continents\n",
        "asia = data_jo[data_jo.continent == 'Asia']\n",
        "africa = data_jo[data_jo.continent == 'Africa']\n",
        "europe = data_jo[data_jo.continent == 'Europe']\n",
        "asia.shape, africa.shape, europe.shape"
      ],
      "metadata": {
        "id": "uyhG9rkB1ck4",
        "colab": {
          "base_uri": "https://localhost:8080/"
        },
        "outputId": "27c07a88-5bb3-4f2c-fbf2-b19042881e9c"
      },
      "execution_count": 50,
      "outputs": [
        {
          "output_type": "execute_result",
          "data": {
            "text/plain": [
              "((2112, 7), (2411, 7), (2163, 7))"
            ]
          },
          "metadata": {},
          "execution_count": 50
        }
      ]
    },
    {
      "cell_type": "code",
      "source": [
        "# -- Fit colorbar\n",
        "from mpl_toolkits.axes_grid1 import make_axes_locatable"
      ],
      "metadata": {
        "id": "8XF-AgpfTSvz"
      },
      "execution_count": 32,
      "outputs": []
    },
    {
      "cell_type": "code",
      "source": [
        "# -- Plotting \n",
        "fig, ax = plt.subplots(figsize=(15,15))\n",
        "\n",
        "divider = make_axes_locatable(ax)\n",
        "cax = divider.append_axes(\"right\", size=\"2%\", pad=0.1)\n",
        "\n",
        "asia.plot(ax=ax, color=\"gray\", alpha=0.2)\n",
        "asia.boundary.plot(ax=ax, color=\"black\", lw=0.3)\n",
        "asia.plot('pop_est', ax=ax, cmap=\"YlOrRd\", \n",
        "               legend=True, cax=cax, \n",
        "               legend_kwds={'label': \"Population Level\", 'orientation': \"vertical\"})\n",
        "\n",
        "ax.set_title('Population Level by Country in Asia', loc = 'left', fontsize=15)"
      ],
      "metadata": {
        "colab": {
          "base_uri": "https://localhost:8080/",
          "height": 531
        },
        "id": "JL5_iXXaSy4o",
        "outputId": "f45bf017-d02e-4cbe-ee90-d6bdcb5eff76"
      },
      "execution_count": 39,
      "outputs": [
        {
          "output_type": "execute_result",
          "data": {
            "text/plain": [
              "Text(0.0, 1.0, 'Population Level by Country in Asia')"
            ]
          },
          "metadata": {},
          "execution_count": 39
        },
        {
          "output_type": "display_data",
          "data": {
            "text/plain": [
              "<Figure size 1080x1080 with 2 Axes>"
            ],
            "image/png": "[encoded data removed]"
          },
          "metadata": {
            "needs_background": "light"
          }
        }
      ]
    },
    {
      "cell_type": "code",
      "source": [
        "# -- Plotting\n",
        "fig, ax = plt.subplots(figsize=(10,10))\n",
        "\n",
        "divider = make_axes_locatable(ax)\n",
        "cax = divider.append_axes(\"right\", size=\"2%\", pad=0.1)\n",
        "\n",
        "africa.plot(ax=ax, color=\"gray\", alpha=0.5)\n",
        "africa.boundary.plot(ax=ax, color=\"black\", lw=0.3)\n",
        "africa.plot('CO2_intensity', ax=ax, cmap=\"Greens\", \n",
        "               legend=True, cax=cax,\n",
        "               legend_kwds={'label': \"CO2 Intensity Level\", 'orientation': \"vertical\"})\n",
        "\n",
        "ax.set_title('CO2 Intensity Level by Country in Africa', loc = 'left', fontsize=15)"
      ],
      "metadata": {
        "colab": {
          "base_uri": "https://localhost:8080/",
          "height": 627
        },
        "id": "WutnvE49VASr",
        "outputId": "9dbf3fd7-0da2-4125-d772-bfbfbe1725bd"
      },
      "execution_count": 62,
      "outputs": [
        {
          "output_type": "execute_result",
          "data": {
            "text/plain": [
              "Text(0.0, 1.0, 'CO2 Intensity Level by Country in Africa')"
            ]
          },
          "metadata": {},
          "execution_count": 62
        },
        {
          "output_type": "display_data",
          "data": {
            "text/plain": [
              "<Figure size 720x720 with 2 Axes>"
            ],
            "image/png": "[encoded data removed]"
          },
          "metadata": {
            "needs_background": "light"
          }
        }
      ]
    }
  ]
}