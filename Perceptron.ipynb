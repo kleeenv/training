{
 "cells": [
  {
   "cell_type": "markdown",
   "id": "90aa8622-e12e-42af-aff0-888287a41ee2",
   "metadata": {},
   "source": [
    "# Multilayer Perceptron "
   ]
  },
  {
   "cell_type": "code",
   "execution_count": 1,
   "id": "8a9b93a3-62ea-4fa7-9521-fc6cb675e94b",
   "metadata": {},
   "outputs": [],
   "source": [
    "import numpy as np\n",
    "import matplotlib.pyplot as plt\n",
    "from IPython.display import clear_output"
   ]
  },
  {
   "cell_type": "code",
   "execution_count": 2,
   "id": "576d0d20-df99-4e4b-ab4b-1d70f715f815",
   "metadata": {},
   "outputs": [],
   "source": [
    "def step_function(x):\n",
    "    if x < thres:\n",
    "        return 0\n",
    "    else:\n",
    "        return 1"
   ]
  },
  {
   "cell_type": "code",
   "execution_count": 3,
   "id": "fc48df87-fb43-40a9-bf1e-8649d403db38",
   "metadata": {},
   "outputs": [],
   "source": [
    "def gen_training_data(data_point):\n",
    "    x1 = np.random.random(data_point)\n",
    "    x2 = np.random.random(data_point)\n",
    "    y = ((x1 + x2) >1).astype(int)\n",
    "    training_set = [((x1[i], x2[i]), y[i]) for i in range(len(x1))]\n",
    "    \n",
    "    return training_set"
   ]
  },
  {
   "cell_type": "code",
   "execution_count": 4,
   "id": "578cd557-4510-44aa-aff0-f24629bcbc65",
   "metadata": {},
   "outputs": [],
   "source": [
    "thres = 0.5\n",
    "w = np.array([0.3, 0.9])\n",
    "lr = 0.1\n",
    "data_point = 100\n",
    "epoch = 10\n",
    "training_set = gen_training_data(data_point)"
   ]
  },
  {
   "cell_type": "code",
   "execution_count": 5,
   "id": "471b7a62-70c5-4a7c-8f6d-949b3f93c0b8",
   "metadata": {},
   "outputs": [
    {
     "data": {
      "text/plain": [
       "[((0.36285842184049233, 0.11297766143123555), 0),\n",
       " ((0.9567321169921013, 0.3412662291165244), 1),\n",
       " ((0.6532878717760455, 0.42981416957164553), 1),\n",
       " ((0.0410980327550553, 0.119277903402087), 0),\n",
       " ((0.1314520770072788, 0.29336073889732617), 0)]"
      ]
     },
     "execution_count": 5,
     "metadata": {},
     "output_type": "execute_result"
    }
   ],
   "source": [
    "training_set[0:5]"
   ]
  },
  {
   "cell_type": "code",
   "execution_count": 6,
   "id": "5a632e35-960c-4c25-8401-8c549d452583",
   "metadata": {},
   "outputs": [
    {
     "data": {
      "image/png": "[encoded data removed]",
      "text/plain": [
       "<Figure size 432x288 with 1 Axes>"
      ]
     },
     "metadata": {
      "needs_background": "light"
     },
     "output_type": "display_data"
    }
   ],
   "source": [
    "plt.figure(0)\n",
    "plt.ylim(-0.1, 1.1)\n",
    "plt.xlim(-0.1, 1.1)\n",
    "ax = plt.gca()\n",
    "ax.set_aspect('equal', adjustable='box')\n",
    "\n",
    "for x, y in training_set:\n",
    "    if y == 1:\n",
    "        plt.plot(x[0], x[1], 'bo')\n",
    "    else:\n",
    "        plt.plot(x[0], x[1], 'go')\n",
    "plt.show()"
   ]
  },
  {
   "cell_type": "code",
   "execution_count": null,
   "id": "8b223b5e-92a0-424a-b4c3-7e703dc2ca9a",
   "metadata": {},
   "outputs": [
    {
     "data": {
      "image/png": "[encoded data removed]",
      "text/plain": [
       "<Figure size 432x288 with 1 Axes>"
      ]
     },
     "metadata": {
      "needs_background": "light"
     },
     "output_type": "display_data"
    }
   ],
   "source": [
    "%matplotlib inline\n",
    "from time import sleep\n",
    "\n",
    "plt.figure(0)\n",
    "plt.ylim(-0.1, 1.1)\n",
    "plt.xlim(-0.1, 1.1)\n",
    "ax = plt.gca()\n",
    "ax.set_aspect('equal', adjustable='box')\n",
    "\n",
    "xx = np.linspace(0,1,50)\n",
    "for i in range(epoch):\n",
    "    cnt = 0\n",
    "    for x,y in training_set:\n",
    "        clear_output(wait=True)\n",
    "        \n",
    "        # -- Equation \n",
    "        u = sum(x*w)\n",
    "        error = y - step_function(u)\n",
    "        for index, value in enumerate(x):\n",
    "            w[index] = w[index] + lr*error*value\n",
    "        \n",
    "        \n",
    "        # -- Plotting\n",
    "        for xs, ys in training_set[0:cnt]:\n",
    "            plt.ylim(-0.1, 1.1)\n",
    "            plt.xlim(-0.1, 1.1)\n",
    "            ax = plt.gca()\n",
    "            ax.set_aspect('equal', adjustable='box')\n",
    "            \n",
    "            if ys == 1:\n",
    "                plt.plot(xs[0], xs[1], 'bo')\n",
    "            else:\n",
    "                plt.plot(xs[0], xs[1], 'go')\n",
    "                \n",
    "        yy = -w[1]/w[0] * xx + thres/w[0] # <== x[0]*yy +x[1]*xx = thres\n",
    "            \n",
    "        plt.plot(xx,yy)\n",
    "        plt.show()\n",
    "        cnt=cnt+1\n",
    "        sleep(0.01)\n",
    "            \n",
    "        "
   ]
  },
  {
   "cell_type": "code",
   "execution_count": null,
   "id": "9cbfb749-5896-487c-b814-b9a7f3c7f5dc",
   "metadata": {},
   "outputs": [],
   "source": [
    "w[1]"
   ]
  },
  {
   "cell_type": "code",
   "execution_count": null,
   "id": "d3f31d5c-359b-42b3-a5e9-ae51a0c4143d",
   "metadata": {},
   "outputs": [],
   "source": [
    "w[0]"
   ]
  },
  {
   "cell_type": "code",
   "execution_count": null,
   "id": "15dd2ec1-123e-4fa5-8b66-738b07a2154a",
   "metadata": {},
   "outputs": [],
   "source": []
  },
  {
   "cell_type": "code",
   "execution_count": null,
   "id": "49244129-cb23-4726-95c3-f45e3d6d7708",
   "metadata": {},
   "outputs": [],
   "source": []
  },
  {
   "cell_type": "code",
   "execution_count": null,
   "id": "72faac82-0962-45a6-ada2-81870177077a",
   "metadata": {},
   "outputs": [],
   "source": []
  },
  {
   "cell_type": "code",
   "execution_count": null,
   "id": "8b3623b4-2609-4b25-9e5b-2c28ffbfc311",
   "metadata": {},
   "outputs": [],
   "source": []
  }
 ],
 "metadata": {
  "kernelspec": {
   "display_name": "Python 3 (ipykernel)",
   "language": "python",
   "name": "python3"
  },
  "language_info": {
   "codemirror_mode": {
    "name": "ipython",
    "version": 3
   },
   "file_extension": ".py",
   "mimetype": "text/x-python",
   "name": "python",
   "nbconvert_exporter": "python",
   "pygments_lexer": "ipython3",
   "version": "3.9.12"
  }
 },
 "nbformat": 4,
 "nbformat_minor": 5
}
