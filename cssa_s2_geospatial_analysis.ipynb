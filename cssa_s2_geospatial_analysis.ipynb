{
  "nbformat": 4,
  "nbformat_minor": 0,
  "metadata": {
    "colab": {
      "provenance": [],
      "authorship_tag": "ABX9TyO/m9d7jnniabdxZfuMqaMP",
      "include_colab_link": true
    },
    "kernelspec": {
      "name": "python3",
      "display_name": "Python 3"
    },
    "language_info": {
      "name": "python"
    }
  },
  "cells": [
    {
      "cell_type": "markdown",
      "metadata": {
        "id": "view-in-github",
        "colab_type": "text"
      },
      "source": [
        "<a href=\"https://colab.research.google.com/github/kleeresearch/training/blob/main/cssa_s2_geospatial_analysis.ipynb\" target=\"_parent\"><img src=\"https://colab.research.google.com/assets/colab-badge.svg\" alt=\"Open In Colab\"/></a>"
      ]
    },
    {
      "cell_type": "markdown",
      "source": [
        "#UD CSSA Training Session 2: Geospatial Analysis \n",
        "----\n",
        "\n",
        "Date: 11/10/2022 \n",
        "\n",
        "Instructor: Kyungmin Lee \n",
        "\n",
        "**Step 1. Load and explore data**\n",
        "  - geodataframe from World Bank \n",
        "  - pandas dataframe using World Bank's API\n",
        "\n",
        "**Step 2. Data manipulation**\n",
        "  - Note difference of joining data: geodataframe to pandas, geodataframe to geodataframe \n",
        "\n",
        "**Step 3. Data visualization**\n",
        "  - Plotting map and see difference of joining data functions: outer and inner  \n",
        "  - Plotting multiple maps\n",
        "\n",
        "**Bonus. Focus on continents**\n",
        "  - Subset by continents \n"
      ],
      "metadata": {
        "id": "B4kvEPtDLRSh"
      }
    },
    {
      "cell_type": "markdown",
      "source": [
        "## Step 1: Load and Explore Data\n",
        "\n",
        "We will use [WB API](\"https://pandas-datareader.readthedocs.io/en/latest/readers/world-bank.html\") to load world map and CO2 intensity data.\n",
        "\n"
      ],
      "metadata": {
        "id": "jwOsAOI5G5O4"
      }
    },
    {
      "cell_type": "code",
      "source": [
        "# -- install geopandas \n"
      ],
      "metadata": {
        "colab": {
          "base_uri": "https://localhost:8080/"
        },
        "id": "WsXzCjSdMTP6",
        "outputId": "37d3782d-05cb-4d46-acc7-41fa72760de2"
      },
      "execution_count": null,
      "outputs": [
        {
          "output_type": "stream",
          "name": "stdout",
          "text": [
            "Looking in indexes: https://pypi.org/simple, https://us-python.pkg.dev/colab-wheels/public/simple/\n",
            "Collecting geopandas\n",
            "  Downloading geopandas-0.10.2-py2.py3-none-any.whl (1.0 MB)\n",
            "\u001b[K     |████████████████████████████████| 1.0 MB 3.2 MB/s \n",
            "\u001b[?25hCollecting pyproj>=2.2.0\n",
            "  Downloading pyproj-3.2.1-cp37-cp37m-manylinux2010_x86_64.whl (6.3 MB)\n",
            "\u001b[K     |████████████████████████████████| 6.3 MB 43.1 MB/s \n",
            "\u001b[?25hRequirement already satisfied: shapely>=1.6 in /usr/local/lib/python3.7/dist-packages (from geopandas) (1.8.5.post1)\n",
            "Requirement already satisfied: pandas>=0.25.0 in /usr/local/lib/python3.7/dist-packages (from geopandas) (1.3.5)\n",
            "Collecting fiona>=1.8\n",
            "  Downloading Fiona-1.8.22-cp37-cp37m-manylinux2014_x86_64.whl (16.7 MB)\n",
            "\u001b[K     |████████████████████████████████| 16.7 MB 44.8 MB/s \n",
            "\u001b[?25hRequirement already satisfied: setuptools in /usr/local/lib/python3.7/dist-packages (from fiona>=1.8->geopandas) (57.4.0)\n",
            "Requirement already satisfied: six>=1.7 in /usr/local/lib/python3.7/dist-packages (from fiona>=1.8->geopandas) (1.15.0)\n",
            "Collecting click-plugins>=1.0\n",
            "  Downloading click_plugins-1.1.1-py2.py3-none-any.whl (7.5 kB)\n",
            "Collecting munch\n",
            "  Downloading munch-2.5.0-py2.py3-none-any.whl (10 kB)\n",
            "Requirement already satisfied: attrs>=17 in /usr/local/lib/python3.7/dist-packages (from fiona>=1.8->geopandas) (22.1.0)\n",
            "Requirement already satisfied: click>=4.0 in /usr/local/lib/python3.7/dist-packages (from fiona>=1.8->geopandas) (7.1.2)\n",
            "Collecting cligj>=0.5\n",
            "  Downloading cligj-0.7.2-py3-none-any.whl (7.1 kB)\n",
            "Requirement already satisfied: certifi in /usr/local/lib/python3.7/dist-packages (from fiona>=1.8->geopandas) (2022.9.24)\n",
            "Requirement already satisfied: pytz>=2017.3 in /usr/local/lib/python3.7/dist-packages (from pandas>=0.25.0->geopandas) (2022.5)\n",
            "Requirement already satisfied: numpy>=1.17.3 in /usr/local/lib/python3.7/dist-packages (from pandas>=0.25.0->geopandas) (1.21.6)\n",
            "Requirement already satisfied: python-dateutil>=2.7.3 in /usr/local/lib/python3.7/dist-packages (from pandas>=0.25.0->geopandas) (2.8.2)\n",
            "Installing collected packages: munch, cligj, click-plugins, pyproj, fiona, geopandas\n",
            "Successfully installed click-plugins-1.1.1 cligj-0.7.2 fiona-1.8.22 geopandas-0.10.2 munch-2.5.0 pyproj-3.2.1\n"
          ]
        }
      ]
    },
    {
      "cell_type": "code",
      "source": [
        "from pandas_datareader import wb\n",
        "import pandas as pd\n",
        "import geopandas as gp\n",
        "import matplotlib.pyplot as plt"
      ],
      "metadata": {
        "id": "6XCBLb3Jhh-Q"
      },
      "execution_count": null,
      "outputs": []
    },
    {
      "cell_type": "code",
      "source": [
        "# -- Set default function for loading datasets\n",
        "pd.set_option(\"display.max_columns\", 10)\n",
        "pd.set_option(\"display.max_rows\", 300)\n",
        "pd.set_option(\"display.width\", 1000)"
      ],
      "metadata": {
        "id": "stTVVDHvZob_"
      },
      "execution_count": null,
      "outputs": []
    },
    {
      "cell_type": "markdown",
      "source": [
        "## Load geodataframe\n",
        "\n",
        "Note: you can also find the [world map](\"https://datacatalog.worldbank.org/search/dataset/0038272\") from the WB opendata platform."
      ],
      "metadata": {
        "id": "AH3bSGDSX_tP"
      }
    },
    {
      "cell_type": "code",
      "source": [
        "# -- Load geodataframe\n",
        "map = gp.read_file(gp.datasets.get_path('naturalearth_lowres')\n",
        "map.head()"
      ],
      "metadata": {
        "id": "R4PPN8YdMKFo"
      },
      "execution_count": null,
      "outputs": []
    },
    {
      "cell_type": "code",
      "source": [
        "# -- Check geodataframe whether it can be used as a base map\n"
      ],
      "metadata": {
        "id": "R4jW0RQRoCb5"
      },
      "execution_count": null,
      "outputs": []
    },
    {
      "cell_type": "code",
      "source": [
        "# Data manipulation \n",
        "\n",
        "# Exclude Antartica to see continents more apparent in map \n",
        "\n",
        "\n",
        "# Set index as name\n",
        "\n",
        "\n",
        "# Change column name (2nd way to rename columns)\n",
        "\n"
      ],
      "metadata": {
        "id": "chWrQCaopvjA"
      },
      "execution_count": null,
      "outputs": []
    },
    {
      "cell_type": "code",
      "source": [
        "# -- Check type of the dataset\n"
      ],
      "metadata": {
        "id": "thIzNLVFtCo4"
      },
      "execution_count": null,
      "outputs": []
    },
    {
      "cell_type": "code",
      "source": [
        "# -- Plot  the map\n"
      ],
      "metadata": {
        "id": "MJn24Yb9pVbJ"
      },
      "execution_count": null,
      "outputs": []
    },
    {
      "cell_type": "code",
      "source": [
        "# -- Plot the population\n"
      ],
      "metadata": {
        "id": "_1Sunj0Oa2F0"
      },
      "execution_count": null,
      "outputs": []
    },
    {
      "cell_type": "markdown",
      "source": [
        "We can find data of population, GDP, and map polygons. But what if I want to plot that is not included in the geodataframe? This is why we need \"spatial join\" function to merge datasets. Let's load data we want to plot. I will load CO2 intensity data from World Bank (WB) opendata platform using its own Application Programming Interface (API). "
      ],
      "metadata": {
        "id": "w46CvPOfYEcB"
      }
    },
    {
      "cell_type": "markdown",
      "source": [
        "## Load pandas dataframe using WB API\n",
        "\n",
        "Note: you can also find the [CO2 intensity data](\"https://data.worldbank.org/indicator/EN.ATM.CO2E.EG.ZS\") from WB opendata platform website"
      ],
      "metadata": {
        "id": "pSYnOUfbXrIe"
      }
    },
    {
      "cell_type": "code",
      "source": [
        "# -- Load raw dataset I want to see (e.g. CO2 intensity) \n",
        "data = wb.download(indicator=\"EN.ATM.CO2E.EG.ZS\", country=\"all\", start=1950,end=2019)\n",
        "data"
      ],
      "metadata": {
        "colab": {
          "base_uri": "https://localhost:8080/",
          "height": 455
        },
        "id": "dPRoZQugXjZU",
        "outputId": "9faf7200-33d3-485e-8eea-657059fd910e"
      },
      "execution_count": null,
      "outputs": [
        {
          "output_type": "execute_result",
          "data": {
            "text/plain": [
              "                                  EN.ATM.CO2E.EG.ZS\n",
              "country                     year                   \n",
              "Africa Eastern and Southern 2019                NaN\n",
              "                            2018                NaN\n",
              "                            2017                NaN\n",
              "                            2016                NaN\n",
              "                            2015                NaN\n",
              "...                                             ...\n",
              "Zimbabwe                    1964                NaN\n",
              "                            1963                NaN\n",
              "                            1962                NaN\n",
              "                            1961                NaN\n",
              "                            1960                NaN\n",
              "\n",
              "[15960 rows x 1 columns]"
            ],
            "text/html": [
              "\n",
              "  <div id=\"df-575a59c9-6d95-47eb-91bd-7879f5f705a6\">\n",
              "    <div class=\"colab-df-container\">\n",
              "      <div>\n",
              "<style scoped>\n",
              "    .dataframe tbody tr th:only-of-type {\n",
              "        vertical-align: middle;\n",
              "    }\n",
              "\n",
              "    .dataframe tbody tr th {\n",
              "        vertical-align: top;\n",
              "    }\n",
              "\n",
              "    .dataframe thead th {\n",
              "        text-align: right;\n",
              "    }\n",
              "</style>\n",
              "<table border=\"1\" class=\"dataframe\">\n",
              "  <thead>\n",
              "    <tr style=\"text-align: right;\">\n",
              "      <th></th>\n",
              "      <th></th>\n",
              "      <th>EN.ATM.CO2E.EG.ZS</th>\n",
              "    </tr>\n",
              "    <tr>\n",
              "      <th>country</th>\n",
              "      <th>year</th>\n",
              "      <th></th>\n",
              "    </tr>\n",
              "  </thead>\n",
              "  <tbody>\n",
              "    <tr>\n",
              "      <th rowspan=\"5\" valign=\"top\">Africa Eastern and Southern</th>\n",
              "      <th>2019</th>\n",
              "      <td>NaN</td>\n",
              "    </tr>\n",
              "    <tr>\n",
              "      <th>2018</th>\n",
              "      <td>NaN</td>\n",
              "    </tr>\n",
              "    <tr>\n",
              "      <th>2017</th>\n",
              "      <td>NaN</td>\n",
              "    </tr>\n",
              "    <tr>\n",
              "      <th>2016</th>\n",
              "      <td>NaN</td>\n",
              "    </tr>\n",
              "    <tr>\n",
              "      <th>2015</th>\n",
              "      <td>NaN</td>\n",
              "    </tr>\n",
              "    <tr>\n",
              "      <th>...</th>\n",
              "      <th>...</th>\n",
              "      <td>...</td>\n",
              "    </tr>\n",
              "    <tr>\n",
              "      <th rowspan=\"5\" valign=\"top\">Zimbabwe</th>\n",
              "      <th>1964</th>\n",
              "      <td>NaN</td>\n",
              "    </tr>\n",
              "    <tr>\n",
              "      <th>1963</th>\n",
              "      <td>NaN</td>\n",
              "    </tr>\n",
              "    <tr>\n",
              "      <th>1962</th>\n",
              "      <td>NaN</td>\n",
              "    </tr>\n",
              "    <tr>\n",
              "      <th>1961</th>\n",
              "      <td>NaN</td>\n",
              "    </tr>\n",
              "    <tr>\n",
              "      <th>1960</th>\n",
              "      <td>NaN</td>\n",
              "    </tr>\n",
              "  </tbody>\n",
              "</table>\n",
              "<p>15960 rows × 1 columns</p>\n",
              "</div>\n",
              "      <button class=\"colab-df-convert\" onclick=\"convertToInteractive('df-575a59c9-6d95-47eb-91bd-7879f5f705a6')\"\n",
              "              title=\"Convert this dataframe to an interactive table.\"\n",
              "              style=\"display:none;\">\n",
              "        \n",
              "  <svg xmlns=\"http://www.w3.org/2000/svg\" height=\"24px\"viewBox=\"0 0 24 24\"\n",
              "       width=\"24px\">\n",
              "    <path d=\"M0 0h24v24H0V0z\" fill=\"none\"/>\n",
              "    <path d=\"M18.56 5.44l.94 2.06.94-2.06 2.06-.94-2.06-.94-.94-2.06-.94 2.06-2.06.94zm-11 1L8.5 8.5l.94-2.06 2.06-.94-2.06-.94L8.5 2.5l-.94 2.06-2.06.94zm10 10l.94 2.06.94-2.06 2.06-.94-2.06-.94-.94-2.06-.94 2.06-2.06.94z\"/><path d=\"M17.41 7.96l-1.37-1.37c-.4-.4-.92-.59-1.43-.59-.52 0-1.04.2-1.43.59L10.3 9.45l-7.72 7.72c-.78.78-.78 2.05 0 2.83L4 21.41c.39.39.9.59 1.41.59.51 0 1.02-.2 1.41-.59l7.78-7.78 2.81-2.81c.8-.78.8-2.07 0-2.86zM5.41 20L4 18.59l7.72-7.72 1.47 1.35L5.41 20z\"/>\n",
              "  </svg>\n",
              "      </button>\n",
              "      \n",
              "  <style>\n",
              "    .colab-df-container {\n",
              "      display:flex;\n",
              "      flex-wrap:wrap;\n",
              "      gap: 12px;\n",
              "    }\n",
              "\n",
              "    .colab-df-convert {\n",
              "      background-color: #E8F0FE;\n",
              "      border: none;\n",
              "      border-radius: 50%;\n",
              "      cursor: pointer;\n",
              "      display: none;\n",
              "      fill: #1967D2;\n",
              "      height: 32px;\n",
              "      padding: 0 0 0 0;\n",
              "      width: 32px;\n",
              "    }\n",
              "\n",
              "    .colab-df-convert:hover {\n",
              "      background-color: #E2EBFA;\n",
              "      box-shadow: 0px 1px 2px rgba(60, 64, 67, 0.3), 0px 1px 3px 1px rgba(60, 64, 67, 0.15);\n",
              "      fill: #174EA6;\n",
              "    }\n",
              "\n",
              "    [theme=dark] .colab-df-convert {\n",
              "      background-color: #3B4455;\n",
              "      fill: #D2E3FC;\n",
              "    }\n",
              "\n",
              "    [theme=dark] .colab-df-convert:hover {\n",
              "      background-color: #434B5C;\n",
              "      box-shadow: 0px 1px 3px 1px rgba(0, 0, 0, 0.15);\n",
              "      filter: drop-shadow(0px 1px 2px rgba(0, 0, 0, 0.3));\n",
              "      fill: #FFFFFF;\n",
              "    }\n",
              "  </style>\n",
              "\n",
              "      <script>\n",
              "        const buttonEl =\n",
              "          document.querySelector('#df-575a59c9-6d95-47eb-91bd-7879f5f705a6 button.colab-df-convert');\n",
              "        buttonEl.style.display =\n",
              "          google.colab.kernel.accessAllowed ? 'block' : 'none';\n",
              "\n",
              "        async function convertToInteractive(key) {\n",
              "          const element = document.querySelector('#df-575a59c9-6d95-47eb-91bd-7879f5f705a6');\n",
              "          const dataTable =\n",
              "            await google.colab.kernel.invokeFunction('convertToInteractive',\n",
              "                                                     [key], {});\n",
              "          if (!dataTable) return;\n",
              "\n",
              "          const docLinkHtml = 'Like what you see? Visit the ' +\n",
              "            '<a target=\"_blank\" href=https://colab.research.google.com/notebooks/data_table.ipynb>data table notebook</a>'\n",
              "            + ' to learn more about interactive tables.';\n",
              "          element.innerHTML = '';\n",
              "          dataTable['output_type'] = 'display_data';\n",
              "          await google.colab.output.renderOutput(dataTable, element);\n",
              "          const docLink = document.createElement('div');\n",
              "          docLink.innerHTML = docLinkHtml;\n",
              "          element.appendChild(docLink);\n",
              "        }\n",
              "      </script>\n",
              "    </div>\n",
              "  </div>\n",
              "  "
            ]
          },
          "metadata": {},
          "execution_count": 17
        }
      ]
    },
    {
      "cell_type": "code",
      "source": [
        "# -- Data manipulation \n",
        "\n",
        "# -- Reset index as country\n",
        "\n",
        "# -- Rename columns - Be careful to rename it without space\n",
        "\n"
      ],
      "metadata": {
        "id": "-RCWDjs1XmVx"
      },
      "execution_count": null,
      "outputs": []
    },
    {
      "cell_type": "code",
      "source": [
        "# -- Calculate mean of the data by country \n"
      ],
      "metadata": {
        "id": "cTmytZORjWhz"
      },
      "execution_count": null,
      "outputs": []
    },
    {
      "cell_type": "code",
      "source": [
        "# -- Check type of the dataset\n"
      ],
      "metadata": {
        "colab": {
          "base_uri": "https://localhost:8080/"
        },
        "id": "GthbBivnXobX",
        "outputId": "263d7825-e867-4f83-c342-36ce5e5fda49"
      },
      "execution_count": null,
      "outputs": [
        {
          "output_type": "execute_result",
          "data": {
            "text/plain": [
              "pandas.core.frame.DataFrame"
            ]
          },
          "metadata": {},
          "execution_count": 21
        }
      ]
    },
    {
      "cell_type": "markdown",
      "source": [
        "We can find out the types of data sets are different. Map dataset is based on geodataframe and CO2 intensity data is based on pandas dataframe. In this case, we need to use function of \"data_join\". \n",
        "\n"
      ],
      "metadata": {
        "id": "VjXZsQzgZF6t"
      }
    },
    {
      "cell_type": "markdown",
      "source": [
        "#### FYI, note for spatial join\n",
        "\n",
        "In an attribute join, a GeoSeries or GeoDataFrame is combined with a regular pandas.Series or pandas.DataFrame based on a common variable.\n",
        "https://geopandas.org/en/stable/docs/user_guide/mergingdata.html\n",
        "\n",
        "* **data_join = geodataframe.join(pandas.dataframe)** \n",
        "\n",
        "\n",
        "* **data_spatial join = gpd.sjoin(geodataframe, geodataframe)** \n",
        "\n",
        "(e.g.) join = gpd.sjoin(addresses, pop, how=\"inner\", op=\"within\")\n",
        "\n",
        "https://automating-gis-processes.github.io/CSC18/lessons/L4/spatial-join.html\n",
        "\n",
        "\n",
        "* **GeoDataFrame.sjoin(): joins based on binary predicates (intersects, contains, etc.)**\n",
        "\n",
        "* **GeoDataFrame.sjoin_nearest(): joins based on proximity, with the ability to set a maximum search radius.**\n",
        "\n"
      ],
      "metadata": {
        "id": "XVjuntm_ZWzc"
      }
    },
    {
      "cell_type": "markdown",
      "source": [
        "## Step 2: Spatial join datasets\n",
        "\n",
        "Let's spatial join two datasets (map and CO2 intensity data). There are two representative options of spatial join: outer and inner. Codes below are to check how map looks different depending on how dataframes are joined.\n",
        "\n",
        "[Spatial join options desctiprion](\"https://geopandas.org/en/stable/gallery/spatial_joins.html\")\n",
        "\n",
        "**Option 1. how='outer'** \n",
        "- join as right column \n",
        "- preserve continents data \n",
        "- but include Antartica data (Need to manipulate data or change sjoin options)\n",
        "\n",
        "**Option 2. how='inner'**\n",
        "- join intersects columns \n",
        "- lost some continents data that are not included in new pandas dataframe"
      ],
      "metadata": {
        "id": "wkbc7gHOXLci"
      }
    },
    {
      "cell_type": "code",
      "source": [
        "# -- Join by \"inner\" function - join interconnected columns\n",
        "data_ji = \n",
        "data_ji.head()"
      ],
      "metadata": {
        "colab": {
          "base_uri": "https://localhost:8080/",
          "height": 206
        },
        "id": "KzK70o4myCnr",
        "outputId": "57aff868-dd52-46b0-903d-695e20fdd05d"
      },
      "execution_count": null,
      "outputs": [
        {
          "output_type": "execute_result",
          "data": {
            "text/plain": [
              "                 pop_est      continent iso_a3  gdp_md_est                                           geometry  CO2_intensity\n",
              "Fiji              920938        Oceania    FJI      8374.0  MULTIPOLYGON (((180.00000 -16.06713, 180.00000...       2.363258\n",
              "Tanzania        53950935         Africa    TZA    150600.0  POLYGON ((33.90371 -0.95000, 34.07262 -1.05982...       0.280349\n",
              "Canada          35623680  North America    CAN   1674000.0  MULTIPOLYGON (((-122.84000 49.00000, -122.9742...       2.194590\n",
              "United States  326625791  North America    USA  18560000.0  MULTIPOLYGON (((-122.84000 49.00000, -120.0000...       2.571982\n",
              "Kazakhstan      18556698           Asia    KAZ    460700.0  POLYGON ((87.35997 49.21498, 86.59878 48.54918...       3.180570"
            ],
            "text/html": [
              "\n",
              "  <div id=\"df-041e3eed-6856-4e2a-af4c-968b46634665\">\n",
              "    <div class=\"colab-df-container\">\n",
              "      <div>\n",
              "<style scoped>\n",
              "    .dataframe tbody tr th:only-of-type {\n",
              "        vertical-align: middle;\n",
              "    }\n",
              "\n",
              "    .dataframe tbody tr th {\n",
              "        vertical-align: top;\n",
              "    }\n",
              "\n",
              "    .dataframe thead th {\n",
              "        text-align: right;\n",
              "    }\n",
              "</style>\n",
              "<table border=\"1\" class=\"dataframe\">\n",
              "  <thead>\n",
              "    <tr style=\"text-align: right;\">\n",
              "      <th></th>\n",
              "      <th>pop_est</th>\n",
              "      <th>continent</th>\n",
              "      <th>iso_a3</th>\n",
              "      <th>gdp_md_est</th>\n",
              "      <th>geometry</th>\n",
              "      <th>CO2_intensity</th>\n",
              "    </tr>\n",
              "  </thead>\n",
              "  <tbody>\n",
              "    <tr>\n",
              "      <th>Fiji</th>\n",
              "      <td>920938</td>\n",
              "      <td>Oceania</td>\n",
              "      <td>FJI</td>\n",
              "      <td>8374.0</td>\n",
              "      <td>MULTIPOLYGON (((180.00000 -16.06713, 180.00000...</td>\n",
              "      <td>2.363258</td>\n",
              "    </tr>\n",
              "    <tr>\n",
              "      <th>Tanzania</th>\n",
              "      <td>53950935</td>\n",
              "      <td>Africa</td>\n",
              "      <td>TZA</td>\n",
              "      <td>150600.0</td>\n",
              "      <td>POLYGON ((33.90371 -0.95000, 34.07262 -1.05982...</td>\n",
              "      <td>0.280349</td>\n",
              "    </tr>\n",
              "    <tr>\n",
              "      <th>Canada</th>\n",
              "      <td>35623680</td>\n",
              "      <td>North America</td>\n",
              "      <td>CAN</td>\n",
              "      <td>1674000.0</td>\n",
              "      <td>MULTIPOLYGON (((-122.84000 49.00000, -122.9742...</td>\n",
              "      <td>2.194590</td>\n",
              "    </tr>\n",
              "    <tr>\n",
              "      <th>United States</th>\n",
              "      <td>326625791</td>\n",
              "      <td>North America</td>\n",
              "      <td>USA</td>\n",
              "      <td>18560000.0</td>\n",
              "      <td>MULTIPOLYGON (((-122.84000 49.00000, -120.0000...</td>\n",
              "      <td>2.571982</td>\n",
              "    </tr>\n",
              "    <tr>\n",
              "      <th>Kazakhstan</th>\n",
              "      <td>18556698</td>\n",
              "      <td>Asia</td>\n",
              "      <td>KAZ</td>\n",
              "      <td>460700.0</td>\n",
              "      <td>POLYGON ((87.35997 49.21498, 86.59878 48.54918...</td>\n",
              "      <td>3.180570</td>\n",
              "    </tr>\n",
              "  </tbody>\n",
              "</table>\n",
              "</div>\n",
              "      <button class=\"colab-df-convert\" onclick=\"convertToInteractive('df-041e3eed-6856-4e2a-af4c-968b46634665')\"\n",
              "              title=\"Convert this dataframe to an interactive table.\"\n",
              "              style=\"display:none;\">\n",
              "        \n",
              "  <svg xmlns=\"http://www.w3.org/2000/svg\" height=\"24px\"viewBox=\"0 0 24 24\"\n",
              "       width=\"24px\">\n",
              "    <path d=\"M0 0h24v24H0V0z\" fill=\"none\"/>\n",
              "    <path d=\"M18.56 5.44l.94 2.06.94-2.06 2.06-.94-2.06-.94-.94-2.06-.94 2.06-2.06.94zm-11 1L8.5 8.5l.94-2.06 2.06-.94-2.06-.94L8.5 2.5l-.94 2.06-2.06.94zm10 10l.94 2.06.94-2.06 2.06-.94-2.06-.94-.94-2.06-.94 2.06-2.06.94z\"/><path d=\"M17.41 7.96l-1.37-1.37c-.4-.4-.92-.59-1.43-.59-.52 0-1.04.2-1.43.59L10.3 9.45l-7.72 7.72c-.78.78-.78 2.05 0 2.83L4 21.41c.39.39.9.59 1.41.59.51 0 1.02-.2 1.41-.59l7.78-7.78 2.81-2.81c.8-.78.8-2.07 0-2.86zM5.41 20L4 18.59l7.72-7.72 1.47 1.35L5.41 20z\"/>\n",
              "  </svg>\n",
              "      </button>\n",
              "      \n",
              "  <style>\n",
              "    .colab-df-container {\n",
              "      display:flex;\n",
              "      flex-wrap:wrap;\n",
              "      gap: 12px;\n",
              "    }\n",
              "\n",
              "    .colab-df-convert {\n",
              "      background-color: #E8F0FE;\n",
              "      border: none;\n",
              "      border-radius: 50%;\n",
              "      cursor: pointer;\n",
              "      display: none;\n",
              "      fill: #1967D2;\n",
              "      height: 32px;\n",
              "      padding: 0 0 0 0;\n",
              "      width: 32px;\n",
              "    }\n",
              "\n",
              "    .colab-df-convert:hover {\n",
              "      background-color: #E2EBFA;\n",
              "      box-shadow: 0px 1px 2px rgba(60, 64, 67, 0.3), 0px 1px 3px 1px rgba(60, 64, 67, 0.15);\n",
              "      fill: #174EA6;\n",
              "    }\n",
              "\n",
              "    [theme=dark] .colab-df-convert {\n",
              "      background-color: #3B4455;\n",
              "      fill: #D2E3FC;\n",
              "    }\n",
              "\n",
              "    [theme=dark] .colab-df-convert:hover {\n",
              "      background-color: #434B5C;\n",
              "      box-shadow: 0px 1px 3px 1px rgba(0, 0, 0, 0.15);\n",
              "      filter: drop-shadow(0px 1px 2px rgba(0, 0, 0, 0.3));\n",
              "      fill: #FFFFFF;\n",
              "    }\n",
              "  </style>\n",
              "\n",
              "      <script>\n",
              "        const buttonEl =\n",
              "          document.querySelector('#df-041e3eed-6856-4e2a-af4c-968b46634665 button.colab-df-convert');\n",
              "        buttonEl.style.display =\n",
              "          google.colab.kernel.accessAllowed ? 'block' : 'none';\n",
              "\n",
              "        async function convertToInteractive(key) {\n",
              "          const element = document.querySelector('#df-041e3eed-6856-4e2a-af4c-968b46634665');\n",
              "          const dataTable =\n",
              "            await google.colab.kernel.invokeFunction('convertToInteractive',\n",
              "                                                     [key], {});\n",
              "          if (!dataTable) return;\n",
              "\n",
              "          const docLinkHtml = 'Like what you see? Visit the ' +\n",
              "            '<a target=\"_blank\" href=https://colab.research.google.com/notebooks/data_table.ipynb>data table notebook</a>'\n",
              "            + ' to learn more about interactive tables.';\n",
              "          element.innerHTML = '';\n",
              "          dataTable['output_type'] = 'display_data';\n",
              "          await google.colab.output.renderOutput(dataTable, element);\n",
              "          const docLink = document.createElement('div');\n",
              "          docLink.innerHTML = docLinkHtml;\n",
              "          element.appendChild(docLink);\n",
              "        }\n",
              "      </script>\n",
              "    </div>\n",
              "  </div>\n",
              "  "
            ]
          },
          "metadata": {},
          "execution_count": 107
        }
      ]
    },
    {
      "cell_type": "code",
      "source": [
        "# -- Plotting \"innter\" functioned dataframe\n",
        "data_ji.plot('pop_est', legend=True, legend_kwds={'label': \"Population Level\", 'orientation': \"vertical\"}, cmap = 'OrRd', figsize=(14,5))\n",
        "plt.title(\"Population Level by Country\", loc = \"left\", fontsize=15)"
      ],
      "metadata": {
        "id": "NG764Hc8acu2"
      },
      "execution_count": null,
      "outputs": []
    },
    {
      "cell_type": "code",
      "source": [
        "# -- Join by \"outer\" function\n",
        "data_jo = \n",
        "data_jo.head()"
      ],
      "metadata": {
        "id": "9sRjWA1hN5nu"
      },
      "execution_count": null,
      "outputs": []
    },
    {
      "cell_type": "code",
      "source": [
        "# -- Plotting \"outer\" functioned dataframe\n",
        "data_jo.plot('pop_est', legend=True, legend_kwds={'label': \"Population Level\", 'orientation': \"vertical\"}, cmap = 'OrRd', figsize=(14,5))\n",
        "plt.title(\"Population Level by Country\", loc = \"left\", fontsize=15)"
      ],
      "metadata": {
        "id": "r5VV7yUyb1N9"
      },
      "execution_count": null,
      "outputs": []
    },
    {
      "cell_type": "markdown",
      "source": [
        "Do you find difference of 'inner' and 'outer'?  What is that? Note that the function of spatial join dataframes are important during data manuipulation stage. We will use \"outer\" function to prevent missing some continental data."
      ],
      "metadata": {
        "id": "2PXCqPTpcPW1"
      }
    },
    {
      "cell_type": "markdown",
      "source": [
        "#Step3. Data visualization"
      ],
      "metadata": {
        "id": "Q4APrZktcxls"
      }
    },
    {
      "cell_type": "markdown",
      "source": [
        "Note that it is hard to see difference by countries. This is why need data visualization stage. Let's do a simple example of using quantiles and plotting multiple datas in one frame."
      ],
      "metadata": {
        "id": "CjwlH2yCdKKP"
      }
    },
    {
      "cell_type": "code",
      "source": [
        "# -- Plotting\n"
      ],
      "metadata": {
        "id": "Q9sxUCehcL5N"
      },
      "execution_count": null,
      "outputs": []
    },
    {
      "cell_type": "markdown",
      "source": [
        "Let's use quantile to view map more clearly"
      ],
      "metadata": {
        "id": "7hiRR2GRyH_i"
      }
    },
    {
      "cell_type": "code",
      "source": [
        "# -- Install for quantile function\n"
      ],
      "metadata": {
        "id": "REqjACF2mbui"
      },
      "execution_count": null,
      "outputs": []
    },
    {
      "cell_type": "code",
      "source": [
        "# -- Plotting \n"
      ],
      "metadata": {
        "id": "Cn6rfNhBNaP6"
      },
      "execution_count": null,
      "outputs": []
    },
    {
      "cell_type": "code",
      "source": [
        "# -- Plotting multiple datasets at the same time\n"
      ],
      "metadata": {
        "id": "kgdBylPVoQSV"
      },
      "execution_count": null,
      "outputs": []
    }
  ]
}