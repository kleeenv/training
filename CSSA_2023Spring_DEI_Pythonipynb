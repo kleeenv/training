{
  "nbformat": 4,
  "nbformat_minor": 0,
  "metadata": {
    "colab": {
      "provenance": [],
      "include_colab_link": true
    },
    "kernelspec": {
      "name": "python3",
      "display_name": "Python 3"
    },
    "language_info": {
      "name": "python"
    }
  },
  "cells": [
    {
      "cell_type": "markdown",
      "metadata": {
        "id": "view-in-github",
        "colab_type": "text"
      },
      "source": [
        "<a href=\"https://colab.research.google.com/github/kleeresearch/training/blob/main/CSSA_2023Spring_DEI_Pythonipynb\" target=\"_parent\"><img src=\"https://colab.research.google.com/assets/colab-badge.svg\" alt=\"Open In Colab\"/></a>"
      ]
    },
    {
      "cell_type": "markdown",
      "source": [
        "#**UD CSSA, 2023 Spring, Training Sesssion 1** \n",
        "\n",
        "##**Diversity, Equity, and Inclusion Analytics: The Basic Python Tools**\n",
        "\n",
        "\n",
        "* Instructor: Kyungmin Lee\n",
        "\n",
        "* Date: 2023-03-23, Thursday\n",
        "\n",
        "* Data set: Educator characteristics of educator in Delaware (delaware.gov open data platform) https://data.delaware.gov/Education/Educator-Characteristics/t9ya-d7ak\n",
        "\n",
        "\n",
        "* What is Diversity, Equity, and Inclusion (DEI)?\n",
        "  - DEI broadly includes race, ethnicity, gender, age, national origin, religion, disability, sexual orientation, socioeconomic status, education, marital status, language, veteran status, physical appearance, etc.\n"
      ],
      "metadata": {
        "id": "iTz2BU5ec419"
      }
    },
    {
      "cell_type": "markdown",
      "source": [
        "#Basic Python "
      ],
      "metadata": {
        "id": "AnJrf7o0yWtq"
      }
    },
    {
      "cell_type": "code",
      "source": [
        "a = 1 + 1\n",
        "a"
      ],
      "metadata": {
        "colab": {
          "base_uri": "https://localhost:8080/"
        },
        "id": "7b1qqArl4iCX",
        "outputId": "9947dbda-b777-4ab7-b6d7-d79115ac6825"
      },
      "execution_count": null,
      "outputs": [
        {
          "output_type": "execute_result",
          "data": {
            "text/plain": [
              "2"
            ]
          },
          "metadata": {},
          "execution_count": 8
        }
      ]
    },
    {
      "cell_type": "code",
      "source": [
        "b = \"Hellow World!\"\n",
        "b"
      ],
      "metadata": {
        "colab": {
          "base_uri": "https://localhost:8080/",
          "height": 35
        },
        "id": "thf4Fovs4j8H",
        "outputId": "8016b281-eb79-49ef-803b-ea3d6c09a500"
      },
      "execution_count": null,
      "outputs": [
        {
          "output_type": "execute_result",
          "data": {
            "text/plain": [
              "'Hellow World!'"
            ],
            "application/vnd.google.colaboratory.intrinsic+json": {
              "type": "string"
            }
          },
          "metadata": {},
          "execution_count": 10
        }
      ]
    },
    {
      "cell_type": "code",
      "execution_count": null,
      "metadata": {
        "colab": {
          "base_uri": "https://localhost:8080/"
        },
        "id": "CmVxCm-ec0Z_",
        "outputId": "b5afb365-5d4f-49e4-fc53-d37cce7bcf49"
      },
      "outputs": [
        {
          "output_type": "stream",
          "name": "stdout",
          "text": [
            "<class 'int'>\n",
            "<class 'str'>\n"
          ]
        }
      ],
      "source": [
        "print(type(a))\n",
        "print(type(b))"
      ]
    },
    {
      "cell_type": "markdown",
      "source": [
        "# Load Data"
      ],
      "metadata": {
        "id": "_5oa1HFylNX8"
      }
    },
    {
      "cell_type": "markdown",
      "source": [
        "We don't have to download csv file from website. We can directly copy csv address and load data via pandas library.\n",
        "\n",
        "- **Pandas** is a software library written for the Python programming language for data manipulation and analysis. In particular, it offers data structures and operations for manipulating numerical tables and time series. It is free softwar\n",
        "\n",
        "- **NumPy** is a library for the Python programming language, adding support for large, multi-dimensional arrays and matrices, along with a large collection of high-level mathematical functions to operate on these arrays.\n",
        "\n",
        "- **Matplotlib** is a comprehensive library for creating static, animated, and interactive visualizations in Python. "
      ],
      "metadata": {
        "id": "44T978MRunyI"
      }
    },
    {
      "cell_type": "code",
      "source": [
        "# -- Install Packages\n",
        "import pandas as pd\n",
        "import numpy as np\n",
        "import matplotlib.pyplot as plt"
      ],
      "metadata": {
        "id": "vn73A4VWc_kF"
      },
      "execution_count": null,
      "outputs": []
    },
    {
      "cell_type": "markdown",
      "source": [
        "* Data set: Educator characteristics of educator in Delaware (delaware.gov open data platform) https://data.delaware.gov/Education/Educator-Characteristics/t9ya-d7ak"
      ],
      "metadata": {
        "id": "Tca0Tc7DLpxS"
      }
    },
    {
      "cell_type": "code",
      "source": [
        "# -- Load data: Educator characteristics\n",
        "fname = \"https://data.delaware.gov/api/views/t9ya-d7ak/rows.csv?accessType=DOWNLOAD\"\n",
        "data = pd.read_csv(fname)\n",
        "data.head()"
      ],
      "metadata": {
        "colab": {
          "base_uri": "https://localhost:8080/",
          "height": 372
        },
        "id": "zS_DPKnLc_nD",
        "outputId": "5d076d49-30d4-4fcf-cf78-6c9dd2661406"
      },
      "execution_count": null,
      "outputs": [
        {
          "output_type": "execute_result",
          "data": {
            "text/plain": [
              "   School Year  District Code           District  School Code  \\\n",
              "0         2015              0  State of Delaware            0   \n",
              "1         2015              0  State of Delaware            0   \n",
              "2         2015              0  State of Delaware            0   \n",
              "3         2015              0  State of Delaware            0   \n",
              "4         2015              0  State of Delaware            0   \n",
              "\n",
              "        Organization             Race         Gender          Grade  \\\n",
              "0  State of Delaware  Hispanic/Latino  All Educators  All Educators   \n",
              "1  State of Delaware  Hispanic/Latino  All Educators  All Educators   \n",
              "2  State of Delaware  Hispanic/Latino  All Educators  All Educators   \n",
              "3  State of Delaware  Hispanic/Latino  All Educators  All Educators   \n",
              "4  State of Delaware  Hispanic/Latino  All Educators  All Educators   \n",
              "\n",
              "     SpecialDemo      Geography         SubGroup    Staff Type  \\\n",
              "0  All Educators  All Educators  Hispanic/Latino  Professional   \n",
              "1  All Educators  All Educators  Hispanic/Latino  Professional   \n",
              "2  All Educators  All Educators  Hispanic/Latino  Professional   \n",
              "3  All Educators  All Educators  Hispanic/Latino  Professional   \n",
              "4  All Educators  All Educators  Hispanic/Latino  Professional   \n",
              "\n",
              "      Staff Category           Job Classification Experience  \\\n",
              "0                ALL                          ALL        ALL   \n",
              "1  Classroom Teacher                          ALL        ALL   \n",
              "2  Classroom Teacher  Teacher, Regular Elementary        ALL   \n",
              "3  Classroom Teacher   Teacher, Regular Secondary        ALL   \n",
              "4  Classroom Teacher  Teacher, Special Elementary        ALL   \n",
              "\n",
              "  Educational Level  Educators (FTE)  Average Years of Age  \n",
              "0               ALL            321.0                    39  \n",
              "1               ALL            250.0                    39  \n",
              "2               ALL            118.0                    38  \n",
              "3               ALL            104.0                    40  \n",
              "4               ALL             14.0                    35  "
            ],
            "text/html": [
              "\n",
              "  <div id=\"df-7d7c33ae-1d43-41d6-88e9-6f3a9c15a636\">\n",
              "    <div class=\"colab-df-container\">\n",
              "      <div>\n",
              "<style scoped>\n",
              "    .dataframe tbody tr th:only-of-type {\n",
              "        vertical-align: middle;\n",
              "    }\n",
              "\n",
              "    .dataframe tbody tr th {\n",
              "        vertical-align: top;\n",
              "    }\n",
              "\n",
              "    .dataframe thead th {\n",
              "        text-align: right;\n",
              "    }\n",
              "</style>\n",
              "<table border=\"1\" class=\"dataframe\">\n",
              "  <thead>\n",
              "    <tr style=\"text-align: right;\">\n",
              "      <th></th>\n",
              "      <th>School Year</th>\n",
              "      <th>District Code</th>\n",
              "      <th>District</th>\n",
              "      <th>School Code</th>\n",
              "      <th>Organization</th>\n",
              "      <th>Race</th>\n",
              "      <th>Gender</th>\n",
              "      <th>Grade</th>\n",
              "      <th>SpecialDemo</th>\n",
              "      <th>Geography</th>\n",
              "      <th>SubGroup</th>\n",
              "      <th>Staff Type</th>\n",
              "      <th>Staff Category</th>\n",
              "      <th>Job Classification</th>\n",
              "      <th>Experience</th>\n",
              "      <th>Educational Level</th>\n",
              "      <th>Educators (FTE)</th>\n",
              "      <th>Average Years of Age</th>\n",
              "    </tr>\n",
              "  </thead>\n",
              "  <tbody>\n",
              "    <tr>\n",
              "      <th>0</th>\n",
              "      <td>2015</td>\n",
              "      <td>0</td>\n",
              "      <td>State of Delaware</td>\n",
              "      <td>0</td>\n",
              "      <td>State of Delaware</td>\n",
              "      <td>Hispanic/Latino</td>\n",
              "      <td>All Educators</td>\n",
              "      <td>All Educators</td>\n",
              "      <td>All Educators</td>\n",
              "      <td>All Educators</td>\n",
              "      <td>Hispanic/Latino</td>\n",
              "      <td>Professional</td>\n",
              "      <td>ALL</td>\n",
              "      <td>ALL</td>\n",
              "      <td>ALL</td>\n",
              "      <td>ALL</td>\n",
              "      <td>321.0</td>\n",
              "      <td>39</td>\n",
              "    </tr>\n",
              "    <tr>\n",
              "      <th>1</th>\n",
              "      <td>2015</td>\n",
              "      <td>0</td>\n",
              "      <td>State of Delaware</td>\n",
              "      <td>0</td>\n",
              "      <td>State of Delaware</td>\n",
              "      <td>Hispanic/Latino</td>\n",
              "      <td>All Educators</td>\n",
              "      <td>All Educators</td>\n",
              "      <td>All Educators</td>\n",
              "      <td>All Educators</td>\n",
              "      <td>Hispanic/Latino</td>\n",
              "      <td>Professional</td>\n",
              "      <td>Classroom Teacher</td>\n",
              "      <td>ALL</td>\n",
              "      <td>ALL</td>\n",
              "      <td>ALL</td>\n",
              "      <td>250.0</td>\n",
              "      <td>39</td>\n",
              "    </tr>\n",
              "    <tr>\n",
              "      <th>2</th>\n",
              "      <td>2015</td>\n",
              "      <td>0</td>\n",
              "      <td>State of Delaware</td>\n",
              "      <td>0</td>\n",
              "      <td>State of Delaware</td>\n",
              "      <td>Hispanic/Latino</td>\n",
              "      <td>All Educators</td>\n",
              "      <td>All Educators</td>\n",
              "      <td>All Educators</td>\n",
              "      <td>All Educators</td>\n",
              "      <td>Hispanic/Latino</td>\n",
              "      <td>Professional</td>\n",
              "      <td>Classroom Teacher</td>\n",
              "      <td>Teacher, Regular Elementary</td>\n",
              "      <td>ALL</td>\n",
              "      <td>ALL</td>\n",
              "      <td>118.0</td>\n",
              "      <td>38</td>\n",
              "    </tr>\n",
              "    <tr>\n",
              "      <th>3</th>\n",
              "      <td>2015</td>\n",
              "      <td>0</td>\n",
              "      <td>State of Delaware</td>\n",
              "      <td>0</td>\n",
              "      <td>State of Delaware</td>\n",
              "      <td>Hispanic/Latino</td>\n",
              "      <td>All Educators</td>\n",
              "      <td>All Educators</td>\n",
              "      <td>All Educators</td>\n",
              "      <td>All Educators</td>\n",
              "      <td>Hispanic/Latino</td>\n",
              "      <td>Professional</td>\n",
              "      <td>Classroom Teacher</td>\n",
              "      <td>Teacher, Regular Secondary</td>\n",
              "      <td>ALL</td>\n",
              "      <td>ALL</td>\n",
              "      <td>104.0</td>\n",
              "      <td>40</td>\n",
              "    </tr>\n",
              "    <tr>\n",
              "      <th>4</th>\n",
              "      <td>2015</td>\n",
              "      <td>0</td>\n",
              "      <td>State of Delaware</td>\n",
              "      <td>0</td>\n",
              "      <td>State of Delaware</td>\n",
              "      <td>Hispanic/Latino</td>\n",
              "      <td>All Educators</td>\n",
              "      <td>All Educators</td>\n",
              "      <td>All Educators</td>\n",
              "      <td>All Educators</td>\n",
              "      <td>Hispanic/Latino</td>\n",
              "      <td>Professional</td>\n",
              "      <td>Classroom Teacher</td>\n",
              "      <td>Teacher, Special Elementary</td>\n",
              "      <td>ALL</td>\n",
              "      <td>ALL</td>\n",
              "      <td>14.0</td>\n",
              "      <td>35</td>\n",
              "    </tr>\n",
              "  </tbody>\n",
              "</table>\n",
              "</div>\n",
              "      <button class=\"colab-df-convert\" onclick=\"convertToInteractive('df-7d7c33ae-1d43-41d6-88e9-6f3a9c15a636')\"\n",
              "              title=\"Convert this dataframe to an interactive table.\"\n",
              "              style=\"display:none;\">\n",
              "        \n",
              "  <svg xmlns=\"http://www.w3.org/2000/svg\" height=\"24px\"viewBox=\"0 0 24 24\"\n",
              "       width=\"24px\">\n",
              "    <path d=\"M0 0h24v24H0V0z\" fill=\"none\"/>\n",
              "    <path d=\"M18.56 5.44l.94 2.06.94-2.06 2.06-.94-2.06-.94-.94-2.06-.94 2.06-2.06.94zm-11 1L8.5 8.5l.94-2.06 2.06-.94-2.06-.94L8.5 2.5l-.94 2.06-2.06.94zm10 10l.94 2.06.94-2.06 2.06-.94-2.06-.94-.94-2.06-.94 2.06-2.06.94z\"/><path d=\"M17.41 7.96l-1.37-1.37c-.4-.4-.92-.59-1.43-.59-.52 0-1.04.2-1.43.59L10.3 9.45l-7.72 7.72c-.78.78-.78 2.05 0 2.83L4 21.41c.39.39.9.59 1.41.59.51 0 1.02-.2 1.41-.59l7.78-7.78 2.81-2.81c.8-.78.8-2.07 0-2.86zM5.41 20L4 18.59l7.72-7.72 1.47 1.35L5.41 20z\"/>\n",
              "  </svg>\n",
              "      </button>\n",
              "      \n",
              "  <style>\n",
              "    .colab-df-container {\n",
              "      display:flex;\n",
              "      flex-wrap:wrap;\n",
              "      gap: 12px;\n",
              "    }\n",
              "\n",
              "    .colab-df-convert {\n",
              "      background-color: #E8F0FE;\n",
              "      border: none;\n",
              "      border-radius: 50%;\n",
              "      cursor: pointer;\n",
              "      display: none;\n",
              "      fill: #1967D2;\n",
              "      height: 32px;\n",
              "      padding: 0 0 0 0;\n",
              "      width: 32px;\n",
              "    }\n",
              "\n",
              "    .colab-df-convert:hover {\n",
              "      background-color: #E2EBFA;\n",
              "      box-shadow: 0px 1px 2px rgba(60, 64, 67, 0.3), 0px 1px 3px 1px rgba(60, 64, 67, 0.15);\n",
              "      fill: #174EA6;\n",
              "    }\n",
              "\n",
              "    [theme=dark] .colab-df-convert {\n",
              "      background-color: #3B4455;\n",
              "      fill: #D2E3FC;\n",
              "    }\n",
              "\n",
              "    [theme=dark] .colab-df-convert:hover {\n",
              "      background-color: #434B5C;\n",
              "      box-shadow: 0px 1px 3px 1px rgba(0, 0, 0, 0.15);\n",
              "      filter: drop-shadow(0px 1px 2px rgba(0, 0, 0, 0.3));\n",
              "      fill: #FFFFFF;\n",
              "    }\n",
              "  </style>\n",
              "\n",
              "      <script>\n",
              "        const buttonEl =\n",
              "          document.querySelector('#df-7d7c33ae-1d43-41d6-88e9-6f3a9c15a636 button.colab-df-convert');\n",
              "        buttonEl.style.display =\n",
              "          google.colab.kernel.accessAllowed ? 'block' : 'none';\n",
              "\n",
              "        async function convertToInteractive(key) {\n",
              "          const element = document.querySelector('#df-7d7c33ae-1d43-41d6-88e9-6f3a9c15a636');\n",
              "          const dataTable =\n",
              "            await google.colab.kernel.invokeFunction('convertToInteractive',\n",
              "                                                     [key], {});\n",
              "          if (!dataTable) return;\n",
              "\n",
              "          const docLinkHtml = 'Like what you see? Visit the ' +\n",
              "            '<a target=\"_blank\" href=https://colab.research.google.com/notebooks/data_table.ipynb>data table notebook</a>'\n",
              "            + ' to learn more about interactive tables.';\n",
              "          element.innerHTML = '';\n",
              "          dataTable['output_type'] = 'display_data';\n",
              "          await google.colab.output.renderOutput(dataTable, element);\n",
              "          const docLink = document.createElement('div');\n",
              "          docLink.innerHTML = docLinkHtml;\n",
              "          element.appendChild(docLink);\n",
              "        }\n",
              "      </script>\n",
              "    </div>\n",
              "  </div>\n",
              "  "
            ]
          },
          "metadata": {},
          "execution_count": 15
        }
      ]
    },
    {
      "cell_type": "code",
      "source": [
        "data.shape"
      ],
      "metadata": {
        "colab": {
          "base_uri": "https://localhost:8080/"
        },
        "id": "JxcOIlnVtJa_",
        "outputId": "ca6b7e9f-c291-4414-c32c-08f4339ef138"
      },
      "execution_count": null,
      "outputs": [
        {
          "output_type": "execute_result",
          "data": {
            "text/plain": [
              "(7879642, 18)"
            ]
          },
          "metadata": {},
          "execution_count": 6
        }
      ]
    },
    {
      "cell_type": "markdown",
      "source": [
        "We have 7879624 rows and 18 columns in this DataFrame.\n"
      ],
      "metadata": {
        "id": "VIXzHNACugXV"
      }
    },
    {
      "cell_type": "code",
      "source": [
        "data.columns"
      ],
      "metadata": {
        "colab": {
          "base_uri": "https://localhost:8080/"
        },
        "id": "XFtSUXhDtJeF",
        "outputId": "a17de57a-e927-434f-8ae0-ee18e3682766"
      },
      "execution_count": null,
      "outputs": [
        {
          "output_type": "execute_result",
          "data": {
            "text/plain": [
              "Index(['School Year', 'District Code', 'District', 'School Code',\n",
              "       'Organization', 'Race', 'Gender', 'Grade', 'SpecialDemo', 'Geography',\n",
              "       'SubGroup', 'Staff Type', 'Staff Category', 'Job Classification',\n",
              "       'Experience', 'Educational Level', 'Educators (FTE)',\n",
              "       'Average Years of Age'],\n",
              "      dtype='object')"
            ]
          },
          "metadata": {},
          "execution_count": 16
        }
      ]
    },
    {
      "cell_type": "code",
      "source": [
        "data['School Year'][10]"
      ],
      "metadata": {
        "colab": {
          "base_uri": "https://localhost:8080/"
        },
        "id": "3b3mBmXlzsdq",
        "outputId": "d24530e4-011a-446a-9178-5b785e5c567d"
      },
      "execution_count": null,
      "outputs": [
        {
          "output_type": "execute_result",
          "data": {
            "text/plain": [
              "2015"
            ]
          },
          "metadata": {},
          "execution_count": 20
        }
      ]
    },
    {
      "cell_type": "code",
      "source": [
        "print(type(data))\n",
        "print(type(data['School Year']))\n",
        "print(type(data['School Year'][0]))"
      ],
      "metadata": {
        "colab": {
          "base_uri": "https://localhost:8080/"
        },
        "id": "AKWW-mVbyKFb",
        "outputId": "23878d34-cd5b-4f5b-8c68-a5affeeed261"
      },
      "execution_count": null,
      "outputs": [
        {
          "output_type": "stream",
          "name": "stdout",
          "text": [
            "<class 'pandas.core.frame.DataFrame'>\n",
            "<class 'pandas.core.series.Series'>\n",
            "<class 'numpy.int64'>\n"
          ]
        }
      ]
    },
    {
      "cell_type": "code",
      "source": [
        "# -- Set to see all values in columns \n",
        "pd.set_option('display.max_columns', None)\n",
        "pd.set_option('display.max_rows', None)"
      ],
      "metadata": {
        "id": "iKZP4DWp3_9k"
      },
      "execution_count": null,
      "outputs": []
    },
    {
      "cell_type": "code",
      "source": [
        "data.describe()"
      ],
      "metadata": {
        "colab": {
          "base_uri": "https://localhost:8080/",
          "height": 300
        },
        "id": "MbU-or4oyKCL",
        "outputId": "2c95525e-3f93-45a4-f823-e0195c2de979"
      },
      "execution_count": null,
      "outputs": [
        {
          "output_type": "execute_result",
          "data": {
            "text/plain": [
              "        School Year  District Code   School Code  Educators (FTE)  \\\n",
              "count  7.879642e+06   7.879642e+06  7.879642e+06     7.879642e+06   \n",
              "mean   2.018974e+03   2.846507e+02  3.788566e+02     8.938129e+00   \n",
              "std    2.306184e+00   1.536866e+03  5.147286e+02     9.644620e+01   \n",
              "min    2.015000e+03   0.000000e+00  0.000000e+00     0.000000e+00   \n",
              "25%    2.017000e+03   1.800000e+01  0.000000e+00     1.000000e+00   \n",
              "50%    2.019000e+03   3.200000e+01  3.090000e+02     2.000000e+00   \n",
              "75%    2.021000e+03   3.500000e+01  6.360000e+02     4.000000e+00   \n",
              "max    2.022000e+03   9.614000e+03  4.090000e+03     2.023910e+04   \n",
              "\n",
              "       Average Years of Age  \n",
              "count          7.879642e+06  \n",
              "mean           4.494546e+01  \n",
              "std            2.775509e+01  \n",
              "min            1.500000e+01  \n",
              "25%            3.800000e+01  \n",
              "50%            4.500000e+01  \n",
              "75%            5.100000e+01  \n",
              "max            2.300000e+03  "
            ],
            "text/html": [
              "\n",
              "  <div id=\"df-5a2b68dc-364b-4047-ab83-eb8758f93c99\">\n",
              "    <div class=\"colab-df-container\">\n",
              "      <div>\n",
              "<style scoped>\n",
              "    .dataframe tbody tr th:only-of-type {\n",
              "        vertical-align: middle;\n",
              "    }\n",
              "\n",
              "    .dataframe tbody tr th {\n",
              "        vertical-align: top;\n",
              "    }\n",
              "\n",
              "    .dataframe thead th {\n",
              "        text-align: right;\n",
              "    }\n",
              "</style>\n",
              "<table border=\"1\" class=\"dataframe\">\n",
              "  <thead>\n",
              "    <tr style=\"text-align: right;\">\n",
              "      <th></th>\n",
              "      <th>School Year</th>\n",
              "      <th>District Code</th>\n",
              "      <th>School Code</th>\n",
              "      <th>Educators (FTE)</th>\n",
              "      <th>Average Years of Age</th>\n",
              "    </tr>\n",
              "  </thead>\n",
              "  <tbody>\n",
              "    <tr>\n",
              "      <th>count</th>\n",
              "      <td>7.879642e+06</td>\n",
              "      <td>7.879642e+06</td>\n",
              "      <td>7.879642e+06</td>\n",
              "      <td>7.879642e+06</td>\n",
              "      <td>7.879642e+06</td>\n",
              "    </tr>\n",
              "    <tr>\n",
              "      <th>mean</th>\n",
              "      <td>2.018974e+03</td>\n",
              "      <td>2.846507e+02</td>\n",
              "      <td>3.788566e+02</td>\n",
              "      <td>8.938129e+00</td>\n",
              "      <td>4.494546e+01</td>\n",
              "    </tr>\n",
              "    <tr>\n",
              "      <th>std</th>\n",
              "      <td>2.306184e+00</td>\n",
              "      <td>1.536866e+03</td>\n",
              "      <td>5.147286e+02</td>\n",
              "      <td>9.644620e+01</td>\n",
              "      <td>2.775509e+01</td>\n",
              "    </tr>\n",
              "    <tr>\n",
              "      <th>min</th>\n",
              "      <td>2.015000e+03</td>\n",
              "      <td>0.000000e+00</td>\n",
              "      <td>0.000000e+00</td>\n",
              "      <td>0.000000e+00</td>\n",
              "      <td>1.500000e+01</td>\n",
              "    </tr>\n",
              "    <tr>\n",
              "      <th>25%</th>\n",
              "      <td>2.017000e+03</td>\n",
              "      <td>1.800000e+01</td>\n",
              "      <td>0.000000e+00</td>\n",
              "      <td>1.000000e+00</td>\n",
              "      <td>3.800000e+01</td>\n",
              "    </tr>\n",
              "    <tr>\n",
              "      <th>50%</th>\n",
              "      <td>2.019000e+03</td>\n",
              "      <td>3.200000e+01</td>\n",
              "      <td>3.090000e+02</td>\n",
              "      <td>2.000000e+00</td>\n",
              "      <td>4.500000e+01</td>\n",
              "    </tr>\n",
              "    <tr>\n",
              "      <th>75%</th>\n",
              "      <td>2.021000e+03</td>\n",
              "      <td>3.500000e+01</td>\n",
              "      <td>6.360000e+02</td>\n",
              "      <td>4.000000e+00</td>\n",
              "      <td>5.100000e+01</td>\n",
              "    </tr>\n",
              "    <tr>\n",
              "      <th>max</th>\n",
              "      <td>2.022000e+03</td>\n",
              "      <td>9.614000e+03</td>\n",
              "      <td>4.090000e+03</td>\n",
              "      <td>2.023910e+04</td>\n",
              "      <td>2.300000e+03</td>\n",
              "    </tr>\n",
              "  </tbody>\n",
              "</table>\n",
              "</div>\n",
              "      <button class=\"colab-df-convert\" onclick=\"convertToInteractive('df-5a2b68dc-364b-4047-ab83-eb8758f93c99')\"\n",
              "              title=\"Convert this dataframe to an interactive table.\"\n",
              "              style=\"display:none;\">\n",
              "        \n",
              "  <svg xmlns=\"http://www.w3.org/2000/svg\" height=\"24px\"viewBox=\"0 0 24 24\"\n",
              "       width=\"24px\">\n",
              "    <path d=\"M0 0h24v24H0V0z\" fill=\"none\"/>\n",
              "    <path d=\"M18.56 5.44l.94 2.06.94-2.06 2.06-.94-2.06-.94-.94-2.06-.94 2.06-2.06.94zm-11 1L8.5 8.5l.94-2.06 2.06-.94-2.06-.94L8.5 2.5l-.94 2.06-2.06.94zm10 10l.94 2.06.94-2.06 2.06-.94-2.06-.94-.94-2.06-.94 2.06-2.06.94z\"/><path d=\"M17.41 7.96l-1.37-1.37c-.4-.4-.92-.59-1.43-.59-.52 0-1.04.2-1.43.59L10.3 9.45l-7.72 7.72c-.78.78-.78 2.05 0 2.83L4 21.41c.39.39.9.59 1.41.59.51 0 1.02-.2 1.41-.59l7.78-7.78 2.81-2.81c.8-.78.8-2.07 0-2.86zM5.41 20L4 18.59l7.72-7.72 1.47 1.35L5.41 20z\"/>\n",
              "  </svg>\n",
              "      </button>\n",
              "      \n",
              "  <style>\n",
              "    .colab-df-container {\n",
              "      display:flex;\n",
              "      flex-wrap:wrap;\n",
              "      gap: 12px;\n",
              "    }\n",
              "\n",
              "    .colab-df-convert {\n",
              "      background-color: #E8F0FE;\n",
              "      border: none;\n",
              "      border-radius: 50%;\n",
              "      cursor: pointer;\n",
              "      display: none;\n",
              "      fill: #1967D2;\n",
              "      height: 32px;\n",
              "      padding: 0 0 0 0;\n",
              "      width: 32px;\n",
              "    }\n",
              "\n",
              "    .colab-df-convert:hover {\n",
              "      background-color: #E2EBFA;\n",
              "      box-shadow: 0px 1px 2px rgba(60, 64, 67, 0.3), 0px 1px 3px 1px rgba(60, 64, 67, 0.15);\n",
              "      fill: #174EA6;\n",
              "    }\n",
              "\n",
              "    [theme=dark] .colab-df-convert {\n",
              "      background-color: #3B4455;\n",
              "      fill: #D2E3FC;\n",
              "    }\n",
              "\n",
              "    [theme=dark] .colab-df-convert:hover {\n",
              "      background-color: #434B5C;\n",
              "      box-shadow: 0px 1px 3px 1px rgba(0, 0, 0, 0.15);\n",
              "      filter: drop-shadow(0px 1px 2px rgba(0, 0, 0, 0.3));\n",
              "      fill: #FFFFFF;\n",
              "    }\n",
              "  </style>\n",
              "\n",
              "      <script>\n",
              "        const buttonEl =\n",
              "          document.querySelector('#df-5a2b68dc-364b-4047-ab83-eb8758f93c99 button.colab-df-convert');\n",
              "        buttonEl.style.display =\n",
              "          google.colab.kernel.accessAllowed ? 'block' : 'none';\n",
              "\n",
              "        async function convertToInteractive(key) {\n",
              "          const element = document.querySelector('#df-5a2b68dc-364b-4047-ab83-eb8758f93c99');\n",
              "          const dataTable =\n",
              "            await google.colab.kernel.invokeFunction('convertToInteractive',\n",
              "                                                     [key], {});\n",
              "          if (!dataTable) return;\n",
              "\n",
              "          const docLinkHtml = 'Like what you see? Visit the ' +\n",
              "            '<a target=\"_blank\" href=https://colab.research.google.com/notebooks/data_table.ipynb>data table notebook</a>'\n",
              "            + ' to learn more about interactive tables.';\n",
              "          element.innerHTML = '';\n",
              "          dataTable['output_type'] = 'display_data';\n",
              "          await google.colab.output.renderOutput(dataTable, element);\n",
              "          const docLink = document.createElement('div');\n",
              "          docLink.innerHTML = docLinkHtml;\n",
              "          element.appendChild(docLink);\n",
              "        }\n",
              "      </script>\n",
              "    </div>\n",
              "  </div>\n",
              "  "
            ]
          },
          "metadata": {},
          "execution_count": 25
        }
      ]
    },
    {
      "cell_type": "code",
      "source": [
        "data['Race'].nunique()"
      ],
      "metadata": {
        "colab": {
          "base_uri": "https://localhost:8080/"
        },
        "id": "8gq-q_C40si1",
        "outputId": "65181e25-145d-4a5f-8a17-18e0c4331b36"
      },
      "execution_count": null,
      "outputs": [
        {
          "output_type": "execute_result",
          "data": {
            "text/plain": [
              "8"
            ]
          },
          "metadata": {},
          "execution_count": 29
        }
      ]
    },
    {
      "cell_type": "code",
      "source": [
        "# -- Check data \n",
        "print(data['Race'].values)\n",
        "print(\"\")\n",
        "print(data['Race'].unique())\n",
        "print(\"\")\n",
        "print(\"Number of values in column: {0}\".format(data['Race'].nunique()))"
      ],
      "metadata": {
        "colab": {
          "base_uri": "https://localhost:8080/"
        },
        "id": "0DTFRijR5LIT",
        "outputId": "e8e50bde-1c71-47e4-f098-93ea20ff2159"
      },
      "execution_count": null,
      "outputs": [
        {
          "output_type": "stream",
          "name": "stdout",
          "text": [
            "['Hispanic/Latino' 'Hispanic/Latino' 'Hispanic/Latino' ... 'All Educators'\n",
            " 'All Educators' 'All Educators']\n",
            "\n",
            "['Hispanic/Latino' 'White' 'All Educators' 'Native American'\n",
            " 'African American' 'Asian American' 'Multi-Racial'\n",
            " 'Native Hawaiian/Pacific Islander']\n",
            "\n",
            "Number of values in column: 8\n"
          ]
        }
      ]
    },
    {
      "cell_type": "code",
      "source": [
        "data.columns"
      ],
      "metadata": {
        "colab": {
          "base_uri": "https://localhost:8080/"
        },
        "id": "cyeFilIo2Oc1",
        "outputId": "5c7d8083-d605-4164-8467-258e52583c48"
      },
      "execution_count": null,
      "outputs": [
        {
          "output_type": "execute_result",
          "data": {
            "text/plain": [
              "Index(['School Year', 'District Code', 'District', 'School Code',\n",
              "       'Organization', 'Race', 'Gender', 'Grade', 'SpecialDemo', 'Geography',\n",
              "       'SubGroup', 'Staff Type', 'Staff Category', 'Job Classification',\n",
              "       'Experience', 'Educational Level', 'Educators (FTE)',\n",
              "       'Average Years of Age'],\n",
              "      dtype='object')"
            ]
          },
          "metadata": {},
          "execution_count": 39
        }
      ]
    },
    {
      "cell_type": "code",
      "source": [
        "# -- Ues for loop function\n",
        "for i in data.columns:\n",
        "  result = data[i].unique()\n",
        "  print(result)"
      ],
      "metadata": {
        "id": "iHlez_cE8OIL",
        "colab": {
          "base_uri": "https://localhost:8080/"
        },
        "outputId": "cc7dcfe9-0ee7-426c-bc8e-8ea7a124d1fe"
      },
      "execution_count": null,
      "outputs": [
        {
          "output_type": "stream",
          "name": "stdout",
          "text": [
            "[2015 2021 2016 2017 2018 2019 2020 2022]\n",
            "[   0   13   10   12   15   23   16   17   18   24   29   31   32   33\n",
            "   34   37   35   36   39   38   40   67   72   92   69   71   73   74\n",
            "   75   76   80   82   68   77   85   86   88   87   89 9604 9605 9606\n",
            " 9608 9607 9610 9611 9612 9609 9614]\n",
            "['State of Delaware' 'Capital School District'\n",
            " 'Caesar Rodney School District'\n",
            " 'Consortium Discipline Alternative Programs'\n",
            " 'Lake Forest School District' 'Seaford School District'\n",
            " 'Laurel School District' 'Cape Henlopen School District'\n",
            " 'Milford School District' 'Smyrna School District'\n",
            " 'Appoquinimink School District' 'Brandywine School District'\n",
            " 'Red Clay Consolidated School District' 'Christina School District'\n",
            " 'Colonial School District' 'Delmar School District'\n",
            " 'Woodbridge School District' 'Indian River School District'\n",
            " 'POLYTECH School District'\n",
            " 'New Castle County Vocational-Technical School District'\n",
            " 'Sussex Technical School District' 'Prestige Academy'\n",
            " 'East Side Charter School' 'Gateway Lab School'\n",
            " 'Las Americas Aspira Academy' 'Positive Outcomes Charter School'\n",
            " 'Reach Academy for Girls' 'Campus Community Charter School'\n",
            " 'Moyer (Maurice J.) Academy' 'Edison (Thomas A.) Charter School'\n",
            " 'Family Foundations Academy' 'Kuumba Academy Charter School'\n",
            " 'Delaware Academy of Public Safety and Security'\n",
            " 'Sussex Academy of Arts & Sciences' 'Academy of Dover Charter School'\n",
            " 'Odyssey Charter School' 'MOT Charter School'\n",
            " 'Providence Creek Academy Charter School' 'Newark Charter School'\n",
            " 'Early College High School at Del State' 'Academia Antonia Alonso'\n",
            " 'First State Montessori Academy' 'The Delaware Met' 'Sussex Academy'\n",
            " 'First State Military Academy' 'Delaware Stem Academy'\n",
            " 'Great Oaks Charter School' 'Freire Charter School'\n",
            " 'Charter School of New Castle' 'Delaware Design-Lab High School'\n",
            " 'Campus Community School' 'Design Thinking Academy'\n",
            " 'Freire Charter School Wilmington' 'Sussex Montessori School']\n",
            "[   0  648  618  626  630  609  610  612  615  631  616  632  635  636\n",
            "  611  640  642  644  620  621  622  625  628  777  634  638  646  650\n",
            "  655  693  665  658  657  660  751  752  662  753  756  663  765  782\n",
            "  664  720  721  724  726  728  669  673  675  678  709  712  760  710\n",
            "  722  667  668  670  672  757  759  761  764  762  766  768  680  681\n",
            "  682  684  685  686  688  696  697  700   13   14   16   20   32  110\n",
            "  112  128  124    9   10   11   17   18   21   24   22   23   28   27\n",
            "   29   99  102  107  109  130  132  151  170  178  180  190  156  194\n",
            "  205  256  176  196  510  200  202  204  210  238  240  242  244  248\n",
            "  250  252  260  261  270  274  276  280  246  282  284  290  254  292\n",
            "  294  295  516  264  266  526  527  530  542  578  286  394  302  310\n",
            "  314  318  322  325  330  334  350  354  372  374  376  392  565  534\n",
            "  303  309  312  320  321  537  538  326  324  327  332  339  352  356\n",
            "  358  362  390  540  545  402  733  418  420  427  432  405  450  476\n",
            "  407  514  410  522  412  773  775  730  737  739  780  422  692  736\n",
            "  738  741  742  743  456  474  470  490  776  689  690  691  731  734\n",
            "  732  740  746  748  749  750  729  652   26  671   44   49   56   80\n",
            "  566  571  651   66  572  769  770  573  574  579  568  567  570  575\n",
            "  576  581  587  584  585  586  588  543 4040 4045 4060 4050  271 4055\n",
            " 4070 4075 4080  718  645  783 4065  512  779   34   35  108  529  408\n",
            " 4090  613  623   33   36]\n",
            "['State of Delaware' 'Dover High School' 'Caesar Rodney School District'\n",
            " 'Star Hill Elementary School' 'Caesar Rodney High School'\n",
            " 'John S. Charlton School' 'Capital School District'\n",
            " 'Caesar Rodney Administrative Office' 'Allen Frear Elementary School'\n",
            " 'Major George S. Welch Elementary School'\n",
            " 'Kent Elementary Intensive Learning Center'\n",
            " 'Capital Administrative Office' 'Nellie Hughes Stokes Elementary School'\n",
            " 'East Dover Elementary School' 'North Dover Elementary School'\n",
            " 'Booker T. Washington Elementary School'\n",
            " 'J. Ralph McIlvaine Early Childhood Center' 'Hartly Elementary School'\n",
            " 'Towne Point Elementary School' 'Central Middle School'\n",
            " 'W. B. Simpson Elementary School' 'F. Niel Postlethwait Middle School'\n",
            " 'W. Reily Brown Elementary School' 'Fred Fifer III Middle School'\n",
            " 'Dover Air Force Base Middle School'\n",
            " 'Consortium Discipline Alternative Programs' 'SCOPE - North'\n",
            " 'South Dover Elementary School' 'Fairview Elementary School'\n",
            " 'William Henry Middle School' 'Kent County Community School'\n",
            " 'Kent County Secondary ILC' 'Delaware Teacher Center'\n",
            " 'Lake Forest School District' 'Seaford School District'\n",
            " 'Lake Forest High School' 'Laurel School District'\n",
            " 'Lake Forest East Elementary School' 'Lake Forest Administrative Office'\n",
            " 'Lake Forest North Elementary School' 'Laurel Administrative Office'\n",
            " 'North Laurel Elementary School' 'Lake Forest South Elementary School'\n",
            " 'Dunbar (Paul Laurence) Elementary School' 'Laurel Senior High School'\n",
            " 'Delaware Early Childhood Center' 'Western Sussex Academy'\n",
            " 'Laurel Intermediate Middle School' 'Cape Henlopen School District'\n",
            " 'Chipman (W.T.) Middle School' 'Mariner Middle School'\n",
            " 'Milton Elementary School' 'Beacon Middle School'\n",
            " 'Cape Henlopen High School' 'Sussex Consortium'\n",
            " 'Lake Forest Central Elementary School' 'Milford School District'\n",
            " 'Mispillion Elementary' 'Milford Central Academy'\n",
            " 'Milford Senior High School' 'Cape Henlopen Administrative Office'\n",
            " 'Shields (Richard A.) Elementary School' 'West Seaford Elementary School'\n",
            " 'H. O. Brittingham Elementary School' 'Rehoboth Elementary School'\n",
            " 'Milford Administrative Office' 'Banneker (Benjamin) Elementary School'\n",
            " 'Morris (Evelyn I.) Early Childhood' 'Ross (Lulu M.) Elementary School'\n",
            " 'Seaford Administrative Office' 'Seaford Central Elementary School'\n",
            " 'Blades Elementary School' 'Seaford Middle School'\n",
            " 'Frederick Douglass Elementary School' 'Seaford Senior High School'\n",
            " 'Sussex Orthopedic Program' 'Smyrna School District'\n",
            " 'Clayton Elementary School' 'Sunnyside Elementary School'\n",
            " 'Smyrna Elementary School' 'North Smyrna Elementary School'\n",
            " 'Smyrna Middle School' 'Moore (John Bassett) School' 'Smyrna High School'\n",
            " 'Clayton Intermediate School' 'Smyrna Administrative Office'\n",
            " 'Smyrna Admim Ofc - Clayton Bldg' 'Appoquinimink PreSchool Center'\n",
            " 'Townsend Elementary School' 'Redding (Louis L.) Middle School'\n",
            " 'Loss (Olive B.) Elementary School' 'Old State Elementary School'\n",
            " 'Brandywine School District' 'Appoquinimink School District'\n",
            " 'Hanby Elementary School' 'Carrcroft Elementary School'\n",
            " 'Lancashire Elementary School' 'Forwood Elementary School'\n",
            " 'Appoquinimink Administrative Office' 'Silver Lake Elementary School'\n",
            " 'Cedar Lane Elementary School' 'Meredith (Everett) Middle School'\n",
            " 'Middletown High School' 'Brick Mill Elementary School'\n",
            " 'Appoquinimink High School' 'Cedar Lane Early Childhood Center'\n",
            " 'Waters (Alfred G.) Middle School' 'Bunker Hill Elementary School'\n",
            " 'Townsend Early Childhood Center' 'Spring Meadow Early Childhood Center'\n",
            " 'Brandywine Administrative Office - Data Processing'\n",
            " 'Brandywine Administrative Office - Operations'\n",
            " 'Brandywine Administrative Office - Transportation'\n",
            " 'Brandywine Administrative Office - Maintenance'\n",
            " 'Lombardy Elementary School' 'Maple Lane Elementary School'\n",
            " 'Claymont Elementary School' 'duPont (Pierre S.) Middle School'\n",
            " 'Springer Middle School' 'Talley Middle School' 'Brandywine High School'\n",
            " 'Harlan (David W. ) Elementary School' 'Concord High School'\n",
            " 'Red Clay - Technology' 'Marbrook Elementary School'\n",
            " 'Mount Pleasant Elementary School' 'Mount Pleasant High School'\n",
            " 'Bush (Charles W.) Pre-School' 'Red Clay Consolidated School District'\n",
            " 'Red Clay - Transportation' 'Special Services Center'\n",
            " 'Red Clay Food Services' 'Red Clay District Administration'\n",
            " 'Red Clay - Maintenance' 'Forest Oak Elementary School'\n",
            " 'Heritage Elementary School' 'Highlands Elementary School'\n",
            " 'Shortlidge (Evan G.) Academy' 'Linden Hill Elementary School'\n",
            " 'Baltz (Austin D.) Elementary School' 'Richey Elementary School'\n",
            " 'Brandywine Springs School' 'North Star Elementary School'\n",
            " 'duPont (Alexis I.) Middle School' 'duPont (H.B.) Middle School'\n",
            " 'Skyline Middle School'\n",
            " 'Lewis (William C.) Dual Language Elementary School'\n",
            " 'Stanton Middle School' 'Conrad Schools of Science'\n",
            " 'Dickinson (John) High School' 'Richardson Park Elementary School'\n",
            " 'duPont (Alexis I.) High School' 'McKean (Thomas) High School'\n",
            " 'Charter School of Wilmington' 'Meadowood Program'\n",
            " 'Mote (Anna P.) Elementary School' 'Warner Elementary School'\n",
            " 'Richardson Park Learning Center' 'Central School (The)'\n",
            " 'First State School' 'do not assign(DFMS)' 'Delaware Military Academy'\n",
            " 'Calloway (Cab) School of the Arts' 'Newark High School'\n",
            " 'Christina School District' 'Christina Administrative Office'\n",
            " 'Brookside Elementary School' 'Jones (Albert H.) Elementary School'\n",
            " 'Downes (John R.) Elementary School' 'Leasure (May B.) Elementary School'\n",
            " 'Christina Special Services' 'Smith (Jennie E.) Elementary School'\n",
            " 'Wilson (Etta J.) Elementary School' 'Bancroft Elementary School'\n",
            " 'Pyle (Sarah) Academy' 'Gauger-Cobbs Middle School'\n",
            " 'Kirk (George V.) Middle School' 'Shue-Medill Middle School'\n",
            " 'Glasgow High School' 'Delaware College Preparatory Academy' 'Networks'\n",
            " 'Christina Transportation Center'\n",
            " 'Christina Operations and Maintenance (EDEN)'\n",
            " 'Marshall (Thurgood) Elementary School'\n",
            " 'Gallaher (Robert S.) Elementary School'\n",
            " 'Keene (William B.) Elementary School' 'Douglass School'\n",
            " 'Brennen School (The)' 'McVey (Joseph M.) Elementary School'\n",
            " 'Maclary (R. Elisabeth) Elementary School'\n",
            " 'Oberle (William) Elementary School' 'West Park Place Elementary School'\n",
            " 'Brader (Henry M.) Elementary School' 'Bayard Middle School'\n",
            " 'Elbert-Palmer Elementary School' 'Pulaski (Casimir) Elementary School'\n",
            " 'Stubbs (Frederick Douglass) Elementary School' 'Christiana High School'\n",
            " 'Delaware School for the Deaf Secondary'\n",
            " 'Christina Early Education Center' 'Colonial School District'\n",
            " 'Colonial Administrative Office' 'Delmar Middle School'\n",
            " 'Pleasantville Elementary School' 'Wilmington Manor Elementary School'\n",
            " 'Southern Elementary School' 'New Castle Elementary School'\n",
            " 'Colonial Admin Ofc - Technology Center' 'The Colwyck Center'\n",
            " 'McCullough (Calvin R. ) Middle School'\n",
            " 'Colonial Admin Ofc - Transportation' 'Leach (John G.) School'\n",
            " 'Downie (Carrie) Elementary School' 'The Wallace Wallin School'\n",
            " 'Castle Hills Elementary School' 'Woodbridge School District'\n",
            " 'Woodbridge Administrative Office' 'Woodbridge Middle School'\n",
            " 'Delmar School District' 'Delmar High School' 'Delmar Secondary ILC'\n",
            " 'Delmar Middle Level ILC' 'Woodbridge High School'\n",
            " 'Indian River School District' 'Wilbur (Kathleen H.) Elementary'\n",
            " 'North Georgetown Elementary School' 'Lord Baltimore Elementary School'\n",
            " 'East Millsboro Elementary School' 'Millsboro Middle School'\n",
            " 'Selbyville Middle School' 'Georgetown Middle School'\n",
            " 'Eisenberg (Harry O.) Elementary School' 'Read (George) Middle School'\n",
            " 'Bedford (Gunning) Middle School' 'Penn (William) High School'\n",
            " 'Woodbridge Early Childhood Education Center'\n",
            " 'Carver (G.W.) Educational Center' 'Long Neck Elementary School'\n",
            " 'Georgetown Kindergarten Center' 'Indian River Administrative Office'\n",
            " 'Georgetown Elementary School' 'Clayton (John M.) Elementary School'\n",
            " 'Showell (Phillip C.) Elementary School' 'Indian River High School'\n",
            " 'Sussex Central High School' 'Southern Delaware School of the Arts'\n",
            " 'Ennis (Howard T.) School' 'Delmar Administrative Office'\n",
            " 'POLYTECH High School' 'POLYTECH School District'\n",
            " 'New Castle County Vocational-Technical School District'\n",
            " 'Howard High School of Technology' 'Tech Prep - Delaware'\n",
            " 'Sussex Technical School District' 'St. Georges Technical High School'\n",
            " 'Prestige Academy' 'NCC Votech Administrative Office'\n",
            " 'Delaware Skills Center' 'Delcastle Technical High School'\n",
            " 'East Side Charter School' 'Gateway Lab School'\n",
            " 'Polytech Administrative Office'\n",
            " 'Hodgson (Paul M.) Vocational Technical High School'\n",
            " 'Las Americas Aspira Academy' 'Positive Outcomes Charter School'\n",
            " 'Reach Academy for Girls' 'Sussex Technical Administrative Office'\n",
            " 'Sussex Technical High School' 'Campus Community School'\n",
            " 'Moyer (Maurice J.) Academy' 'Edison (Thomas A.) Charter School'\n",
            " 'Family Foundations Academy' 'Kuumba Academy Charter School'\n",
            " 'Delaware Academy of Public Safety and Security'\n",
            " 'Las Americas ASPIRA Academy' 'Campus Community Charter School'\n",
            " 'Sussex Academy of Arts & Sciences' 'Sussex Academy of Arts and Sciences'\n",
            " 'Academy of Dover Charter School' 'Odyssey Charter School'\n",
            " 'MOT Charter School' 'Academy Of Dover Charter School'\n",
            " 'Providence Creek Academy Charter School' 'Newark Charter School'\n",
            " 'Early College High School at Del State' 'Academia Antonia Alonso'\n",
            " 'First State Montessori Academy' 'The Delaware Met' 'Delaware Met (The)'\n",
            " 'William F. Cooke Jr. Elementary'\n",
            " 'Delaware School for the Deaf School (DSD)' 'Sussex Academy'\n",
            " 'First State Military Academy' 'Delaware STEM Academy'\n",
            " 'Delaware Stem Academy' 'Great Oaks Charter School'\n",
            " 'Freire Charter School' 'Love Creek Elementary School'\n",
            " 'Capital Early Childhood Center' 'Groves Adult School'\n",
            " 'North Laurel Early Learning Academy' 'Laurel Middle School'\n",
            " 'Laurel Elementary School' 'Charter School of New Castle'\n",
            " 'Delaware Design-Lab High School' 'REACH/CBIP'\n",
            " 'Phillis Wheatley Elementary School' 'Odessa High School'\n",
            " 'Lorewood Grove Elementary School' 'Brandywine SITE'\n",
            " 'Red Clay Early Years Program' 'Carrie Downie Elementary School'\n",
            " 'Bancroft School (The)' 'Bayard School (The)'\n",
            " 'Stubbs Early Education Center' 'Polytech High School'\n",
            " 'Design Thinking Academy' 'Freire Charter School Wilmington'\n",
            " 'Dickinson (John) School' 'The Bancroft School' 'The Bayard School'\n",
            " 'REACH' 'The Teaching &Learning Center' 'Sussex Montessori School'\n",
            " 'Magnolia Middle School' 'David E. Robinson Elementary School'\n",
            " 'Cantwell Bridge Middle School' 'Brick Mill Early Childhood Center'\n",
            " 'Gateway Charter School']\n",
            "['Hispanic/Latino' 'White' 'All Educators' 'Native American'\n",
            " 'African American' 'Asian American' 'Multi-Racial'\n",
            " 'Native Hawaiian/Pacific Islander']\n",
            "['All Educators' 'Female' 'Male']\n",
            "['All Educators']\n",
            "['All Educators' 'Regular' 'Charter' 'Service' nan]\n",
            "['All Educators']\n",
            "['Hispanic/Latino' 'Hispanic/Latino/Regular School'\n",
            " 'Hispanic/Latino/Charter School' 'White/Female' 'Female'\n",
            " 'Hispanic/Latino/Female/Regular School'\n",
            " 'Hispanic/Latino/Female/Charter School' 'Hispanic/Latino/Female'\n",
            " 'Hispanic/Latino/Male' 'Native American'\n",
            " 'Native American/Male/Regular School'\n",
            " 'Hispanic/Latino/Male/Regular School'\n",
            " 'Hispanic/Latino/Male/Charter School' 'Native American/Male'\n",
            " 'African American' 'Native American/Regular School'\n",
            " 'Native American/Charter School' 'Native American/Female/Regular School'\n",
            " 'African American/Female/Charter School'\n",
            " 'African American/Male/Service School' 'Native American/Female'\n",
            " 'Native American/Female/Charter School'\n",
            " 'Native American/Male/Charter School' 'African American/Regular School'\n",
            " 'African American/Charter School' 'African American/Service School'\n",
            " 'African American/Male/Regular School' 'African American/Male'\n",
            " 'White/Regular School' 'White/Charter School' 'White/Service School'\n",
            " 'White' 'African American/Female'\n",
            " 'African American/Female/Regular School'\n",
            " 'African American/Female/Service School'\n",
            " 'African American/Male/Charter School' 'White/Female/Regular School'\n",
            " 'White/Female/Charter School' 'White/Female/Service School'\n",
            " 'White/Male/Charter School' 'White/Male/Regular School'\n",
            " 'White/Male/Service School' 'White/Male' 'Asian American/Charter School'\n",
            " 'Asian American' 'Asian American/Regular School' 'Asian American/Male'\n",
            " 'Asian American/Female/Regular School' 'Asian American/Female'\n",
            " 'Asian American/Female/Charter School'\n",
            " 'Asian American/Male/Regular School' 'Asian American/Male/Charter School'\n",
            " 'Multi-Racial' 'Native Hawaiian/Pacific Islander/Regular School'\n",
            " 'Native Hawaiian/Pacific Islander'\n",
            " 'Native Hawaiian/Pacific Islander/Female/Regular School'\n",
            " 'Native Hawaiian/Pacific Islander/Female' 'Multi-Racial/Regular School'\n",
            " 'Multi-Racial/Charter School' 'Multi-Racial/Female' 'Multi-Racial/Male'\n",
            " 'Multi-Racial/Female/Regular School' 'Multi-Racial/Female/Charter School'\n",
            " 'All Educators' 'Multi-Racial/Male/Regular School'\n",
            " 'Multi-Racial/Male/Charter School' 'Charter School' 'Regular School'\n",
            " 'Service School' 'Female/Charter School' 'Female/Service School'\n",
            " 'Female/Regular School' 'Male/Regular School' 'Male'\n",
            " 'Male/Charter School' 'Male/Service School' nan\n",
            " 'Hispanic/Latino/Service School' 'Multi-Racial/Service School'\n",
            " 'Hispanic/Latino/Male/Service School'\n",
            " 'Native Hawaiian/Pacific Islander/Charter School'\n",
            " 'Native Hawaiian/Pacific Islander/Female/Charter School'\n",
            " 'Multi-Racial/Male/Service School'\n",
            " 'Native Hawaiian/Pacific Islander/Male'\n",
            " 'Native Hawaiian/Pacific Islander/Male/Regular School'\n",
            " 'Native Hawaiian/Pacific Islander/Male/Charter School']\n",
            "['Professional' 'Non-Professional' 'ALL']\n",
            "['ALL' 'Classroom Teacher' 'Instructional Support'\n",
            " 'Official/Administrative' 'Pupil Support' 'Skilled & Service Workers']\n",
            "['ALL' 'Teacher, Regular Elementary' 'Teacher, Regular Secondary'\n",
            " 'Teacher, Special Elementary' 'Teacher, Special Secondary'\n",
            " 'Guidance Counselor' 'Other Instructional Support'\n",
            " 'Specialist, Instructional' 'Supervisor, Instructional'\n",
            " 'Administrative Assistant' 'Assistant Principal' 'Director'\n",
            " 'Other General Support' 'Principal' 'Specialist, General Support'\n",
            " 'Superintendent' 'Supervisor, General Support' 'Home Visitor' 'Nurse'\n",
            " 'Psychologist' 'Social Worker' 'Specialist, Pupil Support'\n",
            " 'Speech and Hearing Therapist' 'Bus Driver & Laborer' 'Cafeteria Worker'\n",
            " 'Crafts & Trades' 'Custodial' 'Managerial' 'Secretarial' 'Service Aide'\n",
            " 'Teaching & Clerical Aide' 'Technical' 'Other Pupil Support'\n",
            " 'Supervisor, Pupil Support' 'Assistant Superintendent' 'Librarian'\n",
            " 'Psychometrist']\n",
            "['ALL' 'Early Career' 'Experienced']\n",
            "['ALL' 'Not Reported/Unknown' 'Less Than Bachelor Degree'\n",
            " 'Two Years of College' 'Associate Degree' 'Bachelor Degree'\n",
            " 'Bachelor Degree Plus 15 Credits' 'Bachelor Degree Plus 30 Credits'\n",
            " 'Doctorate Degree' 'Master Degree' 'Master Degree Plus 15 Credits'\n",
            " 'Master Degree Plus 30 Credits' 'Master Degree Plus 45 Credits']\n",
            "[321.  250.  118.  ... 231.1 212.3 171.3]\n",
            "[  39   38   40   35   37   45   48   43   46   42   32   41   47   53\n",
            "   49   36   44   51   34   26   24   60   31   23   29   56   58   50\n",
            "   52   62   30   33   28   25   27   65   63   54   59   67   61   57\n",
            "   19   55   64   66   22   74   73   70   69   72   21   20   68   82\n",
            "   71   79   80   75   76   78   16   84   90 2247 2067   18   87   17\n",
            "  110   81  128   77   85   89   83  130   15  102  114   96  116  106\n",
            " 2300   88   95  440  108  120  119   91  667  112 1067  127   93  111\n",
            "   98  104  225   94  121  118  126  123  183   97  133  155  270  140\n",
            "   99   86 1461  100  480  107  124  156  132  560  188  172  567  113\n",
            "  174  101  700 2285 2100  600  117  122 1100  105  218  230 1400  158\n",
            "  125  187  800  275 1498  450  131  144 1767  240  490 1640  153  129\n",
            "  570  176  136  192  103  138]\n"
          ]
        }
      ]
    },
    {
      "cell_type": "code",
      "source": [
        "col = ['Race', 'Gender', 'Educational Level']"
      ],
      "metadata": {
        "id": "9h8rtZA98k4R"
      },
      "execution_count": null,
      "outputs": []
    },
    {
      "cell_type": "code",
      "source": [
        "data[col]"
      ],
      "metadata": {
        "id": "WAl00TgF2xHl"
      },
      "execution_count": null,
      "outputs": []
    },
    {
      "cell_type": "markdown",
      "source": [
        "# Data manipulation"
      ],
      "metadata": {
        "id": "92updcp_29j4"
      }
    },
    {
      "cell_type": "code",
      "source": [
        "# -- Subset dataframe focusing on DEI\n",
        "subdata = data[['Race', 'Gender', 'Educational Level']]\n",
        "subdata.head()\n",
        "subdata.tail()"
      ],
      "metadata": {
        "colab": {
          "base_uri": "https://localhost:8080/",
          "height": 206
        },
        "id": "CxjCTZjd7j2s",
        "outputId": "e87a2b2b-0f58-4f54-82aa-169067196387"
      },
      "execution_count": null,
      "outputs": [
        {
          "output_type": "execute_result",
          "data": {
            "text/plain": [
              "                  Race Gender Educational Level\n",
              "7879637  All Educators   Male     Master Degree\n",
              "7879638  All Educators   Male     Master Degree\n",
              "7879639  All Educators   Male     Master Degree\n",
              "7879640  All Educators   Male     Master Degree\n",
              "7879641  All Educators   Male     Master Degree"
            ],
            "text/html": [
              "\n",
              "  <div id=\"df-a033efbd-5793-4799-a765-297d619f51ba\">\n",
              "    <div class=\"colab-df-container\">\n",
              "      <div>\n",
              "<style scoped>\n",
              "    .dataframe tbody tr th:only-of-type {\n",
              "        vertical-align: middle;\n",
              "    }\n",
              "\n",
              "    .dataframe tbody tr th {\n",
              "        vertical-align: top;\n",
              "    }\n",
              "\n",
              "    .dataframe thead th {\n",
              "        text-align: right;\n",
              "    }\n",
              "</style>\n",
              "<table border=\"1\" class=\"dataframe\">\n",
              "  <thead>\n",
              "    <tr style=\"text-align: right;\">\n",
              "      <th></th>\n",
              "      <th>Race</th>\n",
              "      <th>Gender</th>\n",
              "      <th>Educational Level</th>\n",
              "    </tr>\n",
              "  </thead>\n",
              "  <tbody>\n",
              "    <tr>\n",
              "      <th>7879637</th>\n",
              "      <td>All Educators</td>\n",
              "      <td>Male</td>\n",
              "      <td>Master Degree</td>\n",
              "    </tr>\n",
              "    <tr>\n",
              "      <th>7879638</th>\n",
              "      <td>All Educators</td>\n",
              "      <td>Male</td>\n",
              "      <td>Master Degree</td>\n",
              "    </tr>\n",
              "    <tr>\n",
              "      <th>7879639</th>\n",
              "      <td>All Educators</td>\n",
              "      <td>Male</td>\n",
              "      <td>Master Degree</td>\n",
              "    </tr>\n",
              "    <tr>\n",
              "      <th>7879640</th>\n",
              "      <td>All Educators</td>\n",
              "      <td>Male</td>\n",
              "      <td>Master Degree</td>\n",
              "    </tr>\n",
              "    <tr>\n",
              "      <th>7879641</th>\n",
              "      <td>All Educators</td>\n",
              "      <td>Male</td>\n",
              "      <td>Master Degree</td>\n",
              "    </tr>\n",
              "  </tbody>\n",
              "</table>\n",
              "</div>\n",
              "      <button class=\"colab-df-convert\" onclick=\"convertToInteractive('df-a033efbd-5793-4799-a765-297d619f51ba')\"\n",
              "              title=\"Convert this dataframe to an interactive table.\"\n",
              "              style=\"display:none;\">\n",
              "        \n",
              "  <svg xmlns=\"http://www.w3.org/2000/svg\" height=\"24px\"viewBox=\"0 0 24 24\"\n",
              "       width=\"24px\">\n",
              "    <path d=\"M0 0h24v24H0V0z\" fill=\"none\"/>\n",
              "    <path d=\"M18.56 5.44l.94 2.06.94-2.06 2.06-.94-2.06-.94-.94-2.06-.94 2.06-2.06.94zm-11 1L8.5 8.5l.94-2.06 2.06-.94-2.06-.94L8.5 2.5l-.94 2.06-2.06.94zm10 10l.94 2.06.94-2.06 2.06-.94-2.06-.94-.94-2.06-.94 2.06-2.06.94z\"/><path d=\"M17.41 7.96l-1.37-1.37c-.4-.4-.92-.59-1.43-.59-.52 0-1.04.2-1.43.59L10.3 9.45l-7.72 7.72c-.78.78-.78 2.05 0 2.83L4 21.41c.39.39.9.59 1.41.59.51 0 1.02-.2 1.41-.59l7.78-7.78 2.81-2.81c.8-.78.8-2.07 0-2.86zM5.41 20L4 18.59l7.72-7.72 1.47 1.35L5.41 20z\"/>\n",
              "  </svg>\n",
              "      </button>\n",
              "      \n",
              "  <style>\n",
              "    .colab-df-container {\n",
              "      display:flex;\n",
              "      flex-wrap:wrap;\n",
              "      gap: 12px;\n",
              "    }\n",
              "\n",
              "    .colab-df-convert {\n",
              "      background-color: #E8F0FE;\n",
              "      border: none;\n",
              "      border-radius: 50%;\n",
              "      cursor: pointer;\n",
              "      display: none;\n",
              "      fill: #1967D2;\n",
              "      height: 32px;\n",
              "      padding: 0 0 0 0;\n",
              "      width: 32px;\n",
              "    }\n",
              "\n",
              "    .colab-df-convert:hover {\n",
              "      background-color: #E2EBFA;\n",
              "      box-shadow: 0px 1px 2px rgba(60, 64, 67, 0.3), 0px 1px 3px 1px rgba(60, 64, 67, 0.15);\n",
              "      fill: #174EA6;\n",
              "    }\n",
              "\n",
              "    [theme=dark] .colab-df-convert {\n",
              "      background-color: #3B4455;\n",
              "      fill: #D2E3FC;\n",
              "    }\n",
              "\n",
              "    [theme=dark] .colab-df-convert:hover {\n",
              "      background-color: #434B5C;\n",
              "      box-shadow: 0px 1px 3px 1px rgba(0, 0, 0, 0.15);\n",
              "      filter: drop-shadow(0px 1px 2px rgba(0, 0, 0, 0.3));\n",
              "      fill: #FFFFFF;\n",
              "    }\n",
              "  </style>\n",
              "\n",
              "      <script>\n",
              "        const buttonEl =\n",
              "          document.querySelector('#df-a033efbd-5793-4799-a765-297d619f51ba button.colab-df-convert');\n",
              "        buttonEl.style.display =\n",
              "          google.colab.kernel.accessAllowed ? 'block' : 'none';\n",
              "\n",
              "        async function convertToInteractive(key) {\n",
              "          const element = document.querySelector('#df-a033efbd-5793-4799-a765-297d619f51ba');\n",
              "          const dataTable =\n",
              "            await google.colab.kernel.invokeFunction('convertToInteractive',\n",
              "                                                     [key], {});\n",
              "          if (!dataTable) return;\n",
              "\n",
              "          const docLinkHtml = 'Like what you see? Visit the ' +\n",
              "            '<a target=\"_blank\" href=https://colab.research.google.com/notebooks/data_table.ipynb>data table notebook</a>'\n",
              "            + ' to learn more about interactive tables.';\n",
              "          element.innerHTML = '';\n",
              "          dataTable['output_type'] = 'display_data';\n",
              "          await google.colab.output.renderOutput(dataTable, element);\n",
              "          const docLink = document.createElement('div');\n",
              "          docLink.innerHTML = docLinkHtml;\n",
              "          element.appendChild(docLink);\n",
              "        }\n",
              "      </script>\n",
              "    </div>\n",
              "  </div>\n",
              "  "
            ]
          },
          "metadata": {},
          "execution_count": 43
        }
      ]
    },
    {
      "cell_type": "code",
      "source": [
        "subdata.shape"
      ],
      "metadata": {
        "colab": {
          "base_uri": "https://localhost:8080/"
        },
        "id": "O6BFlHew-9Mw",
        "outputId": "a6598a06-48b6-47fc-cba6-7b07024c59b3"
      },
      "execution_count": null,
      "outputs": [
        {
          "output_type": "execute_result",
          "data": {
            "text/plain": [
              "(7879642, 3)"
            ]
          },
          "metadata": {},
          "execution_count": 44
        }
      ]
    },
    {
      "cell_type": "code",
      "source": [
        "# -- Check nan \n",
        "subdata.isnull().values.any()\n",
        "#subdata.fillna()"
      ],
      "metadata": {
        "id": "7qC0A8A1-9Q3"
      },
      "execution_count": null,
      "outputs": []
    },
    {
      "cell_type": "code",
      "source": [
        "subdata.columns"
      ],
      "metadata": {
        "colab": {
          "base_uri": "https://localhost:8080/"
        },
        "id": "1Bi9G_PwEnf1",
        "outputId": "b4232bb9-215e-446d-ebcd-7e1450db246b"
      },
      "execution_count": null,
      "outputs": [
        {
          "output_type": "execute_result",
          "data": {
            "text/plain": [
              "Index(['Race', 'Gender', 'Educational Level'], dtype='object')"
            ]
          },
          "metadata": {},
          "execution_count": 46
        }
      ]
    },
    {
      "cell_type": "code",
      "source": [
        "for i in subdata.columns:\n",
        "  result = subdata[i].unique()\n",
        "  print(result)"
      ],
      "metadata": {
        "colab": {
          "base_uri": "https://localhost:8080/"
        },
        "id": "3-mwwfKcDw4g",
        "outputId": "0935296d-ca0b-4b11-dd55-3774c47424ad"
      },
      "execution_count": null,
      "outputs": [
        {
          "output_type": "stream",
          "name": "stdout",
          "text": [
            "['Hispanic/Latino' 'White' 'All Educators' 'Native American'\n",
            " 'African American' 'Asian American' 'Multi-Racial'\n",
            " 'Native Hawaiian/Pacific Islander']\n",
            "['All Educators' 'Female' 'Male']\n",
            "['ALL' 'Not Reported/Unknown' 'Less Than Bachelor Degree'\n",
            " 'Two Years of College' 'Associate Degree' 'Bachelor Degree'\n",
            " 'Bachelor Degree Plus 15 Credits' 'Bachelor Degree Plus 30 Credits'\n",
            " 'Doctorate Degree' 'Master Degree' 'Master Degree Plus 15 Credits'\n",
            " 'Master Degree Plus 30 Credits' 'Master Degree Plus 45 Credits']\n"
          ]
        }
      ]
    },
    {
      "cell_type": "code",
      "source": [
        "# -- Drop any rows that have 'All Educators' in the columns\n",
        "subdata = subdata[subdata['Race'].isin(['All Educators']) == False]\n",
        "subdata = subdata[subdata['Gender'].isin(['All Educators']) == False]\n",
        "subdata = subdata[subdata['Educational Level'].isin(['ALL']) == False]\n",
        "subdata.head()"
      ],
      "metadata": {
        "colab": {
          "base_uri": "https://localhost:8080/",
          "height": 206
        },
        "id": "CQBG8hSIEYUt",
        "outputId": "cc3c0af7-a145-4f3a-ab94-af34b853d51c"
      },
      "execution_count": null,
      "outputs": [
        {
          "output_type": "execute_result",
          "data": {
            "text/plain": [
              "                 Race  Gender     Educational Level\n",
              "505             White  Female  Not Reported/Unknown\n",
              "657   Hispanic/Latino  Female       Bachelor Degree\n",
              "1426  Hispanic/Latino  Female  Not Reported/Unknown\n",
              "1427  Hispanic/Latino  Female  Not Reported/Unknown\n",
              "1428  Hispanic/Latino  Female  Not Reported/Unknown"
            ],
            "text/html": [
              "\n",
              "  <div id=\"df-d7ba3058-eff2-4074-9c06-614850fb643a\">\n",
              "    <div class=\"colab-df-container\">\n",
              "      <div>\n",
              "<style scoped>\n",
              "    .dataframe tbody tr th:only-of-type {\n",
              "        vertical-align: middle;\n",
              "    }\n",
              "\n",
              "    .dataframe tbody tr th {\n",
              "        vertical-align: top;\n",
              "    }\n",
              "\n",
              "    .dataframe thead th {\n",
              "        text-align: right;\n",
              "    }\n",
              "</style>\n",
              "<table border=\"1\" class=\"dataframe\">\n",
              "  <thead>\n",
              "    <tr style=\"text-align: right;\">\n",
              "      <th></th>\n",
              "      <th>Race</th>\n",
              "      <th>Gender</th>\n",
              "      <th>Educational Level</th>\n",
              "    </tr>\n",
              "  </thead>\n",
              "  <tbody>\n",
              "    <tr>\n",
              "      <th>505</th>\n",
              "      <td>White</td>\n",
              "      <td>Female</td>\n",
              "      <td>Not Reported/Unknown</td>\n",
              "    </tr>\n",
              "    <tr>\n",
              "      <th>657</th>\n",
              "      <td>Hispanic/Latino</td>\n",
              "      <td>Female</td>\n",
              "      <td>Bachelor Degree</td>\n",
              "    </tr>\n",
              "    <tr>\n",
              "      <th>1426</th>\n",
              "      <td>Hispanic/Latino</td>\n",
              "      <td>Female</td>\n",
              "      <td>Not Reported/Unknown</td>\n",
              "    </tr>\n",
              "    <tr>\n",
              "      <th>1427</th>\n",
              "      <td>Hispanic/Latino</td>\n",
              "      <td>Female</td>\n",
              "      <td>Not Reported/Unknown</td>\n",
              "    </tr>\n",
              "    <tr>\n",
              "      <th>1428</th>\n",
              "      <td>Hispanic/Latino</td>\n",
              "      <td>Female</td>\n",
              "      <td>Not Reported/Unknown</td>\n",
              "    </tr>\n",
              "  </tbody>\n",
              "</table>\n",
              "</div>\n",
              "      <button class=\"colab-df-convert\" onclick=\"convertToInteractive('df-d7ba3058-eff2-4074-9c06-614850fb643a')\"\n",
              "              title=\"Convert this dataframe to an interactive table.\"\n",
              "              style=\"display:none;\">\n",
              "        \n",
              "  <svg xmlns=\"http://www.w3.org/2000/svg\" height=\"24px\"viewBox=\"0 0 24 24\"\n",
              "       width=\"24px\">\n",
              "    <path d=\"M0 0h24v24H0V0z\" fill=\"none\"/>\n",
              "    <path d=\"M18.56 5.44l.94 2.06.94-2.06 2.06-.94-2.06-.94-.94-2.06-.94 2.06-2.06.94zm-11 1L8.5 8.5l.94-2.06 2.06-.94-2.06-.94L8.5 2.5l-.94 2.06-2.06.94zm10 10l.94 2.06.94-2.06 2.06-.94-2.06-.94-.94-2.06-.94 2.06-2.06.94z\"/><path d=\"M17.41 7.96l-1.37-1.37c-.4-.4-.92-.59-1.43-.59-.52 0-1.04.2-1.43.59L10.3 9.45l-7.72 7.72c-.78.78-.78 2.05 0 2.83L4 21.41c.39.39.9.59 1.41.59.51 0 1.02-.2 1.41-.59l7.78-7.78 2.81-2.81c.8-.78.8-2.07 0-2.86zM5.41 20L4 18.59l7.72-7.72 1.47 1.35L5.41 20z\"/>\n",
              "  </svg>\n",
              "      </button>\n",
              "      \n",
              "  <style>\n",
              "    .colab-df-container {\n",
              "      display:flex;\n",
              "      flex-wrap:wrap;\n",
              "      gap: 12px;\n",
              "    }\n",
              "\n",
              "    .colab-df-convert {\n",
              "      background-color: #E8F0FE;\n",
              "      border: none;\n",
              "      border-radius: 50%;\n",
              "      cursor: pointer;\n",
              "      display: none;\n",
              "      fill: #1967D2;\n",
              "      height: 32px;\n",
              "      padding: 0 0 0 0;\n",
              "      width: 32px;\n",
              "    }\n",
              "\n",
              "    .colab-df-convert:hover {\n",
              "      background-color: #E2EBFA;\n",
              "      box-shadow: 0px 1px 2px rgba(60, 64, 67, 0.3), 0px 1px 3px 1px rgba(60, 64, 67, 0.15);\n",
              "      fill: #174EA6;\n",
              "    }\n",
              "\n",
              "    [theme=dark] .colab-df-convert {\n",
              "      background-color: #3B4455;\n",
              "      fill: #D2E3FC;\n",
              "    }\n",
              "\n",
              "    [theme=dark] .colab-df-convert:hover {\n",
              "      background-color: #434B5C;\n",
              "      box-shadow: 0px 1px 3px 1px rgba(0, 0, 0, 0.15);\n",
              "      filter: drop-shadow(0px 1px 2px rgba(0, 0, 0, 0.3));\n",
              "      fill: #FFFFFF;\n",
              "    }\n",
              "  </style>\n",
              "\n",
              "      <script>\n",
              "        const buttonEl =\n",
              "          document.querySelector('#df-d7ba3058-eff2-4074-9c06-614850fb643a button.colab-df-convert');\n",
              "        buttonEl.style.display =\n",
              "          google.colab.kernel.accessAllowed ? 'block' : 'none';\n",
              "\n",
              "        async function convertToInteractive(key) {\n",
              "          const element = document.querySelector('#df-d7ba3058-eff2-4074-9c06-614850fb643a');\n",
              "          const dataTable =\n",
              "            await google.colab.kernel.invokeFunction('convertToInteractive',\n",
              "                                                     [key], {});\n",
              "          if (!dataTable) return;\n",
              "\n",
              "          const docLinkHtml = 'Like what you see? Visit the ' +\n",
              "            '<a target=\"_blank\" href=https://colab.research.google.com/notebooks/data_table.ipynb>data table notebook</a>'\n",
              "            + ' to learn more about interactive tables.';\n",
              "          element.innerHTML = '';\n",
              "          dataTable['output_type'] = 'display_data';\n",
              "          await google.colab.output.renderOutput(dataTable, element);\n",
              "          const docLink = document.createElement('div');\n",
              "          docLink.innerHTML = docLinkHtml;\n",
              "          element.appendChild(docLink);\n",
              "        }\n",
              "      </script>\n",
              "    </div>\n",
              "  </div>\n",
              "  "
            ]
          },
          "metadata": {},
          "execution_count": 50
        }
      ]
    },
    {
      "cell_type": "code",
      "source": [
        "subdata['Gender'].value_counts()"
      ],
      "metadata": {
        "colab": {
          "base_uri": "https://localhost:8080/"
        },
        "id": "d7ECgWaXIytv",
        "outputId": "80d3f1be-5e56-456f-8941-0380688db029"
      },
      "execution_count": null,
      "outputs": [
        {
          "output_type": "execute_result",
          "data": {
            "text/plain": [
              "Female    1226088\n",
              "Male       651963\n",
              "Name: Gender, dtype: int64"
            ]
          },
          "metadata": {},
          "execution_count": 52
        }
      ]
    },
    {
      "cell_type": "code",
      "source": [
        "subdata['Race'].value_counts()"
      ],
      "metadata": {
        "colab": {
          "base_uri": "https://localhost:8080/"
        },
        "id": "X_jivQkUECFD",
        "outputId": "296aad63-6707-4e48-ebe6-fbf8102195f2"
      },
      "execution_count": null,
      "outputs": [
        {
          "output_type": "execute_result",
          "data": {
            "text/plain": [
              "White                               1097658\n",
              "African American                     477562\n",
              "Hispanic/Latino                      166166\n",
              "Asian American                        60525\n",
              "Multi-Racial                          53950\n",
              "Native American                       18904\n",
              "Native Hawaiian/Pacific Islander       3286\n",
              "Name: Race, dtype: int64"
            ]
          },
          "metadata": {},
          "execution_count": 53
        }
      ]
    },
    {
      "cell_type": "code",
      "source": [
        "subdata['Educational Level'].value_counts()"
      ],
      "metadata": {
        "colab": {
          "base_uri": "https://localhost:8080/"
        },
        "id": "xscvi3ZfIyxN",
        "outputId": "36dbb25a-de02-4951-ab1f-d4bafe3bbfa7"
      },
      "execution_count": null,
      "outputs": [
        {
          "output_type": "execute_result",
          "data": {
            "text/plain": [
              "Master Degree                      338416\n",
              "Bachelor Degree                    310511\n",
              "Not Reported/Unknown               288488\n",
              "Less Than Bachelor Degree          245570\n",
              "Master Degree Plus 15 Credits      133847\n",
              "Master Degree Plus 30 Credits      130640\n",
              "Master Degree Plus 45 Credits      119327\n",
              "Bachelor Degree Plus 15 Credits     88410\n",
              "Doctorate Degree                    77463\n",
              "Bachelor Degree Plus 30 Credits     67451\n",
              "Associate Degree                    49624\n",
              "Two Years of College                28304\n",
              "Name: Educational Level, dtype: int64"
            ]
          },
          "metadata": {},
          "execution_count": 54
        }
      ]
    },
    {
      "cell_type": "code",
      "source": [
        "subdata.describe()"
      ],
      "metadata": {
        "colab": {
          "base_uri": "https://localhost:8080/",
          "height": 175
        },
        "id": "ZnaYd4QCSGFI",
        "outputId": "3441c89b-06ea-4380-b0fb-0c7cae889f17"
      },
      "execution_count": null,
      "outputs": [
        {
          "output_type": "execute_result",
          "data": {
            "text/plain": [
              "           Race   Gender Educational Level\n",
              "count   1878051  1878051           1878051\n",
              "unique        7        2                12\n",
              "top       White   Female     Master Degree\n",
              "freq    1097658  1226088            338416"
            ],
            "text/html": [
              "\n",
              "  <div id=\"df-6ff419d9-6c10-470e-a4f8-cfa2b11fb6b6\">\n",
              "    <div class=\"colab-df-container\">\n",
              "      <div>\n",
              "<style scoped>\n",
              "    .dataframe tbody tr th:only-of-type {\n",
              "        vertical-align: middle;\n",
              "    }\n",
              "\n",
              "    .dataframe tbody tr th {\n",
              "        vertical-align: top;\n",
              "    }\n",
              "\n",
              "    .dataframe thead th {\n",
              "        text-align: right;\n",
              "    }\n",
              "</style>\n",
              "<table border=\"1\" class=\"dataframe\">\n",
              "  <thead>\n",
              "    <tr style=\"text-align: right;\">\n",
              "      <th></th>\n",
              "      <th>Race</th>\n",
              "      <th>Gender</th>\n",
              "      <th>Educational Level</th>\n",
              "    </tr>\n",
              "  </thead>\n",
              "  <tbody>\n",
              "    <tr>\n",
              "      <th>count</th>\n",
              "      <td>1878051</td>\n",
              "      <td>1878051</td>\n",
              "      <td>1878051</td>\n",
              "    </tr>\n",
              "    <tr>\n",
              "      <th>unique</th>\n",
              "      <td>7</td>\n",
              "      <td>2</td>\n",
              "      <td>12</td>\n",
              "    </tr>\n",
              "    <tr>\n",
              "      <th>top</th>\n",
              "      <td>White</td>\n",
              "      <td>Female</td>\n",
              "      <td>Master Degree</td>\n",
              "    </tr>\n",
              "    <tr>\n",
              "      <th>freq</th>\n",
              "      <td>1097658</td>\n",
              "      <td>1226088</td>\n",
              "      <td>338416</td>\n",
              "    </tr>\n",
              "  </tbody>\n",
              "</table>\n",
              "</div>\n",
              "      <button class=\"colab-df-convert\" onclick=\"convertToInteractive('df-6ff419d9-6c10-470e-a4f8-cfa2b11fb6b6')\"\n",
              "              title=\"Convert this dataframe to an interactive table.\"\n",
              "              style=\"display:none;\">\n",
              "        \n",
              "  <svg xmlns=\"http://www.w3.org/2000/svg\" height=\"24px\"viewBox=\"0 0 24 24\"\n",
              "       width=\"24px\">\n",
              "    <path d=\"M0 0h24v24H0V0z\" fill=\"none\"/>\n",
              "    <path d=\"M18.56 5.44l.94 2.06.94-2.06 2.06-.94-2.06-.94-.94-2.06-.94 2.06-2.06.94zm-11 1L8.5 8.5l.94-2.06 2.06-.94-2.06-.94L8.5 2.5l-.94 2.06-2.06.94zm10 10l.94 2.06.94-2.06 2.06-.94-2.06-.94-.94-2.06-.94 2.06-2.06.94z\"/><path d=\"M17.41 7.96l-1.37-1.37c-.4-.4-.92-.59-1.43-.59-.52 0-1.04.2-1.43.59L10.3 9.45l-7.72 7.72c-.78.78-.78 2.05 0 2.83L4 21.41c.39.39.9.59 1.41.59.51 0 1.02-.2 1.41-.59l7.78-7.78 2.81-2.81c.8-.78.8-2.07 0-2.86zM5.41 20L4 18.59l7.72-7.72 1.47 1.35L5.41 20z\"/>\n",
              "  </svg>\n",
              "      </button>\n",
              "      \n",
              "  <style>\n",
              "    .colab-df-container {\n",
              "      display:flex;\n",
              "      flex-wrap:wrap;\n",
              "      gap: 12px;\n",
              "    }\n",
              "\n",
              "    .colab-df-convert {\n",
              "      background-color: #E8F0FE;\n",
              "      border: none;\n",
              "      border-radius: 50%;\n",
              "      cursor: pointer;\n",
              "      display: none;\n",
              "      fill: #1967D2;\n",
              "      height: 32px;\n",
              "      padding: 0 0 0 0;\n",
              "      width: 32px;\n",
              "    }\n",
              "\n",
              "    .colab-df-convert:hover {\n",
              "      background-color: #E2EBFA;\n",
              "      box-shadow: 0px 1px 2px rgba(60, 64, 67, 0.3), 0px 1px 3px 1px rgba(60, 64, 67, 0.15);\n",
              "      fill: #174EA6;\n",
              "    }\n",
              "\n",
              "    [theme=dark] .colab-df-convert {\n",
              "      background-color: #3B4455;\n",
              "      fill: #D2E3FC;\n",
              "    }\n",
              "\n",
              "    [theme=dark] .colab-df-convert:hover {\n",
              "      background-color: #434B5C;\n",
              "      box-shadow: 0px 1px 3px 1px rgba(0, 0, 0, 0.15);\n",
              "      filter: drop-shadow(0px 1px 2px rgba(0, 0, 0, 0.3));\n",
              "      fill: #FFFFFF;\n",
              "    }\n",
              "  </style>\n",
              "\n",
              "      <script>\n",
              "        const buttonEl =\n",
              "          document.querySelector('#df-6ff419d9-6c10-470e-a4f8-cfa2b11fb6b6 button.colab-df-convert');\n",
              "        buttonEl.style.display =\n",
              "          google.colab.kernel.accessAllowed ? 'block' : 'none';\n",
              "\n",
              "        async function convertToInteractive(key) {\n",
              "          const element = document.querySelector('#df-6ff419d9-6c10-470e-a4f8-cfa2b11fb6b6');\n",
              "          const dataTable =\n",
              "            await google.colab.kernel.invokeFunction('convertToInteractive',\n",
              "                                                     [key], {});\n",
              "          if (!dataTable) return;\n",
              "\n",
              "          const docLinkHtml = 'Like what you see? Visit the ' +\n",
              "            '<a target=\"_blank\" href=https://colab.research.google.com/notebooks/data_table.ipynb>data table notebook</a>'\n",
              "            + ' to learn more about interactive tables.';\n",
              "          element.innerHTML = '';\n",
              "          dataTable['output_type'] = 'display_data';\n",
              "          await google.colab.output.renderOutput(dataTable, element);\n",
              "          const docLink = document.createElement('div');\n",
              "          docLink.innerHTML = docLinkHtml;\n",
              "          element.appendChild(docLink);\n",
              "        }\n",
              "      </script>\n",
              "    </div>\n",
              "  </div>\n",
              "  "
            ]
          },
          "metadata": {},
          "execution_count": 55
        }
      ]
    },
    {
      "cell_type": "code",
      "source": [
        "subdata.info()"
      ],
      "metadata": {
        "colab": {
          "base_uri": "https://localhost:8080/"
        },
        "id": "jQ1twbFBSGIZ",
        "outputId": "255c6138-f84d-4878-bb30-8ee2c94ccb1d"
      },
      "execution_count": null,
      "outputs": [
        {
          "output_type": "stream",
          "name": "stdout",
          "text": [
            "<class 'pandas.core.frame.DataFrame'>\n",
            "Int64Index: 1878051 entries, 505 to 7878676\n",
            "Data columns (total 3 columns):\n",
            " #   Column             Dtype \n",
            "---  ------             ----- \n",
            " 0   Race               object\n",
            " 1   Gender             object\n",
            " 2   Educational Level  object\n",
            "dtypes: object(3)\n",
            "memory usage: 57.3+ MB\n"
          ]
        }
      ]
    },
    {
      "cell_type": "code",
      "source": [
        "type(subdata)\n",
        "type(subdata[\"Race\"])"
      ],
      "metadata": {
        "id": "RglqBU2OSGL6"
      },
      "execution_count": null,
      "outputs": []
    },
    {
      "cell_type": "code",
      "source": [
        "for i in subdata.columns:\n",
        "  subdata[i] = subdata[i].sort_values()\n",
        "subdata.head()"
      ],
      "metadata": {
        "colab": {
          "base_uri": "https://localhost:8080/",
          "height": 206
        },
        "id": "X3Rp5eeNQ1Iq",
        "outputId": "f6a8fa2b-8ad8-4b43-831c-b4b4bf54952a"
      },
      "execution_count": null,
      "outputs": [
        {
          "output_type": "execute_result",
          "data": {
            "text/plain": [
              "                 Race  Gender     Educational Level\n",
              "505             White  Female  Not Reported/Unknown\n",
              "657   Hispanic/Latino  Female       Bachelor Degree\n",
              "1426  Hispanic/Latino  Female  Not Reported/Unknown\n",
              "1427  Hispanic/Latino  Female  Not Reported/Unknown\n",
              "1428  Hispanic/Latino  Female  Not Reported/Unknown"
            ],
            "text/html": [
              "\n",
              "  <div id=\"df-08c4c64d-5928-4764-b295-05eb31cab5ba\">\n",
              "    <div class=\"colab-df-container\">\n",
              "      <div>\n",
              "<style scoped>\n",
              "    .dataframe tbody tr th:only-of-type {\n",
              "        vertical-align: middle;\n",
              "    }\n",
              "\n",
              "    .dataframe tbody tr th {\n",
              "        vertical-align: top;\n",
              "    }\n",
              "\n",
              "    .dataframe thead th {\n",
              "        text-align: right;\n",
              "    }\n",
              "</style>\n",
              "<table border=\"1\" class=\"dataframe\">\n",
              "  <thead>\n",
              "    <tr style=\"text-align: right;\">\n",
              "      <th></th>\n",
              "      <th>Race</th>\n",
              "      <th>Gender</th>\n",
              "      <th>Educational Level</th>\n",
              "    </tr>\n",
              "  </thead>\n",
              "  <tbody>\n",
              "    <tr>\n",
              "      <th>505</th>\n",
              "      <td>White</td>\n",
              "      <td>Female</td>\n",
              "      <td>Not Reported/Unknown</td>\n",
              "    </tr>\n",
              "    <tr>\n",
              "      <th>657</th>\n",
              "      <td>Hispanic/Latino</td>\n",
              "      <td>Female</td>\n",
              "      <td>Bachelor Degree</td>\n",
              "    </tr>\n",
              "    <tr>\n",
              "      <th>1426</th>\n",
              "      <td>Hispanic/Latino</td>\n",
              "      <td>Female</td>\n",
              "      <td>Not Reported/Unknown</td>\n",
              "    </tr>\n",
              "    <tr>\n",
              "      <th>1427</th>\n",
              "      <td>Hispanic/Latino</td>\n",
              "      <td>Female</td>\n",
              "      <td>Not Reported/Unknown</td>\n",
              "    </tr>\n",
              "    <tr>\n",
              "      <th>1428</th>\n",
              "      <td>Hispanic/Latino</td>\n",
              "      <td>Female</td>\n",
              "      <td>Not Reported/Unknown</td>\n",
              "    </tr>\n",
              "  </tbody>\n",
              "</table>\n",
              "</div>\n",
              "      <button class=\"colab-df-convert\" onclick=\"convertToInteractive('df-08c4c64d-5928-4764-b295-05eb31cab5ba')\"\n",
              "              title=\"Convert this dataframe to an interactive table.\"\n",
              "              style=\"display:none;\">\n",
              "        \n",
              "  <svg xmlns=\"http://www.w3.org/2000/svg\" height=\"24px\"viewBox=\"0 0 24 24\"\n",
              "       width=\"24px\">\n",
              "    <path d=\"M0 0h24v24H0V0z\" fill=\"none\"/>\n",
              "    <path d=\"M18.56 5.44l.94 2.06.94-2.06 2.06-.94-2.06-.94-.94-2.06-.94 2.06-2.06.94zm-11 1L8.5 8.5l.94-2.06 2.06-.94-2.06-.94L8.5 2.5l-.94 2.06-2.06.94zm10 10l.94 2.06.94-2.06 2.06-.94-2.06-.94-.94-2.06-.94 2.06-2.06.94z\"/><path d=\"M17.41 7.96l-1.37-1.37c-.4-.4-.92-.59-1.43-.59-.52 0-1.04.2-1.43.59L10.3 9.45l-7.72 7.72c-.78.78-.78 2.05 0 2.83L4 21.41c.39.39.9.59 1.41.59.51 0 1.02-.2 1.41-.59l7.78-7.78 2.81-2.81c.8-.78.8-2.07 0-2.86zM5.41 20L4 18.59l7.72-7.72 1.47 1.35L5.41 20z\"/>\n",
              "  </svg>\n",
              "      </button>\n",
              "      \n",
              "  <style>\n",
              "    .colab-df-container {\n",
              "      display:flex;\n",
              "      flex-wrap:wrap;\n",
              "      gap: 12px;\n",
              "    }\n",
              "\n",
              "    .colab-df-convert {\n",
              "      background-color: #E8F0FE;\n",
              "      border: none;\n",
              "      border-radius: 50%;\n",
              "      cursor: pointer;\n",
              "      display: none;\n",
              "      fill: #1967D2;\n",
              "      height: 32px;\n",
              "      padding: 0 0 0 0;\n",
              "      width: 32px;\n",
              "    }\n",
              "\n",
              "    .colab-df-convert:hover {\n",
              "      background-color: #E2EBFA;\n",
              "      box-shadow: 0px 1px 2px rgba(60, 64, 67, 0.3), 0px 1px 3px 1px rgba(60, 64, 67, 0.15);\n",
              "      fill: #174EA6;\n",
              "    }\n",
              "\n",
              "    [theme=dark] .colab-df-convert {\n",
              "      background-color: #3B4455;\n",
              "      fill: #D2E3FC;\n",
              "    }\n",
              "\n",
              "    [theme=dark] .colab-df-convert:hover {\n",
              "      background-color: #434B5C;\n",
              "      box-shadow: 0px 1px 3px 1px rgba(0, 0, 0, 0.15);\n",
              "      filter: drop-shadow(0px 1px 2px rgba(0, 0, 0, 0.3));\n",
              "      fill: #FFFFFF;\n",
              "    }\n",
              "  </style>\n",
              "\n",
              "      <script>\n",
              "        const buttonEl =\n",
              "          document.querySelector('#df-08c4c64d-5928-4764-b295-05eb31cab5ba button.colab-df-convert');\n",
              "        buttonEl.style.display =\n",
              "          google.colab.kernel.accessAllowed ? 'block' : 'none';\n",
              "\n",
              "        async function convertToInteractive(key) {\n",
              "          const element = document.querySelector('#df-08c4c64d-5928-4764-b295-05eb31cab5ba');\n",
              "          const dataTable =\n",
              "            await google.colab.kernel.invokeFunction('convertToInteractive',\n",
              "                                                     [key], {});\n",
              "          if (!dataTable) return;\n",
              "\n",
              "          const docLinkHtml = 'Like what you see? Visit the ' +\n",
              "            '<a target=\"_blank\" href=https://colab.research.google.com/notebooks/data_table.ipynb>data table notebook</a>'\n",
              "            + ' to learn more about interactive tables.';\n",
              "          element.innerHTML = '';\n",
              "          dataTable['output_type'] = 'display_data';\n",
              "          await google.colab.output.renderOutput(dataTable, element);\n",
              "          const docLink = document.createElement('div');\n",
              "          docLink.innerHTML = docLinkHtml;\n",
              "          element.appendChild(docLink);\n",
              "        }\n",
              "      </script>\n",
              "    </div>\n",
              "  </div>\n",
              "  "
            ]
          },
          "metadata": {},
          "execution_count": 116
        }
      ]
    },
    {
      "cell_type": "markdown",
      "source": [
        "# Plot histogram"
      ],
      "metadata": {
        "id": "XABIjV0_lP8i"
      }
    },
    {
      "cell_type": "code",
      "source": [
        "# -- Plot histogram\n",
        "\n",
        "fig, ax = plt.subplots(3, 1, figsize=(20,30))\n",
        "\n",
        "col = \"Race\"\n",
        "ax[0].hist(subdata[col].sort_values(), color=\"tab:red\", bins=subdata[col].nunique())\n",
        "labels = subdata[col].unique().tolist()\n",
        "ax[0].set_xticklabels(labels, ha=\"center\")\n",
        "ax[0].set_title(col, loc=\"right\", fontsize=15)\n",
        "\n",
        "col = 'Gender'\n",
        "ax[1].hist(subdata[col].sort_values(), color=\"tab:green\")\n",
        "labels = subdata[col].unique().tolist()\n",
        "ax[1].set_xticklabels(labels, ha=\"center\")\n",
        "ax[1].set_title(col, loc=\"right\", fontsize=15)\n",
        "\n",
        "col = 'Educational Level'\n",
        "ax[2].hist(subdata[col].sort_values(), color=\"tab:blue\")\n",
        "labels = subdata[col].unique().tolist()\n",
        "ax[2].set_xticklabels(labels, ha=\"center\", rotation=45)\n",
        "ax[2].set_title(col, loc=\"right\", fontsize=15)\n",
        "\n",
        "fig.show()"
      ],
      "metadata": {
        "colab": {
          "base_uri": "https://localhost:8080/",
          "height": 1000
        },
        "id": "Ikj5SQvvc_qE",
        "outputId": "6390153f-d90e-4ead-85ed-14e34780f21a"
      },
      "execution_count": null,
      "outputs": [
        {
          "output_type": "stream",
          "name": "stderr",
          "text": [
            "<ipython-input-115-c07dda71bdc5>:8: UserWarning: FixedFormatter should only be used together with FixedLocator\n",
            "  ax[0].set_xticklabels(labels, ha=\"center\")\n",
            "<ipython-input-115-c07dda71bdc5>:14: UserWarning: FixedFormatter should only be used together with FixedLocator\n",
            "  ax[1].set_xticklabels(labels, ha=\"center\")\n",
            "<ipython-input-115-c07dda71bdc5>:20: UserWarning: FixedFormatter should only be used together with FixedLocator\n",
            "  ax[2].set_xticklabels(labels, ha=\"center\", rotation=45)\n"
          ]
        },
        {
          "output_type": "display_data",
          "data": {
            "text/plain": [
              "<Figure size 1440x2160 with 3 Axes>"
            ],
            "image/png": "[encoded data removed]"
          },
          "metadata": {
            "needs_background": "light"
          }
        }
      ]
    },
    {
      "cell_type": "markdown",
      "source": [
        "Choosing colormaps in matplotlib\n",
        "https://matplotlib.org/stable/tutorials/colors/colormaps.html"
      ],
      "metadata": {
        "id": "s3WWeE_y1Q12"
      }
    },
    {
      "cell_type": "code",
      "source": [
        "subdata[\"Gender\"].value_counts()"
      ],
      "metadata": {
        "id": "0cc6NHSPc_wR",
        "colab": {
          "base_uri": "https://localhost:8080/"
        },
        "outputId": "0a42d497-c30c-4982-9869-c35c503f4b0f"
      },
      "execution_count": null,
      "outputs": [
        {
          "output_type": "execute_result",
          "data": {
            "text/plain": [
              "Female    1226088\n",
              "Male       651963\n",
              "Name: Gender, dtype: int64"
            ]
          },
          "metadata": {},
          "execution_count": 91
        }
      ]
    },
    {
      "cell_type": "markdown",
      "source": [
        "# Plot pie chart"
      ],
      "metadata": {
        "id": "pqCfobBYHbsv"
      }
    },
    {
      "cell_type": "code",
      "source": [
        "fig, ax = plt.subplots(3,1, figsize=(10, 30))\n",
        "\n",
        "ax[0].pie(subdata[\"Gender\"].value_counts(), labels = subdata[\"Gender\"].unique().tolist(), autopct=\"%1.1f%%\")\n",
        "ax[1].pie(subdata[\"Race\"].value_counts(), labels = subdata[\"Race\"].unique().tolist(), autopct=\"%1.1f%%\")\n",
        "ax[2].pie(subdata[\"Educational Level\"].value_counts(), labels = subdata[\"Educational Level\"].unique().tolist(), autopct=\"%1.1f%%\")\n",
        "\n",
        "fig.show()\n",
        "\n",
        "fig.savefig(\"piechart.png\")"
      ],
      "metadata": {
        "colab": {
          "base_uri": "https://localhost:8080/",
          "height": 1000
        },
        "id": "heLkxVRtc_z2",
        "outputId": "b83ba858-3389-448d-cf62-b861727ecc19"
      },
      "execution_count": null,
      "outputs": [
        {
          "output_type": "display_data",
          "data": {
            "text/plain": [
              "<Figure size 720x2160 with 3 Axes>"
            ],
            "image/png": "[encoded data removed]"
          },
          "metadata": {}
        }
      ]
    },
    {
      "cell_type": "code",
      "source": [
        "# # Download images\n",
        "from google.colab import files\n",
        "\n",
        "files.download(\"piechart.png\")# # Download images\n"
      ],
      "metadata": {
        "id": "phI9u0_LQ3wJ",
        "colab": {
          "base_uri": "https://localhost:8080/",
          "height": 17
        },
        "outputId": "320e39e4-dfd9-4444-a5da-21ad9e163ae1"
      },
      "execution_count": null,
      "outputs": [
        {
          "output_type": "display_data",
          "data": {
            "text/plain": [
              "<IPython.core.display.Javascript object>"
            ],
            "application/javascript": [
              "\n",
              "    async function download(id, filename, size) {\n",
              "      if (!google.colab.kernel.accessAllowed) {\n",
              "        return;\n",
              "      }\n",
              "      const div = document.createElement('div');\n",
              "      const label = document.createElement('label');\n",
              "      label.textContent = `Downloading \"${filename}\": `;\n",
              "      div.appendChild(label);\n",
              "      const progress = document.createElement('progress');\n",
              "      progress.max = size;\n",
              "      div.appendChild(progress);\n",
              "      document.body.appendChild(div);\n",
              "\n",
              "      const buffers = [];\n",
              "      let downloaded = 0;\n",
              "\n",
              "      const channel = await google.colab.kernel.comms.open(id);\n",
              "      // Send a message to notify the kernel that we're ready.\n",
              "      channel.send({})\n",
              "\n",
              "      for await (const message of channel.messages) {\n",
              "        // Send a message to notify the kernel that we're ready.\n",
              "        channel.send({})\n",
              "        if (message.buffers) {\n",
              "          for (const buffer of message.buffers) {\n",
              "            buffers.push(buffer);\n",
              "            downloaded += buffer.byteLength;\n",
              "            progress.value = downloaded;\n",
              "          }\n",
              "        }\n",
              "      }\n",
              "      const blob = new Blob(buffers, {type: 'application/binary'});\n",
              "      const a = document.createElement('a');\n",
              "      a.href = window.URL.createObjectURL(blob);\n",
              "      a.download = filename;\n",
              "      div.appendChild(a);\n",
              "      a.click();\n",
              "      div.remove();\n",
              "    }\n",
              "  "
            ]
          },
          "metadata": {}
        },
        {
          "output_type": "display_data",
          "data": {
            "text/plain": [
              "<IPython.core.display.Javascript object>"
            ],
            "application/javascript": [
              "download(\"download_dabbf4dc-a7d8-4a77-8872-923858434770\", \"piechart.png\", 94024)"
            ]
          },
          "metadata": {}
        }
      ]
    },
    {
      "cell_type": "code",
      "source": [],
      "metadata": {
        "id": "jcIuTRFe_6Fv"
      },
      "execution_count": null,
      "outputs": []
    }
  ]
}